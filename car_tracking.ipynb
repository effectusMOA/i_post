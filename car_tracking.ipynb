{
 "cells": [
  {
   "cell_type": "code",
   "execution_count": 1,
   "metadata": {},
   "outputs": [],
   "source": [
    "from sort import *"
   ]
  },
  {
   "cell_type": "code",
   "execution_count": 2,
   "metadata": {},
   "outputs": [],
   "source": [
    "from ultralytics import YOLO\n",
    "from IPython.display import display, Image\n",
    "import cv2\n",
    "import numpy as np\n",
    "# from object_detection import ObjectDetection\n",
    "import math\n",
    "# from sort import *"
   ]
  },
  {
   "cell_type": "code",
   "execution_count": 3,
   "metadata": {},
   "outputs": [
    {
     "name": "stderr",
     "output_type": "stream",
     "text": [
      "Ultralytics YOLOv8.0.26  Python-3.10.9 torch-1.11.0+cpu CPU\n"
     ]
    },
    {
     "name": "stdout",
     "output_type": "stream",
     "text": [
      "(1920, 1080)\n"
     ]
    },
    {
     "name": "stderr",
     "output_type": "stream",
     "text": [
      "YOLOv8n summary (fused): 168 layers, 3151904 parameters, 0 gradients, 8.7 GFLOPs\n",
      "\n",
      "0: 384x640 8 cars, 180.3ms\n",
      "Speed: 0.0ms pre-process, 180.3ms inference, 5.6ms postprocess per image at shape (1, 3, 640, 640)\n",
      "\n",
      "0: 384x640 9 cars, 147.2ms\n",
      "Speed: 0.0ms pre-process, 147.2ms inference, 0.0ms postprocess per image at shape (1, 3, 640, 640)\n",
      "\n"
     ]
    },
    {
     "name": "stdout",
     "output_type": "stream",
     "text": [
      "[]\n",
      "{}\n",
      "[]\n",
      "{}\n"
     ]
    },
    {
     "name": "stderr",
     "output_type": "stream",
     "text": [
      "0: 384x640 9 cars, 152.2ms\n",
      "Speed: 0.0ms pre-process, 152.2ms inference, 0.0ms postprocess per image at shape (1, 3, 640, 640)\n",
      "\n",
      "0: 384x640 9 cars, 154.1ms\n",
      "Speed: 3.5ms pre-process, 154.1ms inference, 2.5ms postprocess per image at shape (1, 3, 640, 640)\n",
      "\n"
     ]
    },
    {
     "name": "stdout",
     "output_type": "stream",
     "text": [
      "[]\n",
      "{}\n",
      "[]\n",
      "{4: 1}\n"
     ]
    },
    {
     "name": "stderr",
     "output_type": "stream",
     "text": [
      "0: 384x640 9 cars, 124.5ms\n",
      "Speed: 1.0ms pre-process, 124.5ms inference, 0.0ms postprocess per image at shape (1, 3, 640, 640)\n",
      "\n",
      "0: 384x640 8 cars, 1 bus, 130.4ms\n",
      "Speed: 1.0ms pre-process, 130.4ms inference, 0.0ms postprocess per image at shape (1, 3, 640, 640)\n",
      "\n"
     ]
    },
    {
     "name": "stdout",
     "output_type": "stream",
     "text": [
      "[]\n",
      "{4: 2}\n",
      "[]\n",
      "{4: 2}\n"
     ]
    },
    {
     "name": "stderr",
     "output_type": "stream",
     "text": [
      "0: 384x640 7 cars, 140.7ms\n",
      "Speed: 0.0ms pre-process, 140.7ms inference, 8.0ms postprocess per image at shape (1, 3, 640, 640)\n",
      "\n",
      "0: 384x640 8 cars, 158.6ms\n"
     ]
    },
    {
     "name": "stdout",
     "output_type": "stream",
     "text": [
      "[]\n",
      "{4: 2}\n"
     ]
    },
    {
     "name": "stderr",
     "output_type": "stream",
     "text": [
      "Speed: 0.0ms pre-process, 158.6ms inference, 0.1ms postprocess per image at shape (1, 3, 640, 640)\n",
      "\n",
      "0: 384x640 9 cars, 151.1ms\n",
      "Speed: 0.0ms pre-process, 151.1ms inference, 2.7ms postprocess per image at shape (1, 3, 640, 640)\n",
      "\n"
     ]
    },
    {
     "name": "stdout",
     "output_type": "stream",
     "text": [
      "[]\n",
      "{4: 2}\n",
      "[]\n",
      "{4: 2}\n"
     ]
    },
    {
     "name": "stderr",
     "output_type": "stream",
     "text": [
      "0: 384x640 10 cars, 160.9ms\n",
      "Speed: 0.0ms pre-process, 160.9ms inference, 0.0ms postprocess per image at shape (1, 3, 640, 640)\n",
      "\n",
      "0: 384x640 8 cars, 1 truck, 141.8ms\n",
      "Speed: 4.0ms pre-process, 141.8ms inference, 0.0ms postprocess per image at shape (1, 3, 640, 640)\n",
      "\n"
     ]
    },
    {
     "name": "stdout",
     "output_type": "stream",
     "text": [
      "[]\n",
      "{4: 2}\n",
      "[]\n",
      "{4: 2}\n"
     ]
    },
    {
     "name": "stderr",
     "output_type": "stream",
     "text": [
      "0: 384x640 10 cars, 120.5ms\n",
      "Speed: 1.0ms pre-process, 120.5ms inference, 0.0ms postprocess per image at shape (1, 3, 640, 640)\n",
      "\n",
      "0: 384x640 9 cars, 125.8ms\n",
      "Speed: 0.0ms pre-process, 125.8ms inference, 14.5ms postprocess per image at shape (1, 3, 640, 640)\n",
      "\n"
     ]
    },
    {
     "name": "stdout",
     "output_type": "stream",
     "text": [
      "[]\n",
      "{4: 2, 11: 1}\n",
      "[]\n",
      "{4: 2, 11: 1}\n"
     ]
    },
    {
     "name": "stderr",
     "output_type": "stream",
     "text": [
      "0: 384x640 10 cars, 131.8ms\n",
      "Speed: 8.8ms pre-process, 131.8ms inference, 0.0ms postprocess per image at shape (1, 3, 640, 640)\n",
      "\n",
      "0: 384x640 9 cars, 108.5ms\n",
      "Speed: 7.9ms pre-process, 108.5ms inference, 2.7ms postprocess per image at shape (1, 3, 640, 640)\n",
      "\n"
     ]
    },
    {
     "name": "stdout",
     "output_type": "stream",
     "text": [
      "[]\n",
      "{4: 2, 11: 1}\n",
      "[]\n",
      "{4: 2, 11: 1}\n"
     ]
    },
    {
     "name": "stderr",
     "output_type": "stream",
     "text": [
      "0: 384x640 8 cars, 1 truck, 135.6ms\n",
      "Speed: 0.0ms pre-process, 135.6ms inference, 2.4ms postprocess per image at shape (1, 3, 640, 640)\n",
      "\n",
      "0: 384x640 9 cars, 125.7ms\n",
      "Speed: 0.0ms pre-process, 125.7ms inference, 4.9ms postprocess per image at shape (1, 3, 640, 640)\n",
      "\n"
     ]
    },
    {
     "name": "stdout",
     "output_type": "stream",
     "text": [
      "[]\n",
      "{4: 2, 11: 2, 5: 1}\n",
      "[]\n",
      "{4: 2, 11: 3, 5: 2}\n"
     ]
    },
    {
     "name": "stderr",
     "output_type": "stream",
     "text": [
      "0: 384x640 9 cars, 132.4ms\n",
      "Speed: 0.0ms pre-process, 132.4ms inference, 0.0ms postprocess per image at shape (1, 3, 640, 640)\n",
      "\n",
      "0: 384x640 10 cars, 139.9ms\n",
      "Speed: 0.0ms pre-process, 139.9ms inference, 4.9ms postprocess per image at shape (1, 3, 640, 640)\n",
      "\n"
     ]
    },
    {
     "name": "stdout",
     "output_type": "stream",
     "text": [
      "[]\n",
      "{4: 2, 11: 4, 5: 3}\n",
      "[]\n",
      "{4: 2, 11: 5, 5: 4}\n"
     ]
    },
    {
     "name": "stderr",
     "output_type": "stream",
     "text": [
      "0: 384x640 10 cars, 138.8ms\n",
      "Speed: 0.0ms pre-process, 138.8ms inference, 8.1ms postprocess per image at shape (1, 3, 640, 640)\n",
      "\n",
      "0: 384x640 10 cars, 114.8ms\n",
      "Speed: 0.0ms pre-process, 114.8ms inference, 0.0ms postprocess per image at shape (1, 3, 640, 640)\n",
      "\n"
     ]
    },
    {
     "name": "stdout",
     "output_type": "stream",
     "text": [
      "[]\n",
      "{4: 2, 11: 6, 5: 5}\n",
      "[]\n",
      "{4: 2, 11: 7, 5: 6}\n"
     ]
    },
    {
     "name": "stderr",
     "output_type": "stream",
     "text": [
      "0: 384x640 10 cars, 139.6ms\n",
      "Speed: 0.0ms pre-process, 139.6ms inference, 8.1ms postprocess per image at shape (1, 3, 640, 640)\n",
      "\n",
      "0: 384x640 10 cars, 122.7ms\n",
      "Speed: 0.0ms pre-process, 122.7ms inference, 0.0ms postprocess per image at shape (1, 3, 640, 640)\n",
      "\n"
     ]
    },
    {
     "name": "stdout",
     "output_type": "stream",
     "text": [
      "[]\n",
      "{4: 2, 11: 8, 5: 7}\n",
      "[]\n",
      "{4: 2, 11: 9, 5: 8}\n"
     ]
    },
    {
     "name": "stderr",
     "output_type": "stream",
     "text": [
      "0: 384x640 11 cars, 100.2ms\n",
      "Speed: 0.0ms pre-process, 100.2ms inference, 0.0ms postprocess per image at shape (1, 3, 640, 640)\n",
      "\n",
      "0: 384x640 10 cars, 106.4ms\n",
      "Speed: 0.0ms pre-process, 106.4ms inference, 0.0ms postprocess per image at shape (1, 3, 640, 640)\n",
      "\n"
     ]
    },
    {
     "name": "stdout",
     "output_type": "stream",
     "text": [
      "[]\n",
      "{4: 2, 11: 10, 5: 9}\n",
      "[]\n",
      "{4: 2, 11: 11, 5: 10}\n"
     ]
    },
    {
     "name": "stderr",
     "output_type": "stream",
     "text": [
      "0: 384x640 9 cars, 127.1ms\n",
      "Speed: 0.0ms pre-process, 127.1ms inference, 0.0ms postprocess per image at shape (1, 3, 640, 640)\n",
      "\n",
      "0: 384x640 11 cars, 104.2ms\n",
      "Speed: 1.3ms pre-process, 104.2ms inference, 0.0ms postprocess per image at shape (1, 3, 640, 640)\n",
      "\n"
     ]
    },
    {
     "name": "stdout",
     "output_type": "stream",
     "text": [
      "[]\n",
      "{4: 2, 11: 12, 5: 10}\n",
      "[]\n",
      "{4: 2, 11: 13, 5: 10}\n"
     ]
    },
    {
     "name": "stderr",
     "output_type": "stream",
     "text": [
      "0: 384x640 9 cars, 101.7ms\n",
      "Speed: 5.1ms pre-process, 101.7ms inference, 0.0ms postprocess per image at shape (1, 3, 640, 640)\n",
      "\n",
      "0: 384x640 8 cars, 1 truck, 120.9ms\n",
      "Speed: 9.7ms pre-process, 120.9ms inference, 0.0ms postprocess per image at shape (1, 3, 640, 640)\n",
      "\n"
     ]
    },
    {
     "name": "stdout",
     "output_type": "stream",
     "text": [
      "[]\n",
      "{4: 2, 11: 14, 5: 10}\n",
      "[]\n",
      "{4: 2, 11: 15, 5: 10}\n"
     ]
    },
    {
     "name": "stderr",
     "output_type": "stream",
     "text": [
      "0: 384x640 9 cars, 133.1ms\n",
      "Speed: 0.0ms pre-process, 133.1ms inference, 2.0ms postprocess per image at shape (1, 3, 640, 640)\n",
      "\n",
      "0: 384x640 9 cars, 1 truck, 116.5ms\n",
      "Speed: 8.1ms pre-process, 116.5ms inference, 6.9ms postprocess per image at shape (1, 3, 640, 640)\n",
      "\n"
     ]
    },
    {
     "name": "stdout",
     "output_type": "stream",
     "text": [
      "[]\n",
      "{4: 2, 11: 16, 5: 10}\n",
      "[]\n",
      "{4: 2, 11: 17, 5: 10}\n"
     ]
    },
    {
     "name": "stderr",
     "output_type": "stream",
     "text": [
      "0: 384x640 9 cars, 2 trucks, 134.9ms\n",
      "Speed: 0.0ms pre-process, 134.9ms inference, 0.0ms postprocess per image at shape (1, 3, 640, 640)\n",
      "\n",
      "0: 384x640 11 cars, 1 truck, 99.7ms\n",
      "Speed: 0.0ms pre-process, 99.7ms inference, 0.0ms postprocess per image at shape (1, 3, 640, 640)\n",
      "\n"
     ]
    },
    {
     "name": "stdout",
     "output_type": "stream",
     "text": [
      "[]\n",
      "{4: 2, 11: 18, 5: 10}\n",
      "[]\n",
      "{4: 2, 11: 19, 5: 10}\n"
     ]
    },
    {
     "name": "stderr",
     "output_type": "stream",
     "text": [
      "0: 384x640 10 cars, 115.0ms\n",
      "Speed: 0.0ms pre-process, 115.0ms inference, 0.0ms postprocess per image at shape (1, 3, 640, 640)\n",
      "\n",
      "0: 384x640 10 cars, 99.3ms\n",
      "Speed: 0.0ms pre-process, 99.3ms inference, 0.0ms postprocess per image at shape (1, 3, 640, 640)\n",
      "\n"
     ]
    },
    {
     "name": "stdout",
     "output_type": "stream",
     "text": [
      "[]\n",
      "{4: 2, 11: 20, 5: 10}\n",
      "[]\n",
      "{4: 2, 11: 21, 5: 10}\n"
     ]
    },
    {
     "name": "stderr",
     "output_type": "stream",
     "text": [
      "0: 384x640 10 cars, 102.7ms\n",
      "Speed: 0.0ms pre-process, 102.7ms inference, 0.0ms postprocess per image at shape (1, 3, 640, 640)\n",
      "\n",
      "0: 384x640 10 cars, 1 truck, 106.3ms\n",
      "Speed: 0.0ms pre-process, 106.3ms inference, 0.0ms postprocess per image at shape (1, 3, 640, 640)\n",
      "\n"
     ]
    },
    {
     "name": "stdout",
     "output_type": "stream",
     "text": [
      "[]\n",
      "{4: 2, 11: 22, 5: 10}\n",
      "[]\n",
      "{4: 2, 11: 23, 5: 10}\n"
     ]
    },
    {
     "name": "stderr",
     "output_type": "stream",
     "text": [
      "0: 384x640 10 cars, 1 truck, 125.8ms\n",
      "Speed: 8.0ms pre-process, 125.8ms inference, 6.0ms postprocess per image at shape (1, 3, 640, 640)\n",
      "\n",
      "0: 384x640 10 cars, 96.8ms\n",
      "Speed: 2.2ms pre-process, 96.8ms inference, 0.0ms postprocess per image at shape (1, 3, 640, 640)\n",
      "\n"
     ]
    },
    {
     "name": "stdout",
     "output_type": "stream",
     "text": [
      "[]\n",
      "{4: 2, 11: 24, 5: 10}\n",
      "[]\n",
      "{4: 2, 11: 25, 5: 10}\n"
     ]
    },
    {
     "name": "stderr",
     "output_type": "stream",
     "text": [
      "0: 384x640 10 cars, 145.9ms\n",
      "Speed: 1.1ms pre-process, 145.9ms inference, 5.6ms postprocess per image at shape (1, 3, 640, 640)\n",
      "\n",
      "0: 384x640 10 cars, 144.7ms\n",
      "Speed: 0.0ms pre-process, 144.7ms inference, 1.8ms postprocess per image at shape (1, 3, 640, 640)\n",
      "\n"
     ]
    },
    {
     "name": "stdout",
     "output_type": "stream",
     "text": [
      "[]\n",
      "{4: 2, 11: 26, 5: 10}\n",
      "[]\n",
      "{4: 2, 11: 27, 5: 10}\n"
     ]
    },
    {
     "name": "stderr",
     "output_type": "stream",
     "text": [
      "0: 384x640 9 cars, 1 truck, 138.9ms\n",
      "Speed: 3.8ms pre-process, 138.9ms inference, 4.5ms postprocess per image at shape (1, 3, 640, 640)\n",
      "\n",
      "0: 384x640 9 cars, 1 truck, 131.4ms\n",
      "Speed: 0.0ms pre-process, 131.4ms inference, 8.1ms postprocess per image at shape (1, 3, 640, 640)\n",
      "\n"
     ]
    },
    {
     "name": "stdout",
     "output_type": "stream",
     "text": [
      "[]\n",
      "{4: 2, 11: 28, 5: 10}\n",
      "[]\n",
      "{4: 2, 11: 29, 5: 10}\n"
     ]
    },
    {
     "name": "stderr",
     "output_type": "stream",
     "text": [
      "0: 384x640 10 cars, 1 truck, 135.5ms\n",
      "Speed: 13.1ms pre-process, 135.5ms inference, 0.0ms postprocess per image at shape (1, 3, 640, 640)\n",
      "\n",
      "0: 384x640 10 cars, 1 truck, 125.7ms\n",
      "Speed: 0.0ms pre-process, 125.7ms inference, 7.4ms postprocess per image at shape (1, 3, 640, 640)\n",
      "\n"
     ]
    },
    {
     "name": "stdout",
     "output_type": "stream",
     "text": [
      "[]\n",
      "{4: 2, 11: 30, 5: 10}\n",
      "[11]\n",
      "{4: 2, 11: 31, 5: 10}\n"
     ]
    },
    {
     "name": "stderr",
     "output_type": "stream",
     "text": [
      "0: 384x640 10 cars, 1 truck, 113.4ms\n",
      "Speed: 0.0ms pre-process, 113.4ms inference, 0.0ms postprocess per image at shape (1, 3, 640, 640)\n",
      "\n",
      "0: 384x640 11 cars, 1 truck, 138.0ms\n",
      "Speed: 1.0ms pre-process, 138.0ms inference, 2.8ms postprocess per image at shape (1, 3, 640, 640)\n",
      "\n"
     ]
    },
    {
     "name": "stdout",
     "output_type": "stream",
     "text": [
      "[11]\n",
      "{4: 2, 11: 32, 5: 10}\n",
      "[11]\n",
      "{4: 2, 11: 33, 5: 10}\n"
     ]
    },
    {
     "name": "stderr",
     "output_type": "stream",
     "text": [
      "0: 384x640 10 cars, 148.7ms\n",
      "Speed: 0.0ms pre-process, 148.7ms inference, 2.0ms postprocess per image at shape (1, 3, 640, 640)\n",
      "\n",
      "0: 384x640 10 cars, 118.4ms\n",
      "Speed: 0.0ms pre-process, 118.4ms inference, 0.0ms postprocess per image at shape (1, 3, 640, 640)\n",
      "\n"
     ]
    },
    {
     "name": "stdout",
     "output_type": "stream",
     "text": [
      "[11]\n",
      "{4: 2, 11: 34, 5: 10}\n",
      "[11]\n",
      "{4: 2, 11: 35, 5: 10}\n"
     ]
    },
    {
     "name": "stderr",
     "output_type": "stream",
     "text": [
      "0: 384x640 10 cars, 1 truck, 136.9ms\n",
      "Speed: 0.0ms pre-process, 136.9ms inference, 1.3ms postprocess per image at shape (1, 3, 640, 640)\n",
      "\n",
      "0: 384x640 10 cars, 133.2ms\n",
      "Speed: 0.0ms pre-process, 133.2ms inference, 7.9ms postprocess per image at shape (1, 3, 640, 640)\n",
      "\n"
     ]
    },
    {
     "name": "stdout",
     "output_type": "stream",
     "text": [
      "[11]\n",
      "{4: 2, 11: 36, 5: 10}\n",
      "[11]\n",
      "{4: 2, 11: 37, 5: 10}\n"
     ]
    },
    {
     "name": "stderr",
     "output_type": "stream",
     "text": [
      "0: 384x640 11 cars, 134.7ms\n",
      "Speed: 0.0ms pre-process, 134.7ms inference, 0.0ms postprocess per image at shape (1, 3, 640, 640)\n",
      "\n",
      "0: 384x640 11 cars, 127.7ms\n",
      "Speed: 0.0ms pre-process, 127.7ms inference, 0.0ms postprocess per image at shape (1, 3, 640, 640)\n",
      "\n"
     ]
    },
    {
     "name": "stdout",
     "output_type": "stream",
     "text": [
      "[11]\n",
      "{4: 2, 11: 38, 5: 10}\n",
      "[11]\n",
      "{4: 2, 11: 39, 5: 10}\n"
     ]
    },
    {
     "name": "stderr",
     "output_type": "stream",
     "text": [
      "0: 384x640 11 cars, 144.3ms\n",
      "Speed: 0.0ms pre-process, 144.3ms inference, 2.1ms postprocess per image at shape (1, 3, 640, 640)\n",
      "\n",
      "0: 384x640 11 cars, 128.9ms\n",
      "Speed: 5.6ms pre-process, 128.9ms inference, 0.0ms postprocess per image at shape (1, 3, 640, 640)\n",
      "\n"
     ]
    },
    {
     "name": "stdout",
     "output_type": "stream",
     "text": [
      "[11]\n",
      "{4: 2, 11: 40, 5: 10}\n",
      "[11]\n",
      "{4: 2, 11: 41, 5: 10}\n"
     ]
    },
    {
     "name": "stderr",
     "output_type": "stream",
     "text": [
      "0: 384x640 11 cars, 156.6ms\n",
      "Speed: 0.0ms pre-process, 156.6ms inference, 0.0ms postprocess per image at shape (1, 3, 640, 640)\n",
      "\n",
      "0: 384x640 11 cars, 140.0ms\n",
      "Speed: 0.0ms pre-process, 140.0ms inference, 9.5ms postprocess per image at shape (1, 3, 640, 640)\n",
      "\n"
     ]
    },
    {
     "name": "stdout",
     "output_type": "stream",
     "text": [
      "[11]\n",
      "{4: 2, 11: 42, 5: 10}\n",
      "[11]\n",
      "{4: 2, 11: 43, 5: 10}\n"
     ]
    },
    {
     "name": "stderr",
     "output_type": "stream",
     "text": [
      "0: 384x640 11 cars, 161.4ms\n",
      "Speed: 0.0ms pre-process, 161.4ms inference, 8.0ms postprocess per image at shape (1, 3, 640, 640)\n",
      "\n",
      "0: 384x640 11 cars, 135.5ms\n",
      "Speed: 0.0ms pre-process, 135.5ms inference, 6.5ms postprocess per image at shape (1, 3, 640, 640)\n",
      "\n"
     ]
    },
    {
     "name": "stdout",
     "output_type": "stream",
     "text": [
      "[11]\n",
      "{4: 2, 11: 44, 5: 10}\n",
      "[11]\n",
      "{4: 2, 11: 45, 5: 10}\n"
     ]
    },
    {
     "name": "stderr",
     "output_type": "stream",
     "text": [
      "0: 384x640 10 cars, 144.5ms\n",
      "Speed: 0.0ms pre-process, 144.5ms inference, 0.0ms postprocess per image at shape (1, 3, 640, 640)\n",
      "\n",
      "0: 384x640 10 cars, 141.6ms\n",
      "Speed: 0.0ms pre-process, 141.6ms inference, 0.0ms postprocess per image at shape (1, 3, 640, 640)\n",
      "\n"
     ]
    },
    {
     "name": "stdout",
     "output_type": "stream",
     "text": [
      "[11]\n",
      "{4: 2, 11: 46, 5: 10}\n",
      "[11]\n",
      "{4: 2, 11: 47, 5: 10}\n"
     ]
    },
    {
     "name": "stderr",
     "output_type": "stream",
     "text": [
      "0: 384x640 10 cars, 148.3ms\n",
      "Speed: 0.0ms pre-process, 148.3ms inference, 0.0ms postprocess per image at shape (1, 3, 640, 640)\n",
      "\n",
      "0: 384x640 9 cars, 148.2ms\n",
      "Speed: 0.0ms pre-process, 148.2ms inference, 8.0ms postprocess per image at shape (1, 3, 640, 640)\n",
      "\n"
     ]
    },
    {
     "name": "stdout",
     "output_type": "stream",
     "text": [
      "[11]\n",
      "{4: 2, 11: 48, 5: 10}\n",
      "[11]\n",
      "{4: 2, 11: 49, 5: 10}\n"
     ]
    },
    {
     "name": "stderr",
     "output_type": "stream",
     "text": [
      "0: 384x640 8 cars, 155.1ms\n",
      "Speed: 0.0ms pre-process, 155.1ms inference, 0.0ms postprocess per image at shape (1, 3, 640, 640)\n",
      "\n",
      "0: 384x640 8 cars, 143.4ms\n",
      "Speed: 0.0ms pre-process, 143.4ms inference, 0.0ms postprocess per image at shape (1, 3, 640, 640)\n",
      "\n"
     ]
    },
    {
     "name": "stdout",
     "output_type": "stream",
     "text": [
      "[11]\n",
      "{4: 2, 11: 49, 5: 10}\n",
      "[11]\n",
      "{4: 2, 11: 49, 5: 10}\n"
     ]
    },
    {
     "name": "stderr",
     "output_type": "stream",
     "text": [
      "0: 384x640 8 cars, 163.6ms\n",
      "Speed: 0.0ms pre-process, 163.6ms inference, 8.1ms postprocess per image at shape (1, 3, 640, 640)\n",
      "\n",
      "0: 384x640 8 cars, 1 truck, 144.0ms\n",
      "Speed: 0.0ms pre-process, 144.0ms inference, 0.0ms postprocess per image at shape (1, 3, 640, 640)\n",
      "\n"
     ]
    },
    {
     "name": "stdout",
     "output_type": "stream",
     "text": [
      "[11]\n",
      "{4: 2, 11: 49, 5: 10}\n",
      "[11]\n",
      "{4: 2, 11: 49, 5: 10}\n"
     ]
    },
    {
     "name": "stderr",
     "output_type": "stream",
     "text": [
      "0: 384x640 8 cars, 148.3ms\n",
      "Speed: 0.0ms pre-process, 148.3ms inference, 2.8ms postprocess per image at shape (1, 3, 640, 640)\n",
      "\n",
      "0: 384x640 8 cars, 125.7ms\n",
      "Speed: 0.0ms pre-process, 125.7ms inference, 5.2ms postprocess per image at shape (1, 3, 640, 640)\n",
      "\n"
     ]
    },
    {
     "name": "stdout",
     "output_type": "stream",
     "text": [
      "[11]\n",
      "{4: 2, 11: 49, 5: 10}\n",
      "[11]\n",
      "{4: 2, 11: 49, 5: 10}\n"
     ]
    },
    {
     "name": "stderr",
     "output_type": "stream",
     "text": [
      "0: 384x640 8 cars, 155.2ms\n",
      "Speed: 0.0ms pre-process, 155.2ms inference, 5.7ms postprocess per image at shape (1, 3, 640, 640)\n",
      "\n",
      "0: 384x640 9 cars, 119.5ms\n",
      "Speed: 0.0ms pre-process, 119.5ms inference, 5.3ms postprocess per image at shape (1, 3, 640, 640)\n",
      "\n"
     ]
    },
    {
     "name": "stdout",
     "output_type": "stream",
     "text": [
      "[11]\n",
      "{4: 2, 11: 49, 5: 10}\n",
      "[11]\n",
      "{4: 2, 11: 49, 5: 10}\n"
     ]
    },
    {
     "name": "stderr",
     "output_type": "stream",
     "text": [
      "0: 384x640 8 cars, 135.2ms\n",
      "Speed: 0.0ms pre-process, 135.2ms inference, 0.0ms postprocess per image at shape (1, 3, 640, 640)\n",
      "\n",
      "0: 384x640 9 cars, 134.6ms\n",
      "Speed: 0.0ms pre-process, 134.6ms inference, 0.0ms postprocess per image at shape (1, 3, 640, 640)\n",
      "\n"
     ]
    },
    {
     "name": "stdout",
     "output_type": "stream",
     "text": [
      "[11]\n",
      "{4: 2, 11: 49, 5: 10}\n",
      "[11]\n",
      "{4: 2, 11: 49, 5: 10}\n"
     ]
    },
    {
     "name": "stderr",
     "output_type": "stream",
     "text": [
      "0: 384x640 9 cars, 155.5ms\n",
      "Speed: 0.0ms pre-process, 155.5ms inference, 0.0ms postprocess per image at shape (1, 3, 640, 640)\n",
      "\n",
      "0: 384x640 8 cars, 138.0ms\n",
      "Speed: 0.0ms pre-process, 138.0ms inference, 7.0ms postprocess per image at shape (1, 3, 640, 640)\n",
      "\n"
     ]
    },
    {
     "name": "stdout",
     "output_type": "stream",
     "text": [
      "[11]\n",
      "{4: 2, 11: 49, 5: 10}\n",
      "[11]\n",
      "{4: 2, 11: 49, 5: 10}\n"
     ]
    },
    {
     "name": "stderr",
     "output_type": "stream",
     "text": [
      "0: 384x640 9 cars, 165.9ms\n",
      "Speed: 1.3ms pre-process, 165.9ms inference, 0.0ms postprocess per image at shape (1, 3, 640, 640)\n",
      "\n",
      "0: 384x640 9 cars, 145.1ms\n",
      "Speed: 0.0ms pre-process, 145.1ms inference, 0.0ms postprocess per image at shape (1, 3, 640, 640)\n",
      "\n"
     ]
    },
    {
     "name": "stdout",
     "output_type": "stream",
     "text": [
      "[11]\n",
      "{4: 2, 11: 49, 5: 10}\n",
      "[11]\n",
      "{4: 2, 11: 49, 5: 10}\n"
     ]
    },
    {
     "name": "stderr",
     "output_type": "stream",
     "text": [
      "0: 384x640 9 cars, 137.7ms\n",
      "Speed: 2.5ms pre-process, 137.7ms inference, 0.0ms postprocess per image at shape (1, 3, 640, 640)\n",
      "\n",
      "0: 384x640 8 cars, 1 truck, 130.9ms\n",
      "Speed: 0.0ms pre-process, 130.9ms inference, 8.8ms postprocess per image at shape (1, 3, 640, 640)\n",
      "\n"
     ]
    },
    {
     "name": "stdout",
     "output_type": "stream",
     "text": [
      "[11]\n",
      "{4: 2, 11: 49, 5: 10}\n",
      "[11]\n",
      "{4: 2, 11: 49, 5: 10}\n"
     ]
    },
    {
     "name": "stderr",
     "output_type": "stream",
     "text": [
      "0: 384x640 8 cars, 1 truck, 148.5ms\n",
      "Speed: 12.0ms pre-process, 148.5ms inference, 0.0ms postprocess per image at shape (1, 3, 640, 640)\n",
      "\n",
      "0: 384x640 8 cars, 115.2ms\n",
      "Speed: 8.0ms pre-process, 115.2ms inference, 0.0ms postprocess per image at shape (1, 3, 640, 640)\n",
      "\n"
     ]
    },
    {
     "name": "stdout",
     "output_type": "stream",
     "text": [
      "[11]\n",
      "{4: 2, 11: 49, 5: 10}\n",
      "[11]\n",
      "{4: 2, 11: 49, 5: 10}\n"
     ]
    },
    {
     "name": "stderr",
     "output_type": "stream",
     "text": [
      "0: 384x640 9 cars, 1 truck, 120.9ms\n",
      "Speed: 0.0ms pre-process, 120.9ms inference, 0.0ms postprocess per image at shape (1, 3, 640, 640)\n",
      "\n",
      "0: 384x640 9 cars, 123.5ms\n",
      "Speed: 0.0ms pre-process, 123.5ms inference, 0.0ms postprocess per image at shape (1, 3, 640, 640)\n",
      "\n"
     ]
    },
    {
     "name": "stdout",
     "output_type": "stream",
     "text": [
      "[11]\n",
      "{4: 2, 11: 49, 5: 10}\n",
      "[11]\n",
      "{4: 2, 11: 49, 5: 10}\n"
     ]
    },
    {
     "name": "stderr",
     "output_type": "stream",
     "text": [
      "0: 384x640 10 cars, 132.7ms\n",
      "Speed: 0.0ms pre-process, 132.7ms inference, 0.0ms postprocess per image at shape (1, 3, 640, 640)\n",
      "\n",
      "0: 384x640 9 cars, 119.4ms\n",
      "Speed: 0.0ms pre-process, 119.4ms inference, 0.0ms postprocess per image at shape (1, 3, 640, 640)\n",
      "\n"
     ]
    },
    {
     "name": "stdout",
     "output_type": "stream",
     "text": [
      "[11]\n",
      "{4: 2, 11: 49, 5: 10}\n",
      "[11]\n",
      "{4: 2, 11: 49, 5: 10}\n"
     ]
    },
    {
     "name": "stderr",
     "output_type": "stream",
     "text": [
      "0: 384x640 10 cars, 121.1ms\n",
      "Speed: 0.0ms pre-process, 121.1ms inference, 0.0ms postprocess per image at shape (1, 3, 640, 640)\n",
      "\n",
      "0: 384x640 9 cars, 1 truck, 130.9ms\n",
      "Speed: 0.0ms pre-process, 130.9ms inference, 0.0ms postprocess per image at shape (1, 3, 640, 640)\n",
      "\n"
     ]
    },
    {
     "name": "stdout",
     "output_type": "stream",
     "text": [
      "[11]\n",
      "{4: 2, 11: 49, 5: 10}\n",
      "[11]\n",
      "{4: 2, 11: 49, 5: 10}\n"
     ]
    },
    {
     "name": "stderr",
     "output_type": "stream",
     "text": [
      "0: 384x640 11 cars, 142.8ms\n",
      "Speed: 0.0ms pre-process, 142.8ms inference, 12.8ms postprocess per image at shape (1, 3, 640, 640)\n",
      "\n",
      "0: 384x640 12 cars, 1 truck, 123.0ms\n",
      "Speed: 0.0ms pre-process, 123.0ms inference, 0.0ms postprocess per image at shape (1, 3, 640, 640)\n",
      "\n"
     ]
    },
    {
     "name": "stdout",
     "output_type": "stream",
     "text": [
      "[11]\n",
      "{4: 2, 11: 49, 5: 10}\n",
      "[11]\n",
      "{4: 2, 11: 49, 5: 10}\n"
     ]
    },
    {
     "name": "stderr",
     "output_type": "stream",
     "text": [
      "0: 384x640 11 cars, 122.7ms\n",
      "Speed: 0.0ms pre-process, 122.7ms inference, 0.0ms postprocess per image at shape (1, 3, 640, 640)\n",
      "\n",
      "0: 384x640 11 cars, 124.0ms\n",
      "Speed: 1.1ms pre-process, 124.0ms inference, 0.0ms postprocess per image at shape (1, 3, 640, 640)\n",
      "\n"
     ]
    },
    {
     "name": "stdout",
     "output_type": "stream",
     "text": [
      "[11]\n",
      "{4: 2, 11: 49, 5: 10}\n",
      "[11]\n",
      "{4: 2, 11: 49, 5: 10}\n"
     ]
    },
    {
     "name": "stderr",
     "output_type": "stream",
     "text": [
      "0: 384x640 12 cars, 144.1ms\n",
      "Speed: 0.0ms pre-process, 144.1ms inference, 0.0ms postprocess per image at shape (1, 3, 640, 640)\n",
      "\n",
      "0: 384x640 12 cars, 1 truck, 136.2ms\n",
      "Speed: 0.0ms pre-process, 136.2ms inference, 0.0ms postprocess per image at shape (1, 3, 640, 640)\n",
      "\n"
     ]
    },
    {
     "name": "stdout",
     "output_type": "stream",
     "text": [
      "[11]\n",
      "{4: 2, 11: 49, 5: 10}\n",
      "[11]\n",
      "{4: 2, 11: 49, 5: 10}\n"
     ]
    },
    {
     "name": "stderr",
     "output_type": "stream",
     "text": [
      "0: 384x640 13 cars, 139.2ms\n",
      "Speed: 0.0ms pre-process, 139.2ms inference, 0.0ms postprocess per image at shape (1, 3, 640, 640)\n",
      "\n",
      "0: 384x640 12 cars, 2 trucks, 117.9ms\n",
      "Speed: 8.1ms pre-process, 117.9ms inference, 8.0ms postprocess per image at shape (1, 3, 640, 640)\n",
      "\n"
     ]
    },
    {
     "name": "stdout",
     "output_type": "stream",
     "text": [
      "[11]\n",
      "{4: 2, 11: 49, 5: 10}\n",
      "[11]\n",
      "{4: 2, 11: 49, 5: 10}\n"
     ]
    },
    {
     "name": "stderr",
     "output_type": "stream",
     "text": [
      "0: 384x640 11 cars, 132.9ms\n",
      "Speed: 1.1ms pre-process, 132.9ms inference, 0.0ms postprocess per image at shape (1, 3, 640, 640)\n",
      "\n",
      "0: 384x640 12 cars, 117.1ms\n",
      "Speed: 0.0ms pre-process, 117.1ms inference, 0.0ms postprocess per image at shape (1, 3, 640, 640)\n",
      "\n"
     ]
    },
    {
     "name": "stdout",
     "output_type": "stream",
     "text": [
      "[11]\n",
      "{4: 2, 11: 49, 5: 10}\n",
      "[11]\n",
      "{4: 2, 11: 49, 5: 10}\n"
     ]
    },
    {
     "name": "stderr",
     "output_type": "stream",
     "text": [
      "0: 384x640 12 cars, 110.9ms\n",
      "Speed: 0.0ms pre-process, 110.9ms inference, 0.0ms postprocess per image at shape (1, 3, 640, 640)\n",
      "\n",
      "0: 384x640 12 cars, 1 truck, 119.9ms\n",
      "Speed: 0.0ms pre-process, 119.9ms inference, 8.0ms postprocess per image at shape (1, 3, 640, 640)\n",
      "\n"
     ]
    },
    {
     "name": "stdout",
     "output_type": "stream",
     "text": [
      "[11]\n",
      "{4: 2, 11: 49, 5: 10}\n",
      "[11]\n",
      "{4: 2, 11: 49, 5: 10, 8: 1}\n"
     ]
    },
    {
     "name": "stderr",
     "output_type": "stream",
     "text": [
      "0: 384x640 12 cars, 139.4ms\n",
      "Speed: 0.0ms pre-process, 139.4ms inference, 0.0ms postprocess per image at shape (1, 3, 640, 640)\n",
      "\n",
      "0: 384x640 11 cars, 116.0ms\n",
      "Speed: 0.0ms pre-process, 116.0ms inference, 0.0ms postprocess per image at shape (1, 3, 640, 640)\n",
      "\n"
     ]
    },
    {
     "name": "stdout",
     "output_type": "stream",
     "text": [
      "[11]\n",
      "{4: 2, 11: 49, 5: 10, 8: 2}\n",
      "[11]\n",
      "{4: 2, 11: 49, 5: 10, 8: 3}\n"
     ]
    },
    {
     "name": "stderr",
     "output_type": "stream",
     "text": [
      "0: 384x640 11 cars, 133.6ms\n",
      "Speed: 0.0ms pre-process, 133.6ms inference, 0.0ms postprocess per image at shape (1, 3, 640, 640)\n",
      "\n",
      "0: 384x640 11 cars, 1 bus, 109.4ms\n",
      "Speed: 0.2ms pre-process, 109.4ms inference, 0.0ms postprocess per image at shape (1, 3, 640, 640)\n",
      "\n"
     ]
    },
    {
     "name": "stdout",
     "output_type": "stream",
     "text": [
      "[11]\n",
      "{4: 2, 11: 49, 5: 10, 8: 4}\n",
      "[11]\n",
      "{4: 2, 11: 49, 5: 10, 8: 5}\n"
     ]
    },
    {
     "name": "stderr",
     "output_type": "stream",
     "text": [
      "0: 384x640 13 cars, 1 bus, 118.5ms\n",
      "Speed: 0.0ms pre-process, 118.5ms inference, 0.0ms postprocess per image at shape (1, 3, 640, 640)\n",
      "\n",
      "0: 384x640 11 cars, 120.3ms\n",
      "Speed: 0.0ms pre-process, 120.3ms inference, 0.0ms postprocess per image at shape (1, 3, 640, 640)\n",
      "\n"
     ]
    },
    {
     "name": "stdout",
     "output_type": "stream",
     "text": [
      "[11]\n",
      "{4: 2, 11: 49, 5: 10, 8: 6}\n",
      "[11]\n",
      "{4: 2, 11: 49, 5: 10, 8: 6}\n"
     ]
    },
    {
     "name": "stderr",
     "output_type": "stream",
     "text": [
      "0: 384x640 11 cars, 1 bus, 1 truck, 130.6ms\n",
      "Speed: 0.0ms pre-process, 130.6ms inference, 0.0ms postprocess per image at shape (1, 3, 640, 640)\n",
      "\n",
      "0: 384x640 11 cars, 126.9ms\n",
      "Speed: 0.0ms pre-process, 126.9ms inference, 0.0ms postprocess per image at shape (1, 3, 640, 640)\n",
      "\n"
     ]
    },
    {
     "name": "stdout",
     "output_type": "stream",
     "text": [
      "[11]\n",
      "{4: 2, 11: 49, 5: 10, 8: 6, 12: 1}\n",
      "[11]\n",
      "{4: 2, 11: 49, 5: 10, 8: 6, 12: 2}\n"
     ]
    },
    {
     "name": "stderr",
     "output_type": "stream",
     "text": [
      "0: 384x640 11 cars, 1 truck, 135.7ms\n",
      "Speed: 0.0ms pre-process, 135.7ms inference, 4.0ms postprocess per image at shape (1, 3, 640, 640)\n",
      "\n",
      "0: 384x640 13 cars, 134.1ms\n",
      "Speed: 7.5ms pre-process, 134.1ms inference, 0.0ms postprocess per image at shape (1, 3, 640, 640)\n",
      "\n"
     ]
    },
    {
     "name": "stdout",
     "output_type": "stream",
     "text": [
      "[11]\n",
      "{4: 2, 11: 49, 5: 10, 8: 6, 12: 3}\n",
      "[11]\n",
      "{4: 2, 11: 49, 5: 10, 8: 6, 12: 4}\n"
     ]
    },
    {
     "name": "stderr",
     "output_type": "stream",
     "text": [
      "0: 384x640 11 cars, 153.2ms\n",
      "Speed: 2.2ms pre-process, 153.2ms inference, 0.0ms postprocess per image at shape (1, 3, 640, 640)\n",
      "\n",
      "0: 384x640 12 cars, 120.6ms\n",
      "Speed: 0.9ms pre-process, 120.6ms inference, 8.2ms postprocess per image at shape (1, 3, 640, 640)\n",
      "\n"
     ]
    },
    {
     "name": "stdout",
     "output_type": "stream",
     "text": [
      "[11]\n",
      "{4: 2, 11: 49, 5: 10, 8: 6, 12: 5}\n",
      "[11]\n",
      "{4: 2, 11: 49, 5: 10, 8: 6, 12: 6}\n"
     ]
    },
    {
     "name": "stderr",
     "output_type": "stream",
     "text": [
      "0: 384x640 12 cars, 147.3ms\n",
      "Speed: 0.0ms pre-process, 147.3ms inference, 0.0ms postprocess per image at shape (1, 3, 640, 640)\n",
      "\n",
      "0: 384x640 14 cars, 139.2ms\n",
      "Speed: 0.0ms pre-process, 139.2ms inference, 0.0ms postprocess per image at shape (1, 3, 640, 640)\n",
      "\n"
     ]
    },
    {
     "name": "stdout",
     "output_type": "stream",
     "text": [
      "[11]\n",
      "{4: 2, 11: 49, 5: 10, 8: 6, 12: 7}\n",
      "[11]\n",
      "{4: 2, 11: 49, 5: 10, 8: 6, 12: 8}\n"
     ]
    },
    {
     "name": "stderr",
     "output_type": "stream",
     "text": [
      "0: 384x640 14 cars, 154.8ms\n",
      "Speed: 0.0ms pre-process, 154.8ms inference, 5.5ms postprocess per image at shape (1, 3, 640, 640)\n",
      "\n",
      "0: 384x640 13 cars, 136.7ms\n",
      "Speed: 0.0ms pre-process, 136.7ms inference, 0.0ms postprocess per image at shape (1, 3, 640, 640)\n",
      "\n"
     ]
    },
    {
     "name": "stdout",
     "output_type": "stream",
     "text": [
      "[11]\n",
      "{4: 2, 11: 49, 5: 10, 8: 6, 12: 9}\n",
      "[11]\n",
      "{4: 2, 11: 49, 5: 10, 8: 6, 12: 10}\n"
     ]
    },
    {
     "name": "stderr",
     "output_type": "stream",
     "text": [
      "0: 384x640 13 cars, 122.9ms\n",
      "Speed: 1.0ms pre-process, 122.9ms inference, 0.0ms postprocess per image at shape (1, 3, 640, 640)\n",
      "\n",
      "0: 384x640 12 cars, 1 truck, 124.5ms\n",
      "Speed: 6.8ms pre-process, 124.5ms inference, 0.0ms postprocess per image at shape (1, 3, 640, 640)\n",
      "\n"
     ]
    },
    {
     "name": "stdout",
     "output_type": "stream",
     "text": [
      "[11]\n",
      "{4: 2, 11: 49, 5: 10, 8: 6, 12: 11, 39: 1, 1: 1}\n",
      "[11]\n",
      "{4: 2, 11: 49, 5: 10, 8: 6, 12: 12, 39: 2, 1: 1}\n"
     ]
    },
    {
     "name": "stderr",
     "output_type": "stream",
     "text": [
      "0: 384x640 14 cars, 1 truck, 160.2ms\n",
      "Speed: 0.0ms pre-process, 160.2ms inference, 0.0ms postprocess per image at shape (1, 3, 640, 640)\n",
      "\n",
      "0: 384x640 12 cars, 1 truck, 135.3ms\n",
      "Speed: 0.0ms pre-process, 135.3ms inference, 0.0ms postprocess per image at shape (1, 3, 640, 640)\n",
      "\n"
     ]
    },
    {
     "name": "stdout",
     "output_type": "stream",
     "text": [
      "[11]\n",
      "{4: 2, 11: 49, 5: 10, 8: 6, 12: 13, 39: 3, 1: 1}\n",
      "[11]\n",
      "{4: 2, 11: 49, 5: 10, 8: 6, 12: 14, 39: 4, 1: 1}\n"
     ]
    },
    {
     "name": "stderr",
     "output_type": "stream",
     "text": [
      "0: 384x640 13 cars, 149.6ms\n",
      "Speed: 0.0ms pre-process, 149.6ms inference, 0.0ms postprocess per image at shape (1, 3, 640, 640)\n",
      "\n",
      "0: 384x640 12 cars, 133.3ms\n",
      "Speed: 0.0ms pre-process, 133.3ms inference, 0.0ms postprocess per image at shape (1, 3, 640, 640)\n",
      "\n"
     ]
    },
    {
     "name": "stdout",
     "output_type": "stream",
     "text": [
      "[11]\n",
      "{4: 2, 11: 49, 5: 10, 8: 6, 12: 14, 39: 5, 1: 1, 43: 1}\n",
      "[11]\n",
      "{4: 2, 11: 49, 5: 10, 8: 6, 12: 14, 39: 6, 1: 1, 43: 1}\n"
     ]
    },
    {
     "name": "stderr",
     "output_type": "stream",
     "text": [
      "0: 384x640 11 cars, 145.8ms\n",
      "Speed: 0.0ms pre-process, 145.8ms inference, 0.0ms postprocess per image at shape (1, 3, 640, 640)\n",
      "\n",
      "0: 384x640 11 cars, 147.4ms\n",
      "Speed: 1.3ms pre-process, 147.4ms inference, 0.0ms postprocess per image at shape (1, 3, 640, 640)\n",
      "\n"
     ]
    },
    {
     "name": "stdout",
     "output_type": "stream",
     "text": [
      "[11]\n",
      "{4: 2, 11: 49, 5: 10, 8: 6, 12: 14, 39: 7, 1: 1, 43: 1}\n",
      "[11]\n",
      "{4: 2, 11: 49, 5: 10, 8: 6, 12: 14, 39: 8, 1: 1, 43: 1}\n"
     ]
    },
    {
     "name": "stderr",
     "output_type": "stream",
     "text": [
      "0: 384x640 11 cars, 140.5ms\n",
      "Speed: 0.0ms pre-process, 140.5ms inference, 0.0ms postprocess per image at shape (1, 3, 640, 640)\n",
      "\n",
      "0: 384x640 11 cars, 120.9ms\n",
      "Speed: 0.0ms pre-process, 120.9ms inference, 0.0ms postprocess per image at shape (1, 3, 640, 640)\n",
      "\n"
     ]
    },
    {
     "name": "stdout",
     "output_type": "stream",
     "text": [
      "[11]\n",
      "{4: 2, 11: 49, 5: 10, 8: 6, 12: 14, 39: 9, 1: 1, 43: 1}\n",
      "[11]\n",
      "{4: 2, 11: 49, 5: 10, 8: 6, 12: 14, 39: 10, 1: 1, 43: 1}\n"
     ]
    },
    {
     "name": "stderr",
     "output_type": "stream",
     "text": [
      "0: 384x640 11 cars, 1 truck, 131.8ms\n",
      "Speed: 0.0ms pre-process, 131.8ms inference, 0.0ms postprocess per image at shape (1, 3, 640, 640)\n",
      "\n",
      "0: 384x640 11 cars, 132.9ms\n",
      "Speed: 0.0ms pre-process, 132.9ms inference, 0.0ms postprocess per image at shape (1, 3, 640, 640)\n",
      "\n"
     ]
    },
    {
     "name": "stdout",
     "output_type": "stream",
     "text": [
      "[11]\n",
      "{4: 2, 11: 49, 5: 10, 8: 6, 12: 14, 39: 11, 1: 1, 43: 1}\n",
      "[11]\n",
      "{4: 2, 11: 49, 5: 10, 8: 6, 12: 14, 39: 12, 1: 1, 43: 1}\n"
     ]
    },
    {
     "name": "stderr",
     "output_type": "stream",
     "text": [
      "0: 384x640 11 cars, 148.4ms\n",
      "Speed: 0.6ms pre-process, 148.4ms inference, 0.0ms postprocess per image at shape (1, 3, 640, 640)\n",
      "\n",
      "0: 384x640 11 cars, 125.3ms\n",
      "Speed: 0.0ms pre-process, 125.3ms inference, 6.7ms postprocess per image at shape (1, 3, 640, 640)\n",
      "\n"
     ]
    },
    {
     "name": "stdout",
     "output_type": "stream",
     "text": [
      "[11]\n",
      "{4: 2, 11: 49, 5: 10, 8: 6, 12: 14, 39: 13, 1: 1, 43: 1}\n",
      "[11]\n",
      "{4: 2, 11: 49, 5: 10, 8: 6, 12: 14, 39: 14, 1: 1, 43: 1}\n"
     ]
    },
    {
     "name": "stderr",
     "output_type": "stream",
     "text": [
      "0: 384x640 11 cars, 165.3ms\n",
      "Speed: 0.0ms pre-process, 165.3ms inference, 0.0ms postprocess per image at shape (1, 3, 640, 640)\n",
      "\n",
      "0: 384x640 11 cars, 134.1ms\n",
      "Speed: 1.2ms pre-process, 134.1ms inference, 0.0ms postprocess per image at shape (1, 3, 640, 640)\n",
      "\n"
     ]
    },
    {
     "name": "stdout",
     "output_type": "stream",
     "text": [
      "[11]\n",
      "{4: 2, 11: 49, 5: 10, 8: 6, 12: 14, 39: 15, 1: 1, 43: 1}\n",
      "[11]\n",
      "{4: 2, 11: 49, 5: 10, 8: 6, 12: 14, 39: 16, 1: 1, 43: 1}\n"
     ]
    },
    {
     "name": "stderr",
     "output_type": "stream",
     "text": [
      "0: 384x640 11 cars, 1 truck, 137.1ms\n",
      "Speed: 1.2ms pre-process, 137.1ms inference, 0.0ms postprocess per image at shape (1, 3, 640, 640)\n",
      "\n",
      "0: 384x640 11 cars, 2 trucks, 136.4ms\n",
      "Speed: 0.0ms pre-process, 136.4ms inference, 5.1ms postprocess per image at shape (1, 3, 640, 640)\n",
      "\n"
     ]
    },
    {
     "name": "stdout",
     "output_type": "stream",
     "text": [
      "[11]\n",
      "{4: 2, 11: 49, 5: 10, 8: 6, 12: 14, 39: 17, 1: 1, 43: 1}\n",
      "[11]\n",
      "{4: 2, 11: 49, 5: 10, 8: 6, 12: 14, 39: 18, 1: 1, 43: 1}\n"
     ]
    },
    {
     "name": "stderr",
     "output_type": "stream",
     "text": [
      "0: 384x640 11 cars, 1 truck, 165.7ms\n",
      "Speed: 0.0ms pre-process, 165.7ms inference, 0.0ms postprocess per image at shape (1, 3, 640, 640)\n",
      "\n",
      "0: 384x640 14 cars, 1 truck, 133.9ms\n",
      "Speed: 0.0ms pre-process, 133.9ms inference, 1.5ms postprocess per image at shape (1, 3, 640, 640)\n",
      "\n"
     ]
    },
    {
     "name": "stdout",
     "output_type": "stream",
     "text": [
      "[11]\n",
      "{4: 2, 11: 49, 5: 10, 8: 6, 12: 14, 39: 19, 1: 1, 43: 1}\n",
      "[11]\n",
      "{4: 2, 11: 49, 5: 10, 8: 6, 12: 14, 39: 20, 1: 1, 43: 1}\n"
     ]
    },
    {
     "name": "stderr",
     "output_type": "stream",
     "text": [
      "0: 384x640 14 cars, 149.6ms\n",
      "Speed: 0.0ms pre-process, 149.6ms inference, 5.4ms postprocess per image at shape (1, 3, 640, 640)\n",
      "\n",
      "0: 384x640 12 cars, 150.9ms\n",
      "Speed: 8.0ms pre-process, 150.9ms inference, 0.0ms postprocess per image at shape (1, 3, 640, 640)\n",
      "\n"
     ]
    },
    {
     "name": "stdout",
     "output_type": "stream",
     "text": [
      "[11]\n",
      "{4: 2, 11: 49, 5: 10, 8: 6, 12: 14, 39: 21, 1: 1, 43: 1}\n",
      "[11]\n",
      "{4: 2, 11: 49, 5: 10, 8: 6, 12: 14, 39: 22, 1: 1, 43: 1}\n"
     ]
    },
    {
     "name": "stderr",
     "output_type": "stream",
     "text": [
      "0: 384x640 13 cars, 145.6ms\n",
      "Speed: 0.0ms pre-process, 145.6ms inference, 9.8ms postprocess per image at shape (1, 3, 640, 640)\n",
      "\n",
      "0: 384x640 12 cars, 143.6ms\n",
      "Speed: 0.0ms pre-process, 143.6ms inference, 0.0ms postprocess per image at shape (1, 3, 640, 640)\n",
      "\n"
     ]
    },
    {
     "name": "stdout",
     "output_type": "stream",
     "text": [
      "[11]\n",
      "{4: 2, 11: 49, 5: 10, 8: 6, 12: 14, 39: 23, 1: 1, 43: 1}\n",
      "[11]\n",
      "{4: 2, 11: 49, 5: 10, 8: 6, 12: 14, 39: 24, 1: 1, 43: 1}\n"
     ]
    },
    {
     "name": "stderr",
     "output_type": "stream",
     "text": [
      "0: 384x640 13 cars, 172.5ms\n",
      "Speed: 0.0ms pre-process, 172.5ms inference, 0.0ms postprocess per image at shape (1, 3, 640, 640)\n",
      "\n",
      "0: 384x640 11 cars, 1 truck, 120.3ms\n",
      "Speed: 0.0ms pre-process, 120.3ms inference, 0.0ms postprocess per image at shape (1, 3, 640, 640)\n",
      "\n"
     ]
    },
    {
     "name": "stdout",
     "output_type": "stream",
     "text": [
      "[11]\n",
      "{4: 2, 11: 49, 5: 10, 8: 6, 12: 14, 39: 25, 1: 1, 43: 1}\n",
      "[11]\n",
      "{4: 2, 11: 49, 5: 10, 8: 6, 12: 14, 39: 26, 1: 1, 43: 1}\n"
     ]
    },
    {
     "name": "stderr",
     "output_type": "stream",
     "text": [
      "0: 384x640 12 cars, 1 truck, 150.1ms\n",
      "Speed: 0.0ms pre-process, 150.1ms inference, 10.1ms postprocess per image at shape (1, 3, 640, 640)\n",
      "\n",
      "0: 384x640 11 cars, 152.4ms\n",
      "Speed: 0.0ms pre-process, 152.4ms inference, 0.0ms postprocess per image at shape (1, 3, 640, 640)\n",
      "\n"
     ]
    },
    {
     "name": "stdout",
     "output_type": "stream",
     "text": [
      "[11]\n",
      "{4: 2, 11: 49, 5: 10, 8: 6, 12: 14, 39: 27, 1: 1, 43: 1}\n",
      "[11]\n",
      "{4: 2, 11: 49, 5: 10, 8: 6, 12: 14, 39: 28, 1: 1, 43: 1}\n"
     ]
    },
    {
     "name": "stderr",
     "output_type": "stream",
     "text": [
      "0: 384x640 11 cars, 155.4ms\n",
      "Speed: 0.0ms pre-process, 155.4ms inference, 0.0ms postprocess per image at shape (1, 3, 640, 640)\n",
      "\n",
      "0: 384x640 11 cars, 1 truck, 139.9ms\n",
      "Speed: 0.0ms pre-process, 139.9ms inference, 8.1ms postprocess per image at shape (1, 3, 640, 640)\n",
      "\n"
     ]
    },
    {
     "name": "stdout",
     "output_type": "stream",
     "text": [
      "[11]\n",
      "{4: 2, 11: 49, 5: 10, 8: 6, 12: 14, 39: 29, 1: 1, 43: 1}\n",
      "[11]\n",
      "{4: 2, 11: 49, 5: 10, 8: 6, 12: 14, 39: 30, 1: 1, 43: 1}\n"
     ]
    },
    {
     "name": "stderr",
     "output_type": "stream",
     "text": [
      "0: 384x640 11 cars, 154.0ms\n",
      "Speed: 0.0ms pre-process, 154.0ms inference, 0.0ms postprocess per image at shape (1, 3, 640, 640)\n",
      "\n",
      "0: 384x640 12 cars, 130.2ms\n",
      "Speed: 0.0ms pre-process, 130.2ms inference, 0.0ms postprocess per image at shape (1, 3, 640, 640)\n",
      "\n"
     ]
    },
    {
     "name": "stdout",
     "output_type": "stream",
     "text": [
      "[11, 39]\n",
      "{4: 2, 11: 49, 5: 10, 8: 6, 12: 14, 39: 31, 1: 1, 43: 1}\n",
      "[11, 39]\n",
      "{4: 2, 11: 49, 5: 10, 8: 6, 12: 14, 39: 32, 1: 1, 43: 1}\n"
     ]
    },
    {
     "name": "stderr",
     "output_type": "stream",
     "text": [
      "0: 384x640 10 cars, 171.1ms\n",
      "Speed: 1.2ms pre-process, 171.1ms inference, 0.0ms postprocess per image at shape (1, 3, 640, 640)\n",
      "\n",
      "0: 384x640 10 cars, 133.5ms\n",
      "Speed: 0.0ms pre-process, 133.5ms inference, 0.0ms postprocess per image at shape (1, 3, 640, 640)\n",
      "\n"
     ]
    },
    {
     "name": "stdout",
     "output_type": "stream",
     "text": [
      "[11, 39]\n",
      "{4: 2, 11: 49, 5: 10, 8: 6, 12: 14, 39: 33, 1: 1, 43: 1}\n",
      "[11, 39]\n",
      "{4: 2, 11: 49, 5: 10, 8: 6, 12: 14, 39: 34, 1: 1, 43: 1}\n"
     ]
    },
    {
     "name": "stderr",
     "output_type": "stream",
     "text": [
      "0: 384x640 11 cars, 159.2ms\n",
      "Speed: 0.0ms pre-process, 159.2ms inference, 0.0ms postprocess per image at shape (1, 3, 640, 640)\n",
      "\n",
      "0: 384x640 13 cars, 1 truck, 131.8ms\n",
      "Speed: 0.0ms pre-process, 131.8ms inference, 0.0ms postprocess per image at shape (1, 3, 640, 640)\n",
      "\n"
     ]
    },
    {
     "name": "stdout",
     "output_type": "stream",
     "text": [
      "[11, 39]\n",
      "{4: 2, 11: 49, 5: 10, 8: 6, 12: 14, 39: 35, 1: 1, 43: 1}\n",
      "[11, 39]\n",
      "{4: 2, 11: 49, 5: 10, 8: 6, 12: 14, 39: 36, 1: 1, 43: 1}\n"
     ]
    },
    {
     "name": "stderr",
     "output_type": "stream",
     "text": [
      "0: 384x640 12 cars, 1 truck, 146.4ms\n",
      "Speed: 0.6ms pre-process, 146.4ms inference, 0.0ms postprocess per image at shape (1, 3, 640, 640)\n",
      "\n",
      "0: 384x640 11 cars, 144.8ms\n",
      "Speed: 0.0ms pre-process, 144.8ms inference, 0.0ms postprocess per image at shape (1, 3, 640, 640)\n",
      "\n"
     ]
    },
    {
     "name": "stdout",
     "output_type": "stream",
     "text": [
      "[11, 39]\n",
      "{4: 2, 11: 49, 5: 10, 8: 6, 12: 14, 39: 37, 1: 1, 43: 1}\n",
      "[11, 39]\n",
      "{4: 2, 11: 49, 5: 10, 8: 6, 12: 14, 39: 38, 1: 1, 43: 1}\n"
     ]
    },
    {
     "name": "stderr",
     "output_type": "stream",
     "text": [
      "0: 384x640 11 cars, 157.5ms\n",
      "Speed: 0.0ms pre-process, 157.5ms inference, 0.0ms postprocess per image at shape (1, 3, 640, 640)\n",
      "\n",
      "0: 384x640 12 cars, 144.9ms\n",
      "Speed: 1.3ms pre-process, 144.9ms inference, 0.0ms postprocess per image at shape (1, 3, 640, 640)\n",
      "\n"
     ]
    },
    {
     "name": "stdout",
     "output_type": "stream",
     "text": [
      "[11, 39]\n",
      "{4: 2, 11: 49, 5: 10, 8: 6, 12: 14, 39: 39, 1: 1, 43: 1}\n",
      "[11, 39]\n",
      "{4: 2, 11: 49, 5: 10, 8: 6, 12: 14, 39: 40, 1: 1, 43: 1}\n"
     ]
    },
    {
     "name": "stderr",
     "output_type": "stream",
     "text": [
      "0: 384x640 11 cars, 147.5ms\n",
      "Speed: 0.0ms pre-process, 147.5ms inference, 0.0ms postprocess per image at shape (1, 3, 640, 640)\n",
      "\n",
      "0: 384x640 12 cars, 102.5ms\n",
      "Speed: 0.0ms pre-process, 102.5ms inference, 0.0ms postprocess per image at shape (1, 3, 640, 640)\n",
      "\n"
     ]
    },
    {
     "name": "stdout",
     "output_type": "stream",
     "text": [
      "[11, 39]\n",
      "{4: 2, 11: 49, 5: 10, 8: 6, 12: 14, 39: 41, 1: 1, 43: 1}\n",
      "[11, 39]\n",
      "{4: 2, 11: 49, 5: 10, 8: 6, 12: 14, 39: 42, 1: 1, 43: 1}\n"
     ]
    },
    {
     "name": "stderr",
     "output_type": "stream",
     "text": [
      "0: 384x640 11 cars, 131.5ms\n",
      "Speed: 0.0ms pre-process, 131.5ms inference, 0.0ms postprocess per image at shape (1, 3, 640, 640)\n",
      "\n",
      "0: 384x640 10 cars, 2 trucks, 129.7ms\n",
      "Speed: 1.0ms pre-process, 129.7ms inference, 0.0ms postprocess per image at shape (1, 3, 640, 640)\n",
      "\n"
     ]
    },
    {
     "name": "stdout",
     "output_type": "stream",
     "text": [
      "[11, 39]\n",
      "{4: 2, 11: 49, 5: 10, 8: 6, 12: 14, 39: 43, 1: 1, 43: 1}\n",
      "[11, 39]\n",
      "{4: 2, 11: 49, 5: 10, 8: 6, 12: 14, 39: 44, 1: 1, 43: 1}\n"
     ]
    },
    {
     "name": "stderr",
     "output_type": "stream",
     "text": [
      "0: 384x640 12 cars, 1 truck, 139.1ms\n",
      "Speed: 0.0ms pre-process, 139.1ms inference, 9.9ms postprocess per image at shape (1, 3, 640, 640)\n",
      "\n",
      "0: 384x640 11 cars, 1 truck, 132.4ms\n",
      "Speed: 7.5ms pre-process, 132.4ms inference, 3.7ms postprocess per image at shape (1, 3, 640, 640)\n",
      "\n"
     ]
    },
    {
     "name": "stdout",
     "output_type": "stream",
     "text": [
      "[11, 39]\n",
      "{4: 2, 11: 49, 5: 10, 8: 6, 12: 14, 39: 45, 1: 1, 43: 1}\n",
      "[11, 39]\n",
      "{4: 2, 11: 49, 5: 10, 8: 6, 12: 14, 39: 46, 1: 1, 43: 1}\n"
     ]
    },
    {
     "name": "stderr",
     "output_type": "stream",
     "text": [
      "0: 384x640 10 cars, 154.5ms\n",
      "Speed: 14.5ms pre-process, 154.5ms inference, 6.5ms postprocess per image at shape (1, 3, 640, 640)\n",
      "\n",
      "0: 384x640 12 cars, 139.0ms\n",
      "Speed: 0.0ms pre-process, 139.0ms inference, 4.2ms postprocess per image at shape (1, 3, 640, 640)\n",
      "\n"
     ]
    },
    {
     "name": "stdout",
     "output_type": "stream",
     "text": [
      "[11, 39]\n",
      "{4: 2, 11: 49, 5: 10, 8: 6, 12: 14, 39: 46, 1: 1, 43: 1}\n",
      "[11, 39]\n",
      "{4: 2, 11: 49, 5: 10, 8: 6, 12: 14, 39: 46, 1: 1, 43: 1}\n"
     ]
    },
    {
     "name": "stderr",
     "output_type": "stream",
     "text": [
      "0: 384x640 10 cars, 2 trucks, 149.9ms\n",
      "Speed: 0.0ms pre-process, 149.9ms inference, 0.0ms postprocess per image at shape (1, 3, 640, 640)\n",
      "\n",
      "0: 384x640 10 cars, 2 trucks, 95.1ms\n",
      "Speed: 1.2ms pre-process, 95.1ms inference, 14.0ms postprocess per image at shape (1, 3, 640, 640)\n",
      "\n"
     ]
    },
    {
     "name": "stdout",
     "output_type": "stream",
     "text": [
      "[11, 39]\n",
      "{4: 2, 11: 49, 5: 10, 8: 6, 12: 14, 39: 46, 1: 1, 43: 1}\n",
      "[11, 39]\n",
      "{4: 2, 11: 49, 5: 10, 8: 6, 12: 14, 39: 46, 1: 1, 43: 1}\n"
     ]
    },
    {
     "name": "stderr",
     "output_type": "stream",
     "text": [
      "0: 384x640 10 cars, 2 trucks, 130.7ms\n",
      "Speed: 0.0ms pre-process, 130.7ms inference, 0.0ms postprocess per image at shape (1, 3, 640, 640)\n",
      "\n",
      "0: 384x640 10 cars, 2 trucks, 131.4ms\n",
      "Speed: 7.6ms pre-process, 131.4ms inference, 7.9ms postprocess per image at shape (1, 3, 640, 640)\n",
      "\n"
     ]
    },
    {
     "name": "stdout",
     "output_type": "stream",
     "text": [
      "[11, 39]\n",
      "{4: 2, 11: 49, 5: 10, 8: 6, 12: 14, 39: 46, 1: 1, 43: 1}\n",
      "[11, 39]\n",
      "{4: 2, 11: 49, 5: 10, 8: 6, 12: 14, 39: 46, 1: 1, 43: 1}\n"
     ]
    },
    {
     "name": "stderr",
     "output_type": "stream",
     "text": [
      "0: 384x640 10 cars, 2 trucks, 140.4ms\n",
      "Speed: 4.0ms pre-process, 140.4ms inference, 0.0ms postprocess per image at shape (1, 3, 640, 640)\n",
      "\n",
      "0: 384x640 11 cars, 2 trucks, 110.1ms\n",
      "Speed: 0.0ms pre-process, 110.1ms inference, 0.0ms postprocess per image at shape (1, 3, 640, 640)\n",
      "\n"
     ]
    },
    {
     "name": "stdout",
     "output_type": "stream",
     "text": [
      "[11, 39]\n",
      "{4: 2, 11: 49, 5: 10, 8: 6, 12: 14, 39: 46, 1: 1, 43: 1}\n",
      "[11, 39]\n",
      "{4: 2, 11: 49, 5: 10, 8: 6, 12: 14, 39: 46, 1: 1, 43: 1}\n"
     ]
    },
    {
     "name": "stderr",
     "output_type": "stream",
     "text": [
      "0: 384x640 13 cars, 2 trucks, 136.0ms\n",
      "Speed: 1.4ms pre-process, 136.0ms inference, 0.0ms postprocess per image at shape (1, 3, 640, 640)\n",
      "\n",
      "0: 384x640 11 cars, 1 truck, 133.8ms\n",
      "Speed: 0.0ms pre-process, 133.8ms inference, 0.0ms postprocess per image at shape (1, 3, 640, 640)\n",
      "\n"
     ]
    },
    {
     "name": "stdout",
     "output_type": "stream",
     "text": [
      "[11, 39]\n",
      "{4: 2, 11: 49, 5: 10, 8: 6, 12: 14, 39: 46, 1: 1, 43: 1}\n",
      "[11, 39]\n",
      "{4: 2, 11: 49, 5: 10, 8: 6, 12: 14, 39: 46, 1: 1, 43: 1}\n"
     ]
    },
    {
     "name": "stderr",
     "output_type": "stream",
     "text": [
      "0: 384x640 12 cars, 2 trucks, 141.6ms\n",
      "Speed: 2.8ms pre-process, 141.6ms inference, 0.0ms postprocess per image at shape (1, 3, 640, 640)\n",
      "\n",
      "0: 384x640 15 cars, 117.9ms\n",
      "Speed: 0.0ms pre-process, 117.9ms inference, 4.8ms postprocess per image at shape (1, 3, 640, 640)\n",
      "\n"
     ]
    },
    {
     "name": "stdout",
     "output_type": "stream",
     "text": [
      "[11, 39]\n",
      "{4: 2, 11: 49, 5: 10, 8: 6, 12: 14, 39: 46, 1: 1, 43: 1}\n",
      "[11, 39]\n",
      "{4: 2, 11: 49, 5: 10, 8: 6, 12: 14, 39: 46, 1: 1, 43: 1}\n"
     ]
    },
    {
     "name": "stderr",
     "output_type": "stream",
     "text": [
      "0: 384x640 13 cars, 141.6ms\n",
      "Speed: 0.0ms pre-process, 141.6ms inference, 0.0ms postprocess per image at shape (1, 3, 640, 640)\n",
      "\n",
      "0: 384x640 14 cars, 125.4ms\n",
      "Speed: 1.2ms pre-process, 125.4ms inference, 8.1ms postprocess per image at shape (1, 3, 640, 640)\n",
      "\n"
     ]
    },
    {
     "name": "stdout",
     "output_type": "stream",
     "text": [
      "[11, 39]\n",
      "{4: 2, 11: 49, 5: 10, 8: 6, 12: 14, 39: 46, 1: 1, 43: 1, 25: 1}\n",
      "[11, 39]\n",
      "{4: 2, 11: 49, 5: 10, 8: 6, 12: 14, 39: 46, 1: 1, 43: 1, 25: 1}\n"
     ]
    },
    {
     "name": "stderr",
     "output_type": "stream",
     "text": [
      "0: 384x640 14 cars, 153.4ms\n",
      "Speed: 0.0ms pre-process, 153.4ms inference, 0.0ms postprocess per image at shape (1, 3, 640, 640)\n",
      "\n",
      "0: 384x640 14 cars, 1 truck, 132.4ms\n",
      "Speed: 7.1ms pre-process, 132.4ms inference, 1.0ms postprocess per image at shape (1, 3, 640, 640)\n",
      "\n"
     ]
    },
    {
     "name": "stdout",
     "output_type": "stream",
     "text": [
      "[11, 39]\n",
      "{4: 2, 11: 49, 5: 10, 8: 6, 12: 14, 39: 46, 1: 1, 43: 1, 25: 1}\n",
      "[11, 39]\n",
      "{4: 2, 11: 49, 5: 10, 8: 6, 12: 14, 39: 46, 1: 1, 43: 1, 25: 2}\n"
     ]
    },
    {
     "name": "stderr",
     "output_type": "stream",
     "text": [
      "0: 384x640 13 cars, 129.7ms\n",
      "Speed: 0.0ms pre-process, 129.7ms inference, 4.4ms postprocess per image at shape (1, 3, 640, 640)\n",
      "\n",
      "0: 384x640 14 cars, 1 truck, 107.0ms\n",
      "Speed: 1.2ms pre-process, 107.0ms inference, 0.0ms postprocess per image at shape (1, 3, 640, 640)\n",
      "\n"
     ]
    },
    {
     "name": "stdout",
     "output_type": "stream",
     "text": [
      "[11, 39]\n",
      "{4: 2, 11: 49, 5: 10, 8: 6, 12: 14, 39: 46, 1: 1, 43: 1, 25: 3, 66: 1}\n",
      "[11, 39]\n",
      "{4: 2, 11: 49, 5: 10, 8: 6, 12: 14, 39: 46, 1: 1, 43: 1, 25: 4, 66: 2}\n"
     ]
    },
    {
     "name": "stderr",
     "output_type": "stream",
     "text": [
      "0: 384x640 14 cars, 114.6ms\n",
      "Speed: 0.0ms pre-process, 114.6ms inference, 8.0ms postprocess per image at shape (1, 3, 640, 640)\n",
      "\n",
      "0: 384x640 13 cars, 113.3ms\n",
      "Speed: 0.0ms pre-process, 113.3ms inference, 13.5ms postprocess per image at shape (1, 3, 640, 640)\n",
      "\n"
     ]
    },
    {
     "name": "stdout",
     "output_type": "stream",
     "text": [
      "[11, 39]\n",
      "{4: 2, 11: 49, 5: 10, 8: 6, 12: 14, 39: 46, 1: 1, 43: 1, 25: 5, 66: 3}\n",
      "[11, 39]\n",
      "{4: 2, 11: 49, 5: 10, 8: 6, 12: 14, 39: 46, 1: 1, 43: 1, 25: 6, 66: 4, 45: 1}\n"
     ]
    },
    {
     "name": "stderr",
     "output_type": "stream",
     "text": [
      "0: 384x640 12 cars, 1 truck, 144.6ms\n",
      "Speed: 0.0ms pre-process, 144.6ms inference, 2.8ms postprocess per image at shape (1, 3, 640, 640)\n",
      "\n",
      "0: 384x640 10 cars, 137.3ms\n",
      "Speed: 0.0ms pre-process, 137.3ms inference, 7.1ms postprocess per image at shape (1, 3, 640, 640)\n",
      "\n"
     ]
    },
    {
     "name": "stdout",
     "output_type": "stream",
     "text": [
      "[11, 39]\n",
      "{4: 2, 11: 49, 5: 10, 8: 6, 12: 14, 39: 46, 1: 1, 43: 1, 25: 7, 66: 5, 45: 2}\n",
      "[11, 39]\n",
      "{4: 2, 11: 49, 5: 10, 8: 6, 12: 14, 39: 46, 1: 1, 43: 1, 25: 8, 66: 6, 45: 2}\n"
     ]
    },
    {
     "name": "stderr",
     "output_type": "stream",
     "text": [
      "0: 384x640 12 cars, 132.9ms\n",
      "Speed: 1.0ms pre-process, 132.9ms inference, 0.0ms postprocess per image at shape (1, 3, 640, 640)\n",
      "\n",
      "0: 384x640 12 cars, 1 truck, 133.4ms\n",
      "Speed: 8.0ms pre-process, 133.4ms inference, 0.0ms postprocess per image at shape (1, 3, 640, 640)\n",
      "\n"
     ]
    },
    {
     "name": "stdout",
     "output_type": "stream",
     "text": [
      "[11, 39]\n",
      "{4: 2, 11: 49, 5: 10, 8: 6, 12: 14, 39: 46, 1: 1, 43: 1, 25: 9, 66: 7, 45: 2}\n",
      "[11, 39]\n",
      "{4: 2, 11: 49, 5: 10, 8: 6, 12: 14, 39: 46, 1: 1, 43: 1, 25: 10, 66: 8, 45: 2}\n"
     ]
    },
    {
     "name": "stderr",
     "output_type": "stream",
     "text": [
      "0: 384x640 11 cars, 1 bus, 1 truck, 167.9ms\n",
      "Speed: 0.0ms pre-process, 167.9ms inference, 0.0ms postprocess per image at shape (1, 3, 640, 640)\n",
      "\n",
      "0: 384x640 12 cars, 2 trucks, 149.2ms\n",
      "Speed: 0.0ms pre-process, 149.2ms inference, 0.0ms postprocess per image at shape (1, 3, 640, 640)\n",
      "\n"
     ]
    },
    {
     "name": "stdout",
     "output_type": "stream",
     "text": [
      "[11, 39]\n",
      "{4: 2, 11: 49, 5: 10, 8: 6, 12: 14, 39: 46, 1: 1, 43: 1, 25: 11, 66: 9, 45: 2}\n",
      "[11, 39]\n",
      "{4: 2, 11: 49, 5: 10, 8: 6, 12: 14, 39: 46, 1: 1, 43: 1, 25: 12, 66: 10, 45: 2}\n"
     ]
    },
    {
     "name": "stderr",
     "output_type": "stream",
     "text": [
      "0: 384x640 14 cars, 2 trucks, 147.1ms\n",
      "Speed: 0.0ms pre-process, 147.1ms inference, 3.1ms postprocess per image at shape (1, 3, 640, 640)\n",
      "\n",
      "0: 384x640 13 cars, 2 trucks, 134.6ms\n",
      "Speed: 0.0ms pre-process, 134.6ms inference, 0.0ms postprocess per image at shape (1, 3, 640, 640)\n",
      "\n"
     ]
    },
    {
     "name": "stdout",
     "output_type": "stream",
     "text": [
      "[11, 39]\n",
      "{4: 2, 11: 49, 5: 10, 8: 6, 12: 14, 39: 46, 1: 1, 43: 1, 25: 13, 66: 11, 45: 2}\n",
      "[11, 39]\n",
      "{4: 2, 11: 49, 5: 10, 8: 6, 12: 14, 39: 46, 1: 1, 43: 1, 25: 14, 66: 12, 45: 2}\n"
     ]
    },
    {
     "name": "stderr",
     "output_type": "stream",
     "text": [
      "0: 384x640 13 cars, 2 trucks, 142.6ms\n",
      "Speed: 0.0ms pre-process, 142.6ms inference, 0.0ms postprocess per image at shape (1, 3, 640, 640)\n",
      "\n",
      "0: 384x640 13 cars, 3 trucks, 129.8ms\n",
      "Speed: 1.0ms pre-process, 129.8ms inference, 0.0ms postprocess per image at shape (1, 3, 640, 640)\n",
      "\n"
     ]
    },
    {
     "name": "stdout",
     "output_type": "stream",
     "text": [
      "[11, 39]\n",
      "{4: 2, 11: 49, 5: 10, 8: 6, 12: 14, 39: 46, 1: 1, 43: 1, 25: 15, 66: 13, 45: 2}\n",
      "[11, 39]\n",
      "{4: 2, 11: 49, 5: 10, 8: 6, 12: 14, 39: 46, 1: 1, 43: 1, 25: 16, 66: 14, 45: 2}\n"
     ]
    },
    {
     "name": "stderr",
     "output_type": "stream",
     "text": [
      "0: 384x640 13 cars, 2 trucks, 149.2ms\n",
      "Speed: 0.0ms pre-process, 149.2ms inference, 0.7ms postprocess per image at shape (1, 3, 640, 640)\n",
      "\n",
      "0: 384x640 12 cars, 2 trucks, 139.8ms\n",
      "Speed: 0.0ms pre-process, 139.8ms inference, 5.2ms postprocess per image at shape (1, 3, 640, 640)\n",
      "\n"
     ]
    },
    {
     "name": "stdout",
     "output_type": "stream",
     "text": [
      "[11, 39]\n",
      "{4: 2, 11: 49, 5: 10, 8: 6, 12: 14, 39: 46, 1: 1, 43: 1, 25: 17, 66: 15, 45: 2}\n",
      "[11, 39]\n",
      "{4: 2, 11: 49, 5: 10, 8: 6, 12: 14, 39: 46, 1: 1, 43: 1, 25: 18, 66: 16, 45: 2}\n"
     ]
    },
    {
     "name": "stderr",
     "output_type": "stream",
     "text": [
      "0: 384x640 13 cars, 2 trucks, 163.9ms\n",
      "Speed: 0.0ms pre-process, 163.9ms inference, 0.0ms postprocess per image at shape (1, 3, 640, 640)\n",
      "\n",
      "0: 384x640 13 cars, 2 trucks, 134.0ms\n",
      "Speed: 0.0ms pre-process, 134.0ms inference, 0.0ms postprocess per image at shape (1, 3, 640, 640)\n",
      "\n"
     ]
    },
    {
     "name": "stdout",
     "output_type": "stream",
     "text": [
      "[11, 39]\n",
      "{4: 2, 11: 49, 5: 10, 8: 6, 12: 14, 39: 46, 1: 1, 43: 1, 25: 19, 66: 17, 45: 2}\n",
      "[11, 39]\n",
      "{4: 2, 11: 49, 5: 10, 8: 6, 12: 14, 39: 46, 1: 1, 43: 1, 25: 20, 66: 18, 45: 2}\n"
     ]
    },
    {
     "name": "stderr",
     "output_type": "stream",
     "text": [
      "0: 384x640 14 cars, 161.6ms\n",
      "Speed: 0.0ms pre-process, 161.6ms inference, 2.5ms postprocess per image at shape (1, 3, 640, 640)\n",
      "\n",
      "0: 384x640 15 cars, 1 truck, 129.6ms\n",
      "Speed: 0.0ms pre-process, 129.6ms inference, 0.0ms postprocess per image at shape (1, 3, 640, 640)\n",
      "\n"
     ]
    },
    {
     "name": "stdout",
     "output_type": "stream",
     "text": [
      "[11, 39]\n",
      "{4: 2, 11: 49, 5: 10, 8: 6, 12: 14, 39: 46, 1: 1, 43: 1, 25: 21, 66: 19, 45: 2}\n",
      "[11, 39]\n",
      "{4: 2, 11: 49, 5: 10, 8: 6, 12: 14, 39: 46, 1: 1, 43: 1, 25: 22, 66: 20, 45: 2}\n"
     ]
    },
    {
     "name": "stderr",
     "output_type": "stream",
     "text": [
      "0: 384x640 14 cars, 3 trucks, 168.0ms\n",
      "Speed: 0.0ms pre-process, 168.0ms inference, 4.0ms postprocess per image at shape (1, 3, 640, 640)\n",
      "\n",
      "0: 384x640 13 cars, 2 trucks, 140.4ms\n",
      "Speed: 0.0ms pre-process, 140.4ms inference, 7.6ms postprocess per image at shape (1, 3, 640, 640)\n",
      "\n"
     ]
    },
    {
     "name": "stdout",
     "output_type": "stream",
     "text": [
      "[11, 39]\n",
      "{4: 2, 11: 49, 5: 10, 8: 6, 12: 14, 39: 46, 1: 1, 43: 1, 25: 23, 66: 20, 45: 2}\n",
      "[11, 39]\n",
      "{4: 2, 11: 49, 5: 10, 8: 6, 12: 14, 39: 46, 1: 1, 43: 1, 25: 24, 66: 20, 45: 2}\n"
     ]
    },
    {
     "name": "stderr",
     "output_type": "stream",
     "text": [
      "0: 384x640 13 cars, 1 truck, 140.3ms\n",
      "Speed: 1.2ms pre-process, 140.3ms inference, 8.0ms postprocess per image at shape (1, 3, 640, 640)\n",
      "\n",
      "0: 384x640 14 cars, 1 truck, 131.1ms\n",
      "Speed: 0.0ms pre-process, 131.1ms inference, 0.0ms postprocess per image at shape (1, 3, 640, 640)\n",
      "\n"
     ]
    },
    {
     "name": "stdout",
     "output_type": "stream",
     "text": [
      "[11, 39]\n",
      "{4: 2, 11: 49, 5: 10, 8: 6, 12: 14, 39: 46, 1: 1, 43: 1, 25: 25, 66: 20, 45: 2, 77: 1, 40: 1}\n",
      "[11, 39]\n",
      "{4: 2, 11: 49, 5: 10, 8: 6, 12: 14, 39: 46, 1: 1, 43: 1, 25: 26, 66: 20, 45: 2, 77: 2, 40: 2}\n"
     ]
    },
    {
     "name": "stderr",
     "output_type": "stream",
     "text": [
      "0: 384x640 13 cars, 167.9ms\n",
      "Speed: 4.0ms pre-process, 167.9ms inference, 0.0ms postprocess per image at shape (1, 3, 640, 640)\n",
      "\n",
      "0: 384x640 14 cars, 147.5ms\n",
      "Speed: 0.0ms pre-process, 147.5ms inference, 0.0ms postprocess per image at shape (1, 3, 640, 640)\n",
      "\n"
     ]
    },
    {
     "name": "stdout",
     "output_type": "stream",
     "text": [
      "[11, 39]\n",
      "{4: 2, 11: 49, 5: 10, 8: 6, 12: 14, 39: 46, 1: 1, 43: 1, 25: 27, 66: 20, 45: 2, 77: 3, 40: 2}\n",
      "[11, 39]\n",
      "{4: 2, 11: 49, 5: 10, 8: 6, 12: 14, 39: 46, 1: 1, 43: 1, 25: 27, 66: 20, 45: 2, 77: 4, 40: 3}\n"
     ]
    },
    {
     "name": "stderr",
     "output_type": "stream",
     "text": [
      "0: 384x640 15 cars, 1 truck, 161.8ms\n",
      "Speed: 1.3ms pre-process, 161.8ms inference, 0.0ms postprocess per image at shape (1, 3, 640, 640)\n",
      "\n",
      "0: 384x640 14 cars, 1 truck, 139.9ms\n",
      "Speed: 0.0ms pre-process, 139.9ms inference, 7.2ms postprocess per image at shape (1, 3, 640, 640)\n",
      "\n"
     ]
    },
    {
     "name": "stdout",
     "output_type": "stream",
     "text": [
      "[11, 39]\n",
      "{4: 2, 11: 49, 5: 10, 8: 6, 12: 14, 39: 46, 1: 1, 43: 1, 25: 27, 66: 20, 45: 2, 77: 5, 40: 4}\n",
      "[11, 39]\n",
      "{4: 2, 11: 49, 5: 10, 8: 6, 12: 14, 39: 46, 1: 1, 43: 1, 25: 27, 66: 20, 45: 2, 77: 6, 40: 5}\n"
     ]
    },
    {
     "name": "stderr",
     "output_type": "stream",
     "text": [
      "0: 384x640 12 cars, 1 truck, 163.5ms\n",
      "Speed: 0.0ms pre-process, 163.5ms inference, 0.0ms postprocess per image at shape (1, 3, 640, 640)\n",
      "\n",
      "0: 384x640 11 cars, 3 trucks, 133.1ms\n",
      "Speed: 0.0ms pre-process, 133.1ms inference, 0.0ms postprocess per image at shape (1, 3, 640, 640)\n",
      "\n"
     ]
    },
    {
     "name": "stdout",
     "output_type": "stream",
     "text": [
      "[11, 39]\n",
      "{4: 2, 11: 49, 5: 10, 8: 6, 12: 14, 39: 46, 1: 1, 43: 1, 25: 27, 66: 20, 45: 2, 77: 7, 40: 6, 72: 1}\n",
      "[11, 39]\n",
      "{4: 2, 11: 49, 5: 10, 8: 6, 12: 14, 39: 46, 1: 1, 43: 1, 25: 27, 66: 20, 45: 2, 77: 8, 40: 7, 72: 1}\n"
     ]
    },
    {
     "name": "stderr",
     "output_type": "stream",
     "text": [
      "0: 384x640 14 cars, 2 trucks, 156.8ms\n",
      "Speed: 0.0ms pre-process, 156.8ms inference, 0.0ms postprocess per image at shape (1, 3, 640, 640)\n",
      "\n",
      "0: 384x640 12 cars, 3 trucks, 152.4ms\n",
      "Speed: 0.0ms pre-process, 152.4ms inference, 5.1ms postprocess per image at shape (1, 3, 640, 640)\n",
      "\n"
     ]
    },
    {
     "name": "stdout",
     "output_type": "stream",
     "text": [
      "[11, 39]\n",
      "{4: 2, 11: 49, 5: 10, 8: 6, 12: 14, 39: 46, 1: 1, 43: 1, 25: 27, 66: 20, 45: 2, 77: 9, 40: 8, 72: 1}\n",
      "[11, 39]\n",
      "{4: 2, 11: 49, 5: 10, 8: 6, 12: 14, 39: 46, 1: 1, 43: 1, 25: 27, 66: 20, 45: 2, 77: 10, 40: 9, 72: 1, 78: 1}\n"
     ]
    },
    {
     "name": "stderr",
     "output_type": "stream",
     "text": [
      "0: 384x640 11 cars, 4 trucks, 155.3ms\n",
      "Speed: 0.0ms pre-process, 155.3ms inference, 0.0ms postprocess per image at shape (1, 3, 640, 640)\n",
      "\n",
      "0: 384x640 12 cars, 5 trucks, 143.6ms\n",
      "Speed: 0.0ms pre-process, 143.6ms inference, 0.0ms postprocess per image at shape (1, 3, 640, 640)\n",
      "\n"
     ]
    },
    {
     "name": "stdout",
     "output_type": "stream",
     "text": [
      "[11, 39]\n",
      "{4: 2, 11: 49, 5: 10, 8: 6, 12: 14, 39: 46, 1: 1, 43: 1, 25: 27, 66: 20, 45: 2, 77: 11, 40: 10, 72: 1, 78: 2, 74: 1}\n",
      "[11, 39]\n",
      "{4: 2, 11: 49, 5: 10, 8: 6, 12: 14, 39: 46, 1: 1, 43: 1, 25: 27, 66: 20, 45: 2, 77: 12, 40: 11, 72: 1, 78: 3, 74: 1}\n"
     ]
    },
    {
     "name": "stderr",
     "output_type": "stream",
     "text": [
      "0: 384x640 10 cars, 5 trucks, 172.6ms\n",
      "Speed: 0.0ms pre-process, 172.6ms inference, 9.1ms postprocess per image at shape (1, 3, 640, 640)\n",
      "\n",
      "0: 384x640 13 cars, 3 trucks, 141.9ms\n",
      "Speed: 0.0ms pre-process, 141.9ms inference, 0.0ms postprocess per image at shape (1, 3, 640, 640)\n",
      "\n"
     ]
    },
    {
     "name": "stdout",
     "output_type": "stream",
     "text": [
      "[11, 39]\n",
      "{4: 2, 11: 49, 5: 10, 8: 6, 12: 14, 39: 46, 1: 1, 43: 1, 25: 27, 66: 20, 45: 2, 77: 13, 40: 11, 72: 1, 78: 4, 74: 1}\n",
      "[11, 39]\n",
      "{4: 2, 11: 49, 5: 10, 8: 6, 12: 14, 39: 46, 1: 1, 43: 1, 25: 27, 66: 20, 45: 2, 77: 13, 40: 11, 72: 1, 78: 5, 74: 1, 84: 1, 83: 1}\n"
     ]
    },
    {
     "name": "stderr",
     "output_type": "stream",
     "text": [
      "0: 384x640 14 cars, 3 trucks, 173.0ms\n",
      "Speed: 0.0ms pre-process, 173.0ms inference, 0.0ms postprocess per image at shape (1, 3, 640, 640)\n",
      "\n",
      "0: 384x640 13 cars, 2 trucks, 124.8ms\n",
      "Speed: 0.0ms pre-process, 124.8ms inference, 14.0ms postprocess per image at shape (1, 3, 640, 640)\n",
      "\n"
     ]
    },
    {
     "name": "stdout",
     "output_type": "stream",
     "text": [
      "[11, 39]\n",
      "{4: 2, 11: 49, 5: 10, 8: 6, 12: 14, 39: 46, 1: 1, 43: 1, 25: 27, 66: 20, 45: 2, 77: 13, 40: 11, 72: 1, 78: 6, 74: 1, 84: 2, 83: 2}\n",
      "[11, 39]\n",
      "{4: 2, 11: 49, 5: 10, 8: 6, 12: 14, 39: 46, 1: 1, 43: 1, 25: 27, 66: 20, 45: 2, 77: 13, 40: 11, 72: 1, 78: 6, 74: 2, 84: 3, 83: 3, 75: 1}\n"
     ]
    },
    {
     "name": "stderr",
     "output_type": "stream",
     "text": [
      "0: 384x640 12 cars, 3 trucks, 148.3ms\n",
      "Speed: 0.0ms pre-process, 148.3ms inference, 7.5ms postprocess per image at shape (1, 3, 640, 640)\n",
      "\n",
      "0: 384x640 13 cars, 1 truck, 99.0ms\n",
      "Speed: 2.7ms pre-process, 99.0ms inference, 15.2ms postprocess per image at shape (1, 3, 640, 640)\n",
      "\n"
     ]
    },
    {
     "name": "stdout",
     "output_type": "stream",
     "text": [
      "[11, 39]\n",
      "{4: 2, 11: 49, 5: 10, 8: 6, 12: 14, 39: 46, 1: 1, 43: 1, 25: 27, 66: 20, 45: 2, 77: 13, 40: 11, 72: 2, 78: 6, 74: 2, 84: 4, 83: 4, 75: 2}\n",
      "[11, 39]\n",
      "{4: 2, 11: 49, 5: 10, 8: 6, 12: 14, 39: 46, 1: 1, 43: 1, 25: 27, 66: 20, 45: 2, 77: 13, 40: 11, 72: 3, 78: 6, 74: 2, 84: 5, 83: 5, 75: 3}\n"
     ]
    },
    {
     "name": "stderr",
     "output_type": "stream",
     "text": [
      "0: 384x640 14 cars, 3 trucks, 131.4ms\n",
      "Speed: 0.0ms pre-process, 131.4ms inference, 9.5ms postprocess per image at shape (1, 3, 640, 640)\n",
      "\n",
      "0: 384x640 15 cars, 2 trucks, 133.1ms\n",
      "Speed: 0.0ms pre-process, 133.1ms inference, 12.2ms postprocess per image at shape (1, 3, 640, 640)\n",
      "\n"
     ]
    },
    {
     "name": "stdout",
     "output_type": "stream",
     "text": [
      "[11, 39]\n",
      "{4: 2, 11: 49, 5: 10, 8: 6, 12: 14, 39: 46, 1: 1, 43: 1, 25: 27, 66: 20, 45: 2, 77: 13, 40: 11, 72: 3, 78: 6, 74: 2, 84: 6, 83: 6, 75: 4}\n",
      "[11, 39]\n",
      "{4: 2, 11: 49, 5: 10, 8: 6, 12: 14, 39: 46, 1: 1, 43: 1, 25: 27, 66: 20, 45: 2, 77: 13, 40: 11, 72: 3, 78: 6, 74: 2, 84: 7, 83: 6, 75: 5}\n"
     ]
    },
    {
     "name": "stderr",
     "output_type": "stream",
     "text": [
      "0: 384x640 14 cars, 2 trucks, 143.9ms\n",
      "Speed: 0.0ms pre-process, 143.9ms inference, 3.6ms postprocess per image at shape (1, 3, 640, 640)\n",
      "\n",
      "0: 384x640 14 cars, 2 trucks, 127.3ms\n",
      "Speed: 0.0ms pre-process, 127.3ms inference, 0.0ms postprocess per image at shape (1, 3, 640, 640)\n",
      "\n"
     ]
    },
    {
     "name": "stdout",
     "output_type": "stream",
     "text": [
      "[11, 39]\n",
      "{4: 2, 11: 49, 5: 10, 8: 6, 12: 14, 39: 46, 1: 1, 43: 1, 25: 27, 66: 20, 45: 2, 77: 13, 40: 11, 72: 4, 78: 7, 74: 2, 84: 8, 83: 6, 75: 6}\n",
      "[11, 39]\n",
      "{4: 2, 11: 49, 5: 10, 8: 6, 12: 14, 39: 46, 1: 1, 43: 1, 25: 27, 66: 20, 45: 2, 77: 13, 40: 11, 72: 5, 78: 8, 74: 2, 84: 9, 83: 6, 75: 7, 87: 1}\n"
     ]
    },
    {
     "name": "stderr",
     "output_type": "stream",
     "text": [
      "0: 384x640 14 cars, 1 truck, 166.6ms\n",
      "Speed: 0.0ms pre-process, 166.6ms inference, 0.0ms postprocess per image at shape (1, 3, 640, 640)\n",
      "\n",
      "0: 384x640 12 cars, 3 trucks, 134.5ms\n",
      "Speed: 1.3ms pre-process, 134.5ms inference, 0.0ms postprocess per image at shape (1, 3, 640, 640)\n",
      "\n"
     ]
    },
    {
     "name": "stdout",
     "output_type": "stream",
     "text": [
      "[11, 39]\n",
      "{4: 2, 11: 49, 5: 10, 8: 6, 12: 14, 39: 46, 1: 1, 43: 1, 25: 27, 66: 20, 45: 2, 77: 13, 40: 11, 72: 6, 78: 8, 74: 2, 84: 10, 83: 6, 75: 8, 87: 1, 88: 1}\n",
      "[11, 39]\n",
      "{4: 2, 11: 49, 5: 10, 8: 6, 12: 14, 39: 46, 1: 1, 43: 1, 25: 27, 66: 20, 45: 2, 77: 13, 40: 11, 72: 7, 78: 8, 74: 2, 84: 10, 83: 6, 75: 9, 87: 1, 88: 1}\n"
     ]
    },
    {
     "name": "stderr",
     "output_type": "stream",
     "text": [
      "0: 384x640 14 cars, 2 trucks, 152.9ms\n",
      "Speed: 0.0ms pre-process, 152.9ms inference, 3.0ms postprocess per image at shape (1, 3, 640, 640)\n",
      "\n",
      "0: 384x640 14 cars, 1 truck, 135.5ms\n",
      "Speed: 0.0ms pre-process, 135.5ms inference, 8.3ms postprocess per image at shape (1, 3, 640, 640)\n",
      "\n"
     ]
    },
    {
     "name": "stdout",
     "output_type": "stream",
     "text": [
      "[11, 39]\n",
      "{4: 2, 11: 49, 5: 10, 8: 6, 12: 14, 39: 46, 1: 1, 43: 1, 25: 27, 66: 20, 45: 2, 77: 13, 40: 11, 72: 8, 78: 8, 74: 2, 84: 10, 83: 6, 75: 10, 87: 2, 88: 1}\n",
      "[11, 39]\n",
      "{4: 2, 11: 49, 5: 10, 8: 6, 12: 14, 39: 46, 1: 1, 43: 1, 25: 27, 66: 20, 45: 2, 77: 13, 40: 11, 72: 9, 78: 9, 74: 2, 84: 10, 83: 6, 75: 11, 87: 2, 88: 1}\n"
     ]
    },
    {
     "name": "stderr",
     "output_type": "stream",
     "text": [
      "0: 384x640 16 cars, 1 truck, 152.5ms\n",
      "Speed: 0.9ms pre-process, 152.5ms inference, 0.0ms postprocess per image at shape (1, 3, 640, 640)\n",
      "\n",
      "0: 384x640 14 cars, 2 trucks, 148.5ms\n",
      "Speed: 0.0ms pre-process, 148.5ms inference, 6.5ms postprocess per image at shape (1, 3, 640, 640)\n",
      "\n"
     ]
    },
    {
     "name": "stdout",
     "output_type": "stream",
     "text": [
      "[11, 39]\n",
      "{4: 2, 11: 49, 5: 10, 8: 6, 12: 14, 39: 46, 1: 1, 43: 1, 25: 27, 66: 20, 45: 2, 77: 13, 40: 11, 72: 10, 78: 10, 74: 2, 84: 10, 83: 6, 75: 12, 87: 3, 88: 1}\n",
      "[11, 39]\n",
      "{4: 2, 11: 49, 5: 10, 8: 6, 12: 14, 39: 46, 1: 1, 43: 1, 25: 27, 66: 20, 45: 2, 77: 13, 40: 11, 72: 11, 78: 10, 74: 2, 84: 10, 83: 6, 75: 13, 87: 3, 88: 1}\n"
     ]
    },
    {
     "name": "stderr",
     "output_type": "stream",
     "text": [
      "0: 384x640 14 cars, 2 trucks, 156.1ms\n",
      "Speed: 15.0ms pre-process, 156.1ms inference, 0.0ms postprocess per image at shape (1, 3, 640, 640)\n",
      "\n",
      "0: 384x640 14 cars, 1 truck, 153.9ms\n",
      "Speed: 1.1ms pre-process, 153.9ms inference, 2.1ms postprocess per image at shape (1, 3, 640, 640)\n",
      "\n"
     ]
    },
    {
     "name": "stdout",
     "output_type": "stream",
     "text": [
      "[11, 39]\n",
      "{4: 2, 11: 49, 5: 10, 8: 6, 12: 14, 39: 46, 1: 1, 43: 1, 25: 27, 66: 20, 45: 2, 77: 13, 40: 11, 72: 12, 78: 10, 74: 2, 84: 10, 83: 6, 75: 14, 87: 3, 88: 1}\n",
      "[11, 39]\n",
      "{4: 2, 11: 49, 5: 10, 8: 6, 12: 14, 39: 46, 1: 1, 43: 1, 25: 27, 66: 20, 45: 2, 77: 13, 40: 11, 72: 13, 78: 10, 74: 2, 84: 10, 83: 6, 75: 15, 87: 3, 88: 1}\n"
     ]
    },
    {
     "name": "stderr",
     "output_type": "stream",
     "text": [
      "0: 384x640 14 cars, 1 bus, 1 truck, 150.0ms\n",
      "Speed: 0.0ms pre-process, 150.0ms inference, 3.7ms postprocess per image at shape (1, 3, 640, 640)\n",
      "\n",
      "0: 384x640 15 cars, 2 trucks, 141.1ms\n",
      "Speed: 0.0ms pre-process, 141.1ms inference, 0.0ms postprocess per image at shape (1, 3, 640, 640)\n",
      "\n"
     ]
    },
    {
     "name": "stdout",
     "output_type": "stream",
     "text": [
      "[11, 39]\n",
      "{4: 2, 11: 49, 5: 10, 8: 6, 12: 14, 39: 46, 1: 1, 43: 1, 25: 27, 66: 20, 45: 2, 77: 13, 40: 11, 72: 14, 78: 11, 74: 2, 84: 10, 83: 6, 75: 16, 87: 3, 88: 1}\n",
      "[11, 39]\n",
      "{4: 2, 11: 49, 5: 10, 8: 6, 12: 14, 39: 46, 1: 1, 43: 1, 25: 27, 66: 20, 45: 2, 77: 13, 40: 11, 72: 15, 78: 12, 74: 2, 84: 10, 83: 6, 75: 17, 87: 3, 88: 1, 23: 1}\n"
     ]
    },
    {
     "name": "stderr",
     "output_type": "stream",
     "text": [
      "0: 384x640 16 cars, 148.6ms\n",
      "Speed: 0.0ms pre-process, 148.6ms inference, 0.0ms postprocess per image at shape (1, 3, 640, 640)\n",
      "\n",
      "0: 384x640 15 cars, 128.1ms\n",
      "Speed: 0.0ms pre-process, 128.1ms inference, 2.7ms postprocess per image at shape (1, 3, 640, 640)\n",
      "\n"
     ]
    },
    {
     "name": "stdout",
     "output_type": "stream",
     "text": [
      "[11, 39]\n",
      "{4: 2, 11: 49, 5: 10, 8: 6, 12: 14, 39: 46, 1: 1, 43: 1, 25: 27, 66: 20, 45: 2, 77: 13, 40: 12, 72: 16, 78: 13, 74: 2, 84: 10, 83: 6, 75: 18, 87: 3, 88: 1, 23: 1}\n",
      "[11, 39]\n",
      "{4: 2, 11: 49, 5: 10, 8: 6, 12: 14, 39: 46, 1: 1, 43: 1, 25: 27, 66: 20, 45: 2, 77: 13, 40: 12, 72: 16, 78: 14, 74: 2, 84: 10, 83: 6, 75: 19, 87: 3, 88: 1, 23: 1, 92: 1}\n"
     ]
    },
    {
     "name": "stderr",
     "output_type": "stream",
     "text": [
      "0: 384x640 15 cars, 151.6ms\n",
      "Speed: 0.0ms pre-process, 151.6ms inference, 0.8ms postprocess per image at shape (1, 3, 640, 640)\n",
      "\n",
      "0: 384x640 15 cars, 1 truck, 126.8ms\n",
      "Speed: 0.0ms pre-process, 126.8ms inference, 0.0ms postprocess per image at shape (1, 3, 640, 640)\n",
      "\n"
     ]
    },
    {
     "name": "stdout",
     "output_type": "stream",
     "text": [
      "[11, 39]\n",
      "{4: 2, 11: 49, 5: 10, 8: 6, 12: 14, 39: 46, 1: 1, 43: 1, 25: 27, 66: 20, 45: 2, 77: 13, 40: 12, 72: 16, 78: 14, 74: 2, 84: 10, 83: 6, 75: 20, 87: 3, 88: 1, 23: 1, 92: 2}\n",
      "[11, 39]\n",
      "{4: 2, 11: 49, 5: 10, 8: 6, 12: 14, 39: 46, 1: 1, 43: 1, 25: 27, 66: 20, 45: 2, 77: 13, 40: 12, 72: 16, 78: 14, 74: 2, 84: 10, 83: 6, 75: 21, 87: 3, 88: 1, 23: 2, 92: 3}\n"
     ]
    },
    {
     "name": "stderr",
     "output_type": "stream",
     "text": [
      "0: 384x640 14 cars, 1 truck, 173.8ms\n",
      "Speed: 0.0ms pre-process, 173.8ms inference, 0.0ms postprocess per image at shape (1, 3, 640, 640)\n",
      "\n",
      "0: 384x640 13 cars, 1 truck, 132.7ms\n",
      "Speed: 0.0ms pre-process, 132.7ms inference, 0.0ms postprocess per image at shape (1, 3, 640, 640)\n",
      "\n"
     ]
    },
    {
     "name": "stdout",
     "output_type": "stream",
     "text": [
      "[11, 39]\n",
      "{4: 2, 11: 49, 5: 10, 8: 6, 12: 14, 39: 46, 1: 1, 43: 1, 25: 27, 66: 20, 45: 2, 77: 13, 40: 13, 72: 16, 78: 14, 74: 2, 84: 10, 83: 6, 75: 22, 87: 3, 88: 1, 23: 3, 92: 4}\n",
      "[11, 39]\n",
      "{4: 2, 11: 49, 5: 10, 8: 6, 12: 14, 39: 46, 1: 1, 43: 1, 25: 27, 66: 20, 45: 2, 77: 13, 40: 14, 72: 16, 78: 14, 74: 2, 84: 10, 83: 6, 75: 23, 87: 3, 88: 1, 23: 4, 92: 5, 89: 1}\n"
     ]
    },
    {
     "name": "stderr",
     "output_type": "stream",
     "text": [
      "0: 384x640 14 cars, 1 bus, 142.7ms\n",
      "Speed: 9.0ms pre-process, 142.7ms inference, 8.0ms postprocess per image at shape (1, 3, 640, 640)\n",
      "\n",
      "0: 384x640 14 cars, 1 truck, 136.2ms\n",
      "Speed: 2.4ms pre-process, 136.2ms inference, 0.0ms postprocess per image at shape (1, 3, 640, 640)\n",
      "\n"
     ]
    },
    {
     "name": "stdout",
     "output_type": "stream",
     "text": [
      "[11, 39]\n",
      "{4: 2, 11: 49, 5: 10, 8: 6, 12: 14, 39: 46, 1: 1, 43: 1, 25: 27, 66: 20, 45: 2, 77: 13, 40: 15, 72: 16, 78: 14, 74: 2, 84: 10, 83: 6, 75: 24, 87: 3, 88: 1, 23: 5, 92: 6, 89: 2}\n",
      "[11, 39]\n",
      "{4: 2, 11: 49, 5: 10, 8: 6, 12: 14, 39: 46, 1: 1, 43: 1, 25: 27, 66: 20, 45: 2, 77: 13, 40: 16, 72: 16, 78: 14, 74: 2, 84: 10, 83: 6, 75: 25, 87: 3, 88: 1, 23: 6, 92: 7, 89: 3}\n"
     ]
    },
    {
     "name": "stderr",
     "output_type": "stream",
     "text": [
      "0: 384x640 13 cars, 1 bus, 146.9ms\n",
      "Speed: 1.1ms pre-process, 146.9ms inference, 7.0ms postprocess per image at shape (1, 3, 640, 640)\n",
      "\n",
      "0: 384x640 14 cars, 1 truck, 133.2ms\n",
      "Speed: 0.0ms pre-process, 133.2ms inference, 1.5ms postprocess per image at shape (1, 3, 640, 640)\n",
      "\n"
     ]
    },
    {
     "name": "stdout",
     "output_type": "stream",
     "text": [
      "[11, 39]\n",
      "{4: 2, 11: 49, 5: 10, 8: 6, 12: 14, 39: 46, 1: 1, 43: 1, 25: 27, 66: 20, 45: 2, 77: 13, 40: 17, 72: 16, 78: 15, 74: 2, 84: 10, 83: 6, 75: 26, 87: 4, 88: 1, 23: 7, 92: 7, 89: 4}\n",
      "[11, 39]\n",
      "{4: 2, 11: 49, 5: 10, 8: 6, 12: 14, 39: 46, 1: 1, 43: 1, 25: 27, 66: 20, 45: 2, 77: 13, 40: 18, 72: 16, 78: 16, 74: 2, 84: 10, 83: 6, 75: 27, 87: 4, 88: 1, 23: 8, 92: 7, 89: 4}\n"
     ]
    },
    {
     "name": "stderr",
     "output_type": "stream",
     "text": [
      "0: 384x640 14 cars, 1 truck, 138.5ms\n",
      "Speed: 0.0ms pre-process, 138.5ms inference, 0.0ms postprocess per image at shape (1, 3, 640, 640)\n",
      "\n",
      "0: 384x640 13 cars, 1 bus, 1 truck, 128.1ms\n",
      "Speed: 0.0ms pre-process, 128.1ms inference, 0.0ms postprocess per image at shape (1, 3, 640, 640)\n",
      "\n"
     ]
    },
    {
     "name": "stdout",
     "output_type": "stream",
     "text": [
      "[11, 39]\n",
      "{4: 2, 11: 49, 5: 10, 8: 6, 12: 14, 39: 46, 1: 1, 43: 1, 25: 27, 66: 20, 45: 2, 77: 13, 40: 19, 72: 16, 78: 17, 74: 2, 84: 10, 83: 6, 75: 28, 87: 4, 88: 1, 23: 8, 92: 7, 89: 4}\n",
      "[11, 39]\n",
      "{4: 2, 11: 49, 5: 10, 8: 6, 12: 14, 39: 46, 1: 1, 43: 1, 25: 27, 66: 20, 45: 2, 77: 13, 40: 20, 72: 16, 78: 18, 74: 2, 84: 10, 83: 6, 75: 29, 87: 5, 88: 1, 23: 8, 92: 8, 89: 4}\n"
     ]
    },
    {
     "name": "stderr",
     "output_type": "stream",
     "text": [
      "0: 384x640 11 cars, 1 bus, 1 truck, 141.4ms\n",
      "Speed: 1.1ms pre-process, 141.4ms inference, 0.0ms postprocess per image at shape (1, 3, 640, 640)\n",
      "\n",
      "0: 384x640 13 cars, 1 truck, 151.0ms\n",
      "Speed: 0.0ms pre-process, 151.0ms inference, 0.0ms postprocess per image at shape (1, 3, 640, 640)\n",
      "\n"
     ]
    },
    {
     "name": "stdout",
     "output_type": "stream",
     "text": [
      "[11, 39]\n",
      "{4: 2, 11: 49, 5: 10, 8: 6, 12: 14, 39: 46, 1: 1, 43: 1, 25: 27, 66: 20, 45: 2, 77: 13, 40: 21, 72: 16, 78: 19, 74: 2, 84: 10, 83: 6, 75: 30, 87: 5, 88: 1, 23: 8, 92: 8, 89: 4}\n",
      "[11, 39, 75]\n",
      "{4: 2, 11: 49, 5: 10, 8: 6, 12: 14, 39: 46, 1: 1, 43: 1, 25: 27, 66: 20, 45: 2, 77: 13, 40: 22, 72: 16, 78: 20, 74: 2, 84: 10, 83: 6, 75: 31, 87: 5, 88: 1, 23: 8, 92: 8, 89: 4}\n"
     ]
    },
    {
     "name": "stderr",
     "output_type": "stream",
     "text": [
      "0: 384x640 14 cars, 1 truck, 151.0ms\n",
      "Speed: 0.0ms pre-process, 151.0ms inference, 0.0ms postprocess per image at shape (1, 3, 640, 640)\n",
      "\n",
      "0: 384x640 14 cars, 1 truck, 131.7ms\n",
      "Speed: 0.3ms pre-process, 131.7ms inference, 4.4ms postprocess per image at shape (1, 3, 640, 640)\n",
      "\n"
     ]
    },
    {
     "name": "stdout",
     "output_type": "stream",
     "text": [
      "[11, 39, 75]\n",
      "{4: 2, 11: 49, 5: 10, 8: 6, 12: 14, 39: 46, 1: 1, 43: 1, 25: 27, 66: 20, 45: 2, 77: 13, 40: 23, 72: 16, 78: 21, 74: 2, 84: 10, 83: 6, 75: 32, 87: 5, 88: 1, 23: 8, 92: 8, 89: 4}\n",
      "[11, 39, 75]\n",
      "{4: 2, 11: 49, 5: 10, 8: 6, 12: 14, 39: 46, 1: 1, 43: 1, 25: 27, 66: 20, 45: 2, 77: 13, 40: 24, 72: 16, 78: 22, 74: 2, 84: 10, 83: 6, 75: 33, 87: 5, 88: 1, 23: 8, 92: 8, 89: 4, 93: 1}\n"
     ]
    },
    {
     "name": "stderr",
     "output_type": "stream",
     "text": [
      "0: 384x640 13 cars, 1 truck, 176.8ms\n",
      "Speed: 0.0ms pre-process, 176.8ms inference, 3.2ms postprocess per image at shape (1, 3, 640, 640)\n",
      "\n",
      "0: 384x640 13 cars, 143.2ms\n",
      "Speed: 0.0ms pre-process, 143.2ms inference, 9.1ms postprocess per image at shape (1, 3, 640, 640)\n",
      "\n"
     ]
    },
    {
     "name": "stdout",
     "output_type": "stream",
     "text": [
      "[11, 39, 75]\n",
      "{4: 2, 11: 49, 5: 10, 8: 6, 12: 14, 39: 46, 1: 1, 43: 1, 25: 27, 66: 20, 45: 2, 77: 13, 40: 25, 72: 16, 78: 22, 74: 2, 84: 10, 83: 6, 75: 34, 87: 5, 88: 1, 23: 8, 92: 9, 89: 4, 93: 2}\n",
      "[11, 39, 75]\n",
      "{4: 2, 11: 49, 5: 10, 8: 6, 12: 14, 39: 46, 1: 1, 43: 1, 25: 27, 66: 20, 45: 2, 77: 13, 40: 25, 72: 16, 78: 22, 74: 2, 84: 10, 83: 6, 75: 35, 87: 5, 88: 1, 23: 8, 92: 10, 89: 4, 93: 3}\n"
     ]
    },
    {
     "name": "stderr",
     "output_type": "stream",
     "text": [
      "0: 384x640 12 cars, 1 truck, 152.4ms\n",
      "Speed: 0.0ms pre-process, 152.4ms inference, 0.0ms postprocess per image at shape (1, 3, 640, 640)\n",
      "\n",
      "0: 384x640 12 cars, 1 bus, 1 truck, 129.3ms\n",
      "Speed: 1.1ms pre-process, 129.3ms inference, 0.0ms postprocess per image at shape (1, 3, 640, 640)\n",
      "\n"
     ]
    },
    {
     "name": "stdout",
     "output_type": "stream",
     "text": [
      "[11, 39, 75]\n",
      "{4: 2, 11: 49, 5: 10, 8: 6, 12: 14, 39: 46, 1: 1, 43: 1, 25: 27, 66: 20, 45: 2, 77: 13, 40: 25, 72: 16, 78: 22, 74: 2, 84: 10, 83: 6, 75: 36, 87: 6, 88: 1, 23: 8, 92: 11, 89: 4, 93: 4}\n",
      "[11, 39, 75]\n",
      "{4: 2, 11: 49, 5: 10, 8: 6, 12: 14, 39: 46, 1: 1, 43: 1, 25: 27, 66: 20, 45: 2, 77: 13, 40: 25, 72: 16, 78: 22, 74: 2, 84: 10, 83: 6, 75: 37, 87: 6, 88: 1, 23: 8, 92: 12, 89: 4, 93: 5}\n"
     ]
    },
    {
     "name": "stderr",
     "output_type": "stream",
     "text": [
      "0: 384x640 12 cars, 151.6ms\n",
      "Speed: 0.0ms pre-process, 151.6ms inference, 0.0ms postprocess per image at shape (1, 3, 640, 640)\n",
      "\n",
      "0: 384x640 12 cars, 133.2ms\n",
      "Speed: 0.0ms pre-process, 133.2ms inference, 0.0ms postprocess per image at shape (1, 3, 640, 640)\n",
      "\n"
     ]
    },
    {
     "name": "stdout",
     "output_type": "stream",
     "text": [
      "[11, 39, 75]\n",
      "{4: 2, 11: 49, 5: 10, 8: 6, 12: 14, 39: 46, 1: 1, 43: 1, 25: 27, 66: 20, 45: 2, 77: 13, 40: 25, 72: 16, 78: 22, 74: 2, 84: 10, 83: 6, 75: 38, 87: 6, 88: 1, 23: 8, 92: 13, 89: 4, 93: 6}\n",
      "[11, 39, 75]\n",
      "{4: 2, 11: 49, 5: 10, 8: 6, 12: 14, 39: 46, 1: 1, 43: 1, 25: 27, 66: 20, 45: 2, 77: 13, 40: 25, 72: 16, 78: 22, 74: 2, 84: 10, 83: 6, 75: 39, 87: 6, 88: 1, 23: 8, 92: 14, 89: 4, 93: 7}\n"
     ]
    },
    {
     "name": "stderr",
     "output_type": "stream",
     "text": [
      "0: 384x640 12 cars, 152.3ms\n",
      "Speed: 0.0ms pre-process, 152.3ms inference, 1.1ms postprocess per image at shape (1, 3, 640, 640)\n",
      "\n",
      "0: 384x640 12 cars, 140.6ms\n",
      "Speed: 0.0ms pre-process, 140.6ms inference, 2.1ms postprocess per image at shape (1, 3, 640, 640)\n",
      "\n"
     ]
    },
    {
     "name": "stdout",
     "output_type": "stream",
     "text": [
      "[11, 39, 75]\n",
      "{4: 2, 11: 49, 5: 10, 8: 6, 12: 14, 39: 46, 1: 1, 43: 1, 25: 27, 66: 20, 45: 2, 77: 13, 40: 25, 72: 16, 78: 22, 74: 2, 84: 10, 83: 6, 75: 40, 87: 6, 88: 1, 23: 8, 92: 15, 89: 4, 93: 8}\n",
      "[11, 39, 75]\n",
      "{4: 2, 11: 49, 5: 10, 8: 6, 12: 14, 39: 46, 1: 1, 43: 1, 25: 27, 66: 20, 45: 2, 77: 13, 40: 25, 72: 16, 78: 22, 74: 2, 84: 10, 83: 6, 75: 41, 87: 6, 88: 1, 23: 8, 92: 16, 89: 4, 93: 8}\n"
     ]
    },
    {
     "name": "stderr",
     "output_type": "stream",
     "text": [
      "0: 384x640 12 cars, 151.2ms\n",
      "Speed: 3.2ms pre-process, 151.2ms inference, 0.0ms postprocess per image at shape (1, 3, 640, 640)\n",
      "\n",
      "0: 384x640 12 cars, 147.4ms\n",
      "Speed: 0.0ms pre-process, 147.4ms inference, 0.0ms postprocess per image at shape (1, 3, 640, 640)\n",
      "\n"
     ]
    },
    {
     "name": "stdout",
     "output_type": "stream",
     "text": [
      "[11, 39, 75]\n",
      "{4: 2, 11: 49, 5: 10, 8: 6, 12: 14, 39: 46, 1: 1, 43: 1, 25: 27, 66: 20, 45: 2, 77: 13, 40: 25, 72: 16, 78: 22, 74: 2, 84: 10, 83: 6, 75: 42, 87: 7, 88: 1, 23: 8, 92: 17, 89: 4, 93: 8}\n",
      "[11, 39, 75]\n",
      "{4: 2, 11: 49, 5: 10, 8: 6, 12: 14, 39: 46, 1: 1, 43: 1, 25: 27, 66: 20, 45: 2, 77: 13, 40: 25, 72: 16, 78: 22, 74: 2, 84: 10, 83: 6, 75: 43, 87: 8, 88: 1, 23: 8, 92: 18, 89: 4, 93: 9}\n"
     ]
    },
    {
     "name": "stderr",
     "output_type": "stream",
     "text": [
      "0: 384x640 12 cars, 147.1ms\n",
      "Speed: 0.0ms pre-process, 147.1ms inference, 0.0ms postprocess per image at shape (1, 3, 640, 640)\n",
      "\n",
      "0: 384x640 12 cars, 127.0ms\n",
      "Speed: 0.0ms pre-process, 127.0ms inference, 15.3ms postprocess per image at shape (1, 3, 640, 640)\n",
      "\n"
     ]
    },
    {
     "name": "stdout",
     "output_type": "stream",
     "text": [
      "[11, 39, 75]\n",
      "{4: 2, 11: 49, 5: 10, 8: 6, 12: 14, 39: 46, 1: 1, 43: 1, 25: 27, 66: 20, 45: 2, 77: 13, 40: 25, 72: 16, 78: 22, 74: 2, 84: 10, 83: 6, 75: 44, 87: 9, 88: 1, 23: 8, 92: 19, 89: 4, 93: 10}\n",
      "[11, 39, 75]\n",
      "{4: 2, 11: 49, 5: 10, 8: 6, 12: 14, 39: 46, 1: 1, 43: 1, 25: 27, 66: 20, 45: 2, 77: 13, 40: 25, 72: 16, 78: 22, 74: 2, 84: 10, 83: 6, 75: 45, 87: 10, 88: 1, 23: 8, 92: 20, 89: 4, 93: 11}\n"
     ]
    },
    {
     "name": "stderr",
     "output_type": "stream",
     "text": [
      "0: 384x640 12 cars, 141.4ms\n",
      "Speed: 1.2ms pre-process, 141.4ms inference, 0.0ms postprocess per image at shape (1, 3, 640, 640)\n",
      "\n",
      "0: 384x640 12 cars, 136.9ms\n",
      "Speed: 0.0ms pre-process, 136.9ms inference, 0.0ms postprocess per image at shape (1, 3, 640, 640)\n",
      "\n"
     ]
    },
    {
     "name": "stdout",
     "output_type": "stream",
     "text": [
      "[11, 39, 75]\n",
      "{4: 2, 11: 49, 5: 10, 8: 6, 12: 14, 39: 46, 1: 1, 43: 1, 25: 27, 66: 20, 45: 2, 77: 13, 40: 25, 72: 16, 78: 22, 74: 2, 84: 10, 83: 6, 75: 46, 87: 10, 88: 1, 23: 8, 92: 21, 89: 4, 93: 12}\n",
      "[11, 39, 75]\n",
      "{4: 2, 11: 49, 5: 10, 8: 6, 12: 14, 39: 46, 1: 1, 43: 1, 25: 27, 66: 20, 45: 2, 77: 13, 40: 25, 72: 16, 78: 22, 74: 2, 84: 10, 83: 6, 75: 47, 87: 10, 88: 1, 23: 8, 92: 22, 89: 4, 93: 13}\n"
     ]
    },
    {
     "name": "stderr",
     "output_type": "stream",
     "text": [
      "0: 384x640 13 cars, 150.6ms\n",
      "Speed: 9.8ms pre-process, 150.6ms inference, 0.0ms postprocess per image at shape (1, 3, 640, 640)\n",
      "\n",
      "0: 384x640 13 cars, 99.0ms\n",
      "Speed: 1.0ms pre-process, 99.0ms inference, 0.0ms postprocess per image at shape (1, 3, 640, 640)\n",
      "\n"
     ]
    },
    {
     "name": "stdout",
     "output_type": "stream",
     "text": [
      "[11, 39, 75]\n",
      "{4: 2, 11: 49, 5: 10, 8: 6, 12: 14, 39: 46, 1: 1, 43: 1, 25: 27, 66: 20, 45: 2, 77: 13, 40: 25, 72: 16, 78: 22, 74: 2, 84: 10, 83: 6, 75: 48, 87: 10, 88: 1, 23: 8, 92: 23, 89: 4, 93: 14}\n",
      "[11, 39, 75]\n",
      "{4: 2, 11: 49, 5: 10, 8: 6, 12: 14, 39: 46, 1: 1, 43: 1, 25: 27, 66: 20, 45: 2, 77: 13, 40: 25, 72: 16, 78: 22, 74: 2, 84: 10, 83: 6, 75: 49, 87: 10, 88: 1, 23: 8, 92: 24, 89: 4, 93: 15}\n"
     ]
    },
    {
     "name": "stderr",
     "output_type": "stream",
     "text": [
      "0: 384x640 12 cars, 97.9ms\n",
      "Speed: 0.0ms pre-process, 97.9ms inference, 1.0ms postprocess per image at shape (1, 3, 640, 640)\n",
      "\n",
      "0: 384x640 13 cars, 108.3ms\n",
      "Speed: 0.0ms pre-process, 108.3ms inference, 0.0ms postprocess per image at shape (1, 3, 640, 640)\n",
      "\n"
     ]
    },
    {
     "name": "stdout",
     "output_type": "stream",
     "text": [
      "[11, 39, 75]\n",
      "{4: 2, 11: 49, 5: 10, 8: 6, 12: 14, 39: 46, 1: 1, 43: 1, 25: 27, 66: 20, 45: 2, 77: 13, 40: 25, 72: 16, 78: 22, 74: 2, 84: 10, 83: 6, 75: 50, 87: 10, 88: 1, 23: 8, 92: 25, 89: 4, 93: 16}\n",
      "[11, 39, 75]\n",
      "{4: 2, 11: 49, 5: 10, 8: 6, 12: 14, 39: 46, 1: 1, 43: 1, 25: 27, 66: 20, 45: 2, 77: 13, 40: 25, 72: 16, 78: 22, 74: 2, 84: 10, 83: 6, 75: 51, 87: 10, 88: 1, 23: 8, 92: 26, 89: 4, 93: 16}\n"
     ]
    },
    {
     "name": "stderr",
     "output_type": "stream",
     "text": [
      "0: 384x640 13 cars, 133.4ms\n",
      "Speed: 0.0ms pre-process, 133.4ms inference, 0.0ms postprocess per image at shape (1, 3, 640, 640)\n",
      "\n",
      "0: 384x640 14 cars, 112.7ms\n",
      "Speed: 0.0ms pre-process, 112.7ms inference, 0.0ms postprocess per image at shape (1, 3, 640, 640)\n",
      "\n"
     ]
    },
    {
     "name": "stdout",
     "output_type": "stream",
     "text": [
      "[11, 39, 75]\n",
      "{4: 2, 11: 49, 5: 10, 8: 6, 12: 14, 39: 46, 1: 1, 43: 1, 25: 27, 66: 20, 45: 2, 77: 13, 40: 25, 72: 16, 78: 22, 74: 2, 84: 10, 83: 6, 75: 52, 87: 10, 88: 1, 23: 8, 92: 27, 89: 4, 93: 16}\n",
      "[11, 39, 75]\n",
      "{4: 2, 11: 49, 5: 10, 8: 6, 12: 14, 39: 46, 1: 1, 43: 1, 25: 27, 66: 20, 45: 2, 77: 13, 40: 25, 72: 16, 78: 22, 74: 2, 84: 10, 83: 6, 75: 53, 87: 10, 88: 1, 23: 8, 92: 28, 89: 4, 93: 16}\n"
     ]
    },
    {
     "name": "stderr",
     "output_type": "stream",
     "text": [
      "0: 384x640 13 cars, 150.7ms\n",
      "Speed: 0.0ms pre-process, 150.7ms inference, 0.0ms postprocess per image at shape (1, 3, 640, 640)\n",
      "\n",
      "0: 384x640 14 cars, 135.9ms\n",
      "Speed: 0.0ms pre-process, 135.9ms inference, 0.0ms postprocess per image at shape (1, 3, 640, 640)\n",
      "\n"
     ]
    },
    {
     "name": "stdout",
     "output_type": "stream",
     "text": [
      "[11, 39, 75]\n",
      "{4: 2, 11: 49, 5: 10, 8: 6, 12: 14, 39: 46, 1: 1, 43: 1, 25: 27, 66: 20, 45: 2, 77: 13, 40: 25, 72: 16, 78: 22, 74: 2, 84: 10, 83: 6, 75: 54, 87: 10, 88: 1, 23: 8, 92: 29, 89: 4, 93: 16}\n",
      "[11, 39, 75]\n",
      "{4: 2, 11: 49, 5: 10, 8: 6, 12: 14, 39: 46, 1: 1, 43: 1, 25: 27, 66: 20, 45: 2, 77: 13, 40: 25, 72: 16, 78: 22, 74: 2, 84: 10, 83: 6, 75: 55, 87: 10, 88: 1, 23: 8, 92: 30, 89: 4, 93: 16}\n"
     ]
    },
    {
     "name": "stderr",
     "output_type": "stream",
     "text": [
      "0: 384x640 14 cars, 153.6ms\n",
      "Speed: 0.0ms pre-process, 153.6ms inference, 0.0ms postprocess per image at shape (1, 3, 640, 640)\n",
      "\n",
      "0: 384x640 14 cars, 137.1ms\n",
      "Speed: 0.0ms pre-process, 137.1ms inference, 0.0ms postprocess per image at shape (1, 3, 640, 640)\n",
      "\n"
     ]
    },
    {
     "name": "stdout",
     "output_type": "stream",
     "text": [
      "[11, 39, 75, 92]\n",
      "{4: 2, 11: 49, 5: 10, 8: 6, 12: 14, 39: 46, 1: 1, 43: 1, 25: 27, 66: 20, 45: 2, 77: 13, 40: 25, 72: 16, 78: 22, 74: 2, 84: 10, 83: 6, 75: 56, 87: 10, 88: 1, 23: 8, 92: 31, 89: 4, 93: 16}\n",
      "[11, 39, 75, 92]\n",
      "{4: 2, 11: 49, 5: 10, 8: 6, 12: 14, 39: 46, 1: 1, 43: 1, 25: 27, 66: 20, 45: 2, 77: 13, 40: 25, 72: 16, 78: 22, 74: 2, 84: 10, 83: 6, 75: 57, 87: 10, 88: 1, 23: 8, 92: 32, 89: 4, 93: 16, 96: 1}\n"
     ]
    },
    {
     "name": "stderr",
     "output_type": "stream",
     "text": [
      "0: 384x640 14 cars, 135.8ms\n",
      "Speed: 0.2ms pre-process, 135.8ms inference, 0.0ms postprocess per image at shape (1, 3, 640, 640)\n",
      "\n",
      "0: 384x640 14 cars, 132.1ms\n",
      "Speed: 0.0ms pre-process, 132.1ms inference, 1.5ms postprocess per image at shape (1, 3, 640, 640)\n",
      "\n"
     ]
    },
    {
     "name": "stdout",
     "output_type": "stream",
     "text": [
      "[11, 39, 75, 92]\n",
      "{4: 2, 11: 49, 5: 10, 8: 6, 12: 14, 39: 46, 1: 1, 43: 1, 25: 27, 66: 20, 45: 2, 77: 13, 40: 25, 72: 16, 78: 22, 74: 2, 84: 10, 83: 6, 75: 58, 87: 10, 88: 1, 23: 8, 92: 33, 89: 4, 93: 16, 96: 2}\n",
      "[11, 39, 75, 92]\n",
      "{4: 2, 11: 49, 5: 10, 8: 6, 12: 14, 39: 46, 1: 1, 43: 1, 25: 27, 66: 20, 45: 2, 77: 13, 40: 25, 72: 16, 78: 22, 74: 2, 84: 10, 83: 6, 75: 59, 87: 10, 88: 1, 23: 8, 92: 34, 89: 4, 93: 16, 96: 3}\n"
     ]
    },
    {
     "name": "stderr",
     "output_type": "stream",
     "text": [
      "0: 384x640 14 cars, 123.8ms\n",
      "Speed: 14.6ms pre-process, 123.8ms inference, 0.0ms postprocess per image at shape (1, 3, 640, 640)\n",
      "\n",
      "0: 384x640 14 cars, 141.5ms\n",
      "Speed: 0.0ms pre-process, 141.5ms inference, 2.9ms postprocess per image at shape (1, 3, 640, 640)\n",
      "\n"
     ]
    },
    {
     "name": "stdout",
     "output_type": "stream",
     "text": [
      "[11, 39, 75, 92]\n",
      "{4: 2, 11: 49, 5: 10, 8: 6, 12: 14, 39: 46, 1: 1, 43: 1, 25: 27, 66: 20, 45: 2, 77: 13, 40: 25, 72: 16, 78: 22, 74: 2, 84: 10, 83: 6, 75: 60, 87: 10, 88: 1, 23: 8, 92: 35, 89: 4, 93: 16, 96: 4}\n",
      "[11, 39, 75, 92]\n",
      "{4: 2, 11: 49, 5: 10, 8: 6, 12: 14, 39: 46, 1: 1, 43: 1, 25: 27, 66: 20, 45: 2, 77: 13, 40: 25, 72: 16, 78: 22, 74: 2, 84: 10, 83: 6, 75: 61, 87: 10, 88: 1, 23: 8, 92: 36, 89: 4, 93: 16, 96: 5}\n"
     ]
    },
    {
     "name": "stderr",
     "output_type": "stream",
     "text": [
      "0: 384x640 14 cars, 150.8ms\n",
      "Speed: 0.0ms pre-process, 150.8ms inference, 2.0ms postprocess per image at shape (1, 3, 640, 640)\n",
      "\n",
      "0: 384x640 14 cars, 142.9ms\n",
      "Speed: 0.0ms pre-process, 142.9ms inference, 5.3ms postprocess per image at shape (1, 3, 640, 640)\n",
      "\n"
     ]
    },
    {
     "name": "stdout",
     "output_type": "stream",
     "text": [
      "[11, 39, 75, 92]\n",
      "{4: 2, 11: 49, 5: 10, 8: 6, 12: 14, 39: 46, 1: 1, 43: 1, 25: 27, 66: 20, 45: 2, 77: 13, 40: 25, 72: 16, 78: 22, 74: 2, 84: 10, 83: 6, 75: 62, 87: 10, 88: 1, 23: 8, 92: 37, 89: 4, 93: 16, 96: 5}\n",
      "[11, 39, 75, 92]\n",
      "{4: 2, 11: 49, 5: 10, 8: 6, 12: 14, 39: 46, 1: 1, 43: 1, 25: 27, 66: 20, 45: 2, 77: 13, 40: 25, 72: 16, 78: 22, 74: 2, 84: 10, 83: 6, 75: 63, 87: 10, 88: 1, 23: 8, 92: 38, 89: 4, 93: 16, 96: 6}\n"
     ]
    },
    {
     "name": "stderr",
     "output_type": "stream",
     "text": [
      "0: 384x640 13 cars, 155.4ms\n",
      "Speed: 0.0ms pre-process, 155.4ms inference, 0.0ms postprocess per image at shape (1, 3, 640, 640)\n",
      "\n",
      "0: 384x640 14 cars, 148.0ms\n",
      "Speed: 0.0ms pre-process, 148.0ms inference, 0.0ms postprocess per image at shape (1, 3, 640, 640)\n",
      "\n"
     ]
    },
    {
     "name": "stdout",
     "output_type": "stream",
     "text": [
      "[11, 39, 75, 92]\n",
      "{4: 2, 11: 49, 5: 10, 8: 6, 12: 14, 39: 46, 1: 1, 43: 1, 25: 27, 66: 20, 45: 2, 77: 13, 40: 25, 72: 16, 78: 22, 74: 2, 84: 10, 83: 6, 75: 64, 87: 10, 88: 1, 23: 8, 92: 39, 89: 4, 93: 16, 96: 7}\n",
      "[11, 39, 75, 92]\n",
      "{4: 2, 11: 49, 5: 10, 8: 6, 12: 14, 39: 46, 1: 1, 43: 1, 25: 27, 66: 20, 45: 2, 77: 13, 40: 25, 72: 16, 78: 22, 74: 2, 84: 10, 83: 6, 75: 65, 87: 10, 88: 1, 23: 8, 92: 40, 89: 4, 93: 16, 96: 8}\n"
     ]
    },
    {
     "name": "stderr",
     "output_type": "stream",
     "text": [
      "0: 384x640 14 cars, 130.0ms\n",
      "Speed: 0.0ms pre-process, 130.0ms inference, 10.5ms postprocess per image at shape (1, 3, 640, 640)\n",
      "\n",
      "0: 384x640 14 cars, 148.7ms\n",
      "Speed: 0.0ms pre-process, 148.7ms inference, 0.0ms postprocess per image at shape (1, 3, 640, 640)\n",
      "\n"
     ]
    },
    {
     "name": "stdout",
     "output_type": "stream",
     "text": [
      "[11, 39, 75, 92]\n",
      "{4: 2, 11: 49, 5: 10, 8: 6, 12: 14, 39: 46, 1: 1, 43: 1, 25: 27, 66: 20, 45: 2, 77: 13, 40: 25, 72: 16, 78: 22, 74: 2, 84: 10, 83: 6, 75: 66, 87: 10, 88: 1, 23: 8, 92: 41, 89: 4, 93: 16, 96: 9}\n",
      "[11, 39, 75, 92]\n",
      "{4: 2, 11: 49, 5: 10, 8: 6, 12: 14, 39: 46, 1: 1, 43: 1, 25: 27, 66: 20, 45: 2, 77: 13, 40: 25, 72: 16, 78: 22, 74: 2, 84: 10, 83: 6, 75: 67, 87: 10, 88: 1, 23: 8, 92: 42, 89: 4, 93: 16, 96: 10}\n"
     ]
    },
    {
     "name": "stderr",
     "output_type": "stream",
     "text": [
      "0: 384x640 13 cars, 155.5ms\n",
      "Speed: 0.0ms pre-process, 155.5ms inference, 0.0ms postprocess per image at shape (1, 3, 640, 640)\n",
      "\n",
      "0: 384x640 15 cars, 150.0ms\n",
      "Speed: 0.0ms pre-process, 150.0ms inference, 0.0ms postprocess per image at shape (1, 3, 640, 640)\n",
      "\n"
     ]
    },
    {
     "name": "stdout",
     "output_type": "stream",
     "text": [
      "[11, 39, 75, 92]\n",
      "{4: 2, 11: 49, 5: 10, 8: 6, 12: 14, 39: 46, 1: 1, 43: 1, 25: 27, 66: 20, 45: 2, 77: 13, 40: 25, 72: 16, 78: 22, 74: 2, 84: 10, 83: 6, 75: 68, 87: 10, 88: 1, 23: 8, 92: 43, 89: 4, 93: 16, 96: 11}\n",
      "[11, 39, 75, 92]\n",
      "{4: 2, 11: 49, 5: 10, 8: 6, 12: 14, 39: 46, 1: 1, 43: 1, 25: 27, 66: 20, 45: 2, 77: 13, 40: 25, 72: 16, 78: 22, 74: 2, 84: 10, 83: 6, 75: 69, 87: 10, 88: 1, 23: 8, 92: 44, 89: 4, 93: 16, 96: 12}\n"
     ]
    },
    {
     "name": "stderr",
     "output_type": "stream",
     "text": [
      "0: 384x640 13 cars, 167.7ms\n",
      "Speed: 15.8ms pre-process, 167.7ms inference, 0.0ms postprocess per image at shape (1, 3, 640, 640)\n",
      "\n",
      "0: 384x640 14 cars, 152.0ms\n",
      "Speed: 1.4ms pre-process, 152.0ms inference, 0.0ms postprocess per image at shape (1, 3, 640, 640)\n",
      "\n"
     ]
    },
    {
     "name": "stdout",
     "output_type": "stream",
     "text": [
      "[11, 39, 75, 92]\n",
      "{4: 2, 11: 49, 5: 10, 8: 6, 12: 14, 39: 46, 1: 1, 43: 1, 25: 27, 66: 20, 45: 2, 77: 13, 40: 25, 72: 16, 78: 22, 74: 2, 84: 10, 83: 6, 75: 70, 87: 10, 88: 1, 23: 8, 92: 45, 89: 4, 93: 16, 96: 13}\n",
      "[11, 39, 75, 92]\n",
      "{4: 2, 11: 49, 5: 10, 8: 6, 12: 14, 39: 46, 1: 1, 43: 1, 25: 27, 66: 20, 45: 2, 77: 13, 40: 25, 72: 16, 78: 22, 74: 2, 84: 10, 83: 6, 75: 71, 87: 10, 88: 1, 23: 8, 92: 46, 89: 4, 93: 16, 96: 14}\n"
     ]
    },
    {
     "name": "stderr",
     "output_type": "stream",
     "text": [
      "0: 384x640 14 cars, 136.8ms\n",
      "Speed: 0.0ms pre-process, 136.8ms inference, 0.0ms postprocess per image at shape (1, 3, 640, 640)\n",
      "\n",
      "0: 384x640 14 cars, 132.1ms\n",
      "Speed: 0.0ms pre-process, 132.1ms inference, 0.0ms postprocess per image at shape (1, 3, 640, 640)\n",
      "\n"
     ]
    },
    {
     "name": "stdout",
     "output_type": "stream",
     "text": [
      "[11, 39, 75, 92]\n",
      "{4: 2, 11: 49, 5: 10, 8: 6, 12: 14, 39: 46, 1: 1, 43: 1, 25: 27, 66: 20, 45: 2, 77: 13, 40: 25, 72: 16, 78: 22, 74: 2, 84: 10, 83: 6, 75: 72, 87: 10, 88: 1, 23: 8, 92: 47, 89: 4, 93: 16, 96: 15}\n",
      "[11, 39, 75, 92]\n",
      "{4: 2, 11: 49, 5: 10, 8: 6, 12: 14, 39: 46, 1: 1, 43: 1, 25: 27, 66: 20, 45: 2, 77: 13, 40: 25, 72: 16, 78: 22, 74: 2, 84: 10, 83: 6, 75: 73, 87: 10, 88: 1, 23: 8, 92: 48, 89: 4, 93: 16, 96: 16}\n"
     ]
    },
    {
     "name": "stderr",
     "output_type": "stream",
     "text": [
      "0: 384x640 14 cars, 143.6ms\n",
      "Speed: 0.0ms pre-process, 143.6ms inference, 0.0ms postprocess per image at shape (1, 3, 640, 640)\n",
      "\n",
      "0: 384x640 14 cars, 1 truck, 132.9ms\n",
      "Speed: 0.0ms pre-process, 132.9ms inference, 8.0ms postprocess per image at shape (1, 3, 640, 640)\n",
      "\n"
     ]
    },
    {
     "name": "stdout",
     "output_type": "stream",
     "text": [
      "[11, 39, 75, 92]\n",
      "{4: 2, 11: 49, 5: 10, 8: 6, 12: 14, 39: 46, 1: 1, 43: 1, 25: 27, 66: 20, 45: 2, 77: 13, 40: 25, 72: 16, 78: 22, 74: 2, 84: 10, 83: 6, 75: 74, 87: 10, 88: 1, 23: 8, 92: 49, 89: 4, 93: 16, 96: 17}\n",
      "[11, 39, 75, 92]\n",
      "{4: 2, 11: 49, 5: 10, 8: 6, 12: 14, 39: 46, 1: 1, 43: 1, 25: 27, 66: 20, 45: 2, 77: 13, 40: 25, 72: 16, 78: 22, 74: 2, 84: 10, 83: 6, 75: 75, 87: 10, 88: 1, 23: 8, 92: 50, 89: 4, 93: 16, 96: 18}\n"
     ]
    },
    {
     "name": "stderr",
     "output_type": "stream",
     "text": [
      "0: 384x640 14 cars, 1 truck, 176.5ms\n",
      "Speed: 0.0ms pre-process, 176.5ms inference, 1.1ms postprocess per image at shape (1, 3, 640, 640)\n",
      "\n",
      "0: 384x640 14 cars, 142.4ms\n",
      "Speed: 2.6ms pre-process, 142.4ms inference, 0.0ms postprocess per image at shape (1, 3, 640, 640)\n",
      "\n"
     ]
    },
    {
     "name": "stdout",
     "output_type": "stream",
     "text": [
      "[11, 39, 75, 92]\n",
      "{4: 2, 11: 49, 5: 10, 8: 6, 12: 14, 39: 46, 1: 1, 43: 1, 25: 27, 66: 20, 45: 2, 77: 13, 40: 25, 72: 16, 78: 22, 74: 2, 84: 10, 83: 6, 75: 76, 87: 10, 88: 1, 23: 8, 92: 51, 89: 4, 93: 16, 96: 19}\n",
      "[11, 39, 75, 92]\n",
      "{4: 2, 11: 49, 5: 10, 8: 6, 12: 14, 39: 46, 1: 1, 43: 1, 25: 27, 66: 20, 45: 2, 77: 13, 40: 25, 72: 16, 78: 22, 74: 2, 84: 10, 83: 6, 75: 77, 87: 10, 88: 1, 23: 8, 92: 52, 89: 4, 93: 16, 96: 20}\n"
     ]
    },
    {
     "name": "stderr",
     "output_type": "stream",
     "text": [
      "0: 384x640 14 cars, 129.1ms\n",
      "Speed: 0.0ms pre-process, 129.1ms inference, 4.8ms postprocess per image at shape (1, 3, 640, 640)\n",
      "\n",
      "0: 384x640 14 cars, 143.4ms\n",
      "Speed: 0.0ms pre-process, 143.4ms inference, 0.0ms postprocess per image at shape (1, 3, 640, 640)\n",
      "\n"
     ]
    },
    {
     "name": "stdout",
     "output_type": "stream",
     "text": [
      "[11, 39, 75, 92]\n",
      "{4: 2, 11: 49, 5: 10, 8: 6, 12: 14, 39: 46, 1: 1, 43: 1, 25: 27, 66: 20, 45: 2, 77: 13, 40: 25, 72: 16, 78: 22, 74: 2, 84: 10, 83: 6, 75: 78, 87: 10, 88: 1, 23: 8, 92: 53, 89: 4, 93: 16, 96: 21}\n",
      "[11, 39, 75, 92]\n",
      "{4: 2, 11: 49, 5: 10, 8: 6, 12: 14, 39: 46, 1: 1, 43: 1, 25: 27, 66: 20, 45: 2, 77: 13, 40: 25, 72: 16, 78: 22, 74: 2, 84: 10, 83: 6, 75: 79, 87: 10, 88: 1, 23: 8, 92: 54, 89: 4, 93: 16, 96: 22}\n"
     ]
    },
    {
     "name": "stderr",
     "output_type": "stream",
     "text": [
      "0: 384x640 14 cars, 184.4ms\n",
      "Speed: 0.0ms pre-process, 184.4ms inference, 1.9ms postprocess per image at shape (1, 3, 640, 640)\n",
      "\n",
      "0: 384x640 13 cars, 1 truck, 144.7ms\n",
      "Speed: 0.0ms pre-process, 144.7ms inference, 0.0ms postprocess per image at shape (1, 3, 640, 640)\n",
      "\n"
     ]
    },
    {
     "name": "stdout",
     "output_type": "stream",
     "text": [
      "[11, 39, 75, 92]\n",
      "{4: 2, 11: 49, 5: 10, 8: 6, 12: 14, 39: 46, 1: 1, 43: 1, 25: 27, 66: 20, 45: 2, 77: 13, 40: 25, 72: 16, 78: 22, 74: 2, 84: 10, 83: 6, 75: 80, 87: 10, 88: 1, 23: 8, 92: 55, 89: 4, 93: 16, 96: 23}\n",
      "[11, 39, 75, 92]\n",
      "{4: 2, 11: 49, 5: 10, 8: 6, 12: 14, 39: 46, 1: 1, 43: 1, 25: 27, 66: 20, 45: 2, 77: 13, 40: 25, 72: 16, 78: 22, 74: 2, 84: 10, 83: 6, 75: 81, 87: 10, 88: 1, 23: 8, 92: 56, 89: 4, 93: 16, 96: 23}\n"
     ]
    },
    {
     "name": "stderr",
     "output_type": "stream",
     "text": [
      "0: 384x640 13 cars, 170.7ms\n",
      "Speed: 2.4ms pre-process, 170.7ms inference, 2.8ms postprocess per image at shape (1, 3, 640, 640)\n",
      "\n",
      "0: 384x640 13 cars, 127.0ms\n",
      "Speed: 0.0ms pre-process, 127.0ms inference, 0.0ms postprocess per image at shape (1, 3, 640, 640)\n",
      "\n"
     ]
    },
    {
     "name": "stdout",
     "output_type": "stream",
     "text": [
      "[11, 39, 75, 92]\n",
      "{4: 2, 11: 49, 5: 10, 8: 6, 12: 14, 39: 46, 1: 1, 43: 1, 25: 27, 66: 20, 45: 2, 77: 13, 40: 25, 72: 16, 78: 22, 74: 2, 84: 10, 83: 6, 75: 82, 87: 10, 88: 1, 23: 8, 92: 57, 89: 4, 93: 16, 96: 23}\n",
      "[11, 39, 75, 92]\n",
      "{4: 2, 11: 49, 5: 10, 8: 6, 12: 14, 39: 46, 1: 1, 43: 1, 25: 27, 66: 20, 45: 2, 77: 13, 40: 25, 72: 16, 78: 22, 74: 2, 84: 10, 83: 6, 75: 83, 87: 10, 88: 1, 23: 8, 92: 58, 89: 4, 93: 16, 96: 23}\n"
     ]
    },
    {
     "name": "stderr",
     "output_type": "stream",
     "text": [
      "0: 384x640 13 cars, 145.2ms\n",
      "Speed: 0.0ms pre-process, 145.2ms inference, 10.6ms postprocess per image at shape (1, 3, 640, 640)\n",
      "\n",
      "0: 384x640 13 cars, 148.7ms\n",
      "Speed: 0.0ms pre-process, 148.7ms inference, 0.0ms postprocess per image at shape (1, 3, 640, 640)\n",
      "\n"
     ]
    },
    {
     "name": "stdout",
     "output_type": "stream",
     "text": [
      "[11, 39, 75, 92]\n",
      "{4: 2, 11: 49, 5: 10, 8: 6, 12: 14, 39: 46, 1: 1, 43: 1, 25: 27, 66: 20, 45: 2, 77: 13, 40: 25, 72: 16, 78: 22, 74: 2, 84: 10, 83: 6, 75: 84, 87: 10, 88: 1, 23: 8, 92: 59, 89: 4, 93: 16, 96: 23}\n",
      "[11, 39, 75, 92]\n",
      "{4: 2, 11: 49, 5: 10, 8: 6, 12: 14, 39: 46, 1: 1, 43: 1, 25: 27, 66: 20, 45: 2, 77: 13, 40: 25, 72: 16, 78: 22, 74: 2, 84: 10, 83: 6, 75: 84, 87: 10, 88: 1, 23: 8, 92: 60, 89: 4, 93: 16, 96: 23}\n"
     ]
    },
    {
     "name": "stderr",
     "output_type": "stream",
     "text": [
      "0: 384x640 13 cars, 2 trucks, 157.3ms\n",
      "Speed: 1.6ms pre-process, 157.3ms inference, 0.0ms postprocess per image at shape (1, 3, 640, 640)\n",
      "\n",
      "0: 384x640 13 cars, 161.1ms\n",
      "Speed: 0.0ms pre-process, 161.1ms inference, 0.0ms postprocess per image at shape (1, 3, 640, 640)\n",
      "\n"
     ]
    },
    {
     "name": "stdout",
     "output_type": "stream",
     "text": [
      "[11, 39, 75, 92]\n",
      "{4: 2, 11: 49, 5: 10, 8: 6, 12: 14, 39: 46, 1: 1, 43: 1, 25: 27, 66: 20, 45: 2, 77: 13, 40: 25, 72: 16, 78: 22, 74: 2, 84: 10, 83: 6, 75: 84, 87: 10, 88: 1, 23: 8, 92: 61, 89: 4, 93: 16, 96: 23}\n",
      "[11, 39, 75, 92]\n",
      "{4: 2, 11: 49, 5: 10, 8: 6, 12: 14, 39: 46, 1: 1, 43: 1, 25: 27, 66: 20, 45: 2, 77: 13, 40: 25, 72: 16, 78: 22, 74: 2, 84: 10, 83: 6, 75: 84, 87: 10, 88: 1, 23: 8, 92: 62, 89: 4, 93: 16, 96: 23}\n"
     ]
    },
    {
     "name": "stderr",
     "output_type": "stream",
     "text": [
      "0: 384x640 14 cars, 151.4ms\n",
      "Speed: 0.0ms pre-process, 151.4ms inference, 0.0ms postprocess per image at shape (1, 3, 640, 640)\n",
      "\n",
      "0: 384x640 12 cars, 1 truck, 132.0ms\n",
      "Speed: 0.0ms pre-process, 132.0ms inference, 0.0ms postprocess per image at shape (1, 3, 640, 640)\n",
      "\n"
     ]
    },
    {
     "name": "stdout",
     "output_type": "stream",
     "text": [
      "[11, 39, 75, 92]\n",
      "{4: 2, 11: 49, 5: 10, 8: 6, 12: 14, 39: 46, 1: 1, 43: 1, 25: 27, 66: 20, 45: 2, 77: 13, 40: 25, 72: 16, 78: 22, 74: 2, 84: 10, 83: 6, 75: 84, 87: 10, 88: 1, 23: 8, 92: 63, 89: 4, 93: 16, 96: 23}\n",
      "[11, 39, 75, 92]\n",
      "{4: 2, 11: 49, 5: 10, 8: 6, 12: 14, 39: 46, 1: 1, 43: 1, 25: 27, 66: 20, 45: 2, 77: 13, 40: 25, 72: 16, 78: 22, 74: 2, 84: 10, 83: 6, 75: 84, 87: 10, 88: 1, 23: 8, 92: 64, 89: 4, 93: 16, 96: 23, 104: 1}\n"
     ]
    },
    {
     "name": "stderr",
     "output_type": "stream",
     "text": [
      "0: 384x640 14 cars, 160.5ms\n",
      "Speed: 0.0ms pre-process, 160.5ms inference, 8.0ms postprocess per image at shape (1, 3, 640, 640)\n",
      "\n",
      "0: 384x640 14 cars, 1 truck, 152.8ms\n",
      "Speed: 8.1ms pre-process, 152.8ms inference, 0.0ms postprocess per image at shape (1, 3, 640, 640)\n",
      "\n"
     ]
    },
    {
     "name": "stdout",
     "output_type": "stream",
     "text": [
      "[11, 39, 75, 92]\n",
      "{4: 2, 11: 49, 5: 10, 8: 6, 12: 14, 39: 46, 1: 1, 43: 1, 25: 27, 66: 20, 45: 2, 77: 13, 40: 25, 72: 16, 78: 22, 74: 2, 84: 10, 83: 6, 75: 84, 87: 10, 88: 1, 23: 8, 92: 65, 89: 4, 93: 16, 96: 23, 104: 2}\n",
      "[11, 39, 75, 92]\n",
      "{4: 2, 11: 49, 5: 10, 8: 6, 12: 14, 39: 46, 1: 1, 43: 1, 25: 27, 66: 20, 45: 2, 77: 13, 40: 25, 72: 16, 78: 22, 74: 2, 84: 10, 83: 6, 75: 84, 87: 10, 88: 1, 23: 8, 92: 66, 89: 4, 93: 16, 96: 23, 104: 3}\n"
     ]
    },
    {
     "name": "stderr",
     "output_type": "stream",
     "text": [
      "0: 384x640 16 cars, 2 trucks, 139.1ms\n",
      "Speed: 0.0ms pre-process, 139.1ms inference, 1.2ms postprocess per image at shape (1, 3, 640, 640)\n",
      "\n",
      "0: 384x640 14 cars, 3 trucks, 127.0ms\n",
      "Speed: 0.0ms pre-process, 127.0ms inference, 14.0ms postprocess per image at shape (1, 3, 640, 640)\n",
      "\n"
     ]
    },
    {
     "name": "stdout",
     "output_type": "stream",
     "text": [
      "[11, 39, 75, 92]\n",
      "{4: 2, 11: 49, 5: 10, 8: 6, 12: 14, 39: 46, 1: 1, 43: 1, 25: 27, 66: 20, 45: 2, 77: 13, 40: 25, 72: 16, 78: 22, 74: 2, 84: 10, 83: 6, 75: 84, 87: 10, 88: 1, 23: 8, 92: 67, 89: 4, 93: 16, 96: 23, 104: 4}\n",
      "[11, 39, 75, 92]\n",
      "{4: 2, 11: 49, 5: 10, 8: 6, 12: 14, 39: 46, 1: 1, 43: 1, 25: 27, 66: 20, 45: 2, 77: 13, 40: 25, 72: 16, 78: 22, 74: 2, 84: 10, 83: 6, 75: 84, 87: 10, 88: 1, 23: 8, 92: 67, 89: 4, 93: 16, 96: 23, 104: 5}\n"
     ]
    },
    {
     "name": "stderr",
     "output_type": "stream",
     "text": [
      "0: 384x640 16 cars, 1 bus, 3 trucks, 160.8ms\n",
      "Speed: 0.0ms pre-process, 160.8ms inference, 0.0ms postprocess per image at shape (1, 3, 640, 640)\n",
      "\n",
      "0: 384x640 15 cars, 1 bus, 2 trucks, 131.6ms\n",
      "Speed: 0.0ms pre-process, 131.6ms inference, 0.0ms postprocess per image at shape (1, 3, 640, 640)\n",
      "\n"
     ]
    },
    {
     "name": "stdout",
     "output_type": "stream",
     "text": [
      "[11, 39, 75, 92]\n",
      "{4: 2, 11: 49, 5: 10, 8: 6, 12: 14, 39: 46, 1: 1, 43: 1, 25: 27, 66: 20, 45: 2, 77: 13, 40: 25, 72: 16, 78: 22, 74: 2, 84: 10, 83: 6, 75: 84, 87: 10, 88: 1, 23: 8, 92: 68, 89: 4, 93: 16, 96: 23, 104: 6, 106: 1, 102: 1}\n",
      "[11, 39, 75, 92]\n",
      "{4: 2, 11: 49, 5: 10, 8: 6, 12: 14, 39: 46, 1: 1, 43: 1, 25: 27, 66: 20, 45: 2, 77: 13, 40: 25, 72: 16, 78: 22, 74: 2, 84: 10, 83: 6, 75: 84, 87: 10, 88: 1, 23: 8, 92: 69, 89: 4, 93: 16, 96: 23, 104: 7, 106: 2, 102: 2}\n"
     ]
    },
    {
     "name": "stderr",
     "output_type": "stream",
     "text": [
      "0: 384x640 1 person, 15 cars, 1 bus, 1 truck, 163.8ms\n",
      "Speed: 0.0ms pre-process, 163.8ms inference, 0.0ms postprocess per image at shape (1, 3, 640, 640)\n",
      "\n",
      "0: 384x640 14 cars, 1 bus, 140.9ms\n",
      "Speed: 0.0ms pre-process, 140.9ms inference, 1.6ms postprocess per image at shape (1, 3, 640, 640)\n",
      "\n"
     ]
    },
    {
     "name": "stdout",
     "output_type": "stream",
     "text": [
      "[11, 39, 75, 92]\n",
      "{4: 2, 11: 49, 5: 10, 8: 6, 12: 14, 39: 46, 1: 1, 43: 1, 25: 27, 66: 20, 45: 2, 77: 13, 40: 25, 72: 16, 78: 22, 74: 2, 84: 10, 83: 6, 75: 84, 87: 10, 88: 1, 23: 8, 92: 70, 89: 4, 93: 16, 96: 23, 104: 8, 106: 3, 102: 3}\n",
      "[11, 39, 75, 92]\n",
      "{4: 2, 11: 49, 5: 10, 8: 6, 12: 14, 39: 46, 1: 1, 43: 1, 25: 27, 66: 20, 45: 2, 77: 13, 40: 25, 72: 16, 78: 22, 74: 2, 84: 10, 83: 6, 75: 84, 87: 10, 88: 1, 23: 8, 92: 71, 89: 4, 93: 16, 96: 23, 104: 9, 106: 4, 102: 4}\n"
     ]
    },
    {
     "name": "stderr",
     "output_type": "stream",
     "text": [
      "0: 384x640 16 cars, 1 bus, 1 truck, 140.7ms\n",
      "Speed: 0.0ms pre-process, 140.7ms inference, 0.0ms postprocess per image at shape (1, 3, 640, 640)\n",
      "\n",
      "0: 384x640 14 cars, 1 bus, 1 truck, 141.1ms\n",
      "Speed: 0.0ms pre-process, 141.1ms inference, 0.0ms postprocess per image at shape (1, 3, 640, 640)\n",
      "\n"
     ]
    },
    {
     "name": "stdout",
     "output_type": "stream",
     "text": [
      "[11, 39, 75, 92]\n",
      "{4: 2, 11: 49, 5: 10, 8: 6, 12: 14, 39: 46, 1: 1, 43: 1, 25: 27, 66: 20, 45: 2, 77: 13, 40: 25, 72: 16, 78: 22, 74: 2, 84: 10, 83: 6, 75: 84, 87: 10, 88: 1, 23: 8, 92: 72, 89: 4, 93: 16, 96: 23, 104: 10, 106: 5, 102: 5}\n",
      "[11, 39, 75, 92]\n",
      "{4: 2, 11: 49, 5: 10, 8: 6, 12: 14, 39: 46, 1: 1, 43: 1, 25: 27, 66: 20, 45: 2, 77: 13, 40: 25, 72: 16, 78: 22, 74: 2, 84: 10, 83: 6, 75: 84, 87: 10, 88: 1, 23: 8, 92: 73, 89: 4, 93: 16, 96: 23, 104: 11, 106: 6, 102: 6}\n"
     ]
    },
    {
     "name": "stderr",
     "output_type": "stream",
     "text": [
      "0: 384x640 14 cars, 1 bus, 2 trucks, 142.6ms\n",
      "Speed: 0.0ms pre-process, 142.6ms inference, 0.0ms postprocess per image at shape (1, 3, 640, 640)\n",
      "\n",
      "0: 384x640 13 cars, 2 buss, 2 trucks, 131.2ms\n",
      "Speed: 0.0ms pre-process, 131.2ms inference, 0.0ms postprocess per image at shape (1, 3, 640, 640)\n",
      "\n"
     ]
    },
    {
     "name": "stdout",
     "output_type": "stream",
     "text": [
      "[11, 39, 75, 92]\n",
      "{4: 2, 11: 49, 5: 10, 8: 6, 12: 14, 39: 46, 1: 1, 43: 1, 25: 27, 66: 20, 45: 2, 77: 13, 40: 25, 72: 16, 78: 22, 74: 2, 84: 10, 83: 6, 75: 84, 87: 10, 88: 1, 23: 8, 92: 74, 89: 4, 93: 16, 96: 23, 104: 12, 106: 7, 102: 7}\n",
      "[11, 39, 75, 92]\n",
      "{4: 2, 11: 49, 5: 10, 8: 6, 12: 14, 39: 46, 1: 1, 43: 1, 25: 27, 66: 20, 45: 2, 77: 13, 40: 25, 72: 16, 78: 22, 74: 2, 84: 10, 83: 6, 75: 84, 87: 10, 88: 1, 23: 8, 92: 75, 89: 4, 93: 16, 96: 24, 104: 13, 106: 8, 102: 8}\n"
     ]
    },
    {
     "name": "stderr",
     "output_type": "stream",
     "text": [
      "0: 384x640 1 person, 13 cars, 3 buss, 1 truck, 148.4ms\n",
      "Speed: 0.0ms pre-process, 148.4ms inference, 7.0ms postprocess per image at shape (1, 3, 640, 640)\n",
      "\n",
      "0: 384x640 1 person, 12 cars, 2 buss, 1 truck, 125.9ms\n",
      "Speed: 0.0ms pre-process, 125.9ms inference, 8.0ms postprocess per image at shape (1, 3, 640, 640)\n",
      "\n"
     ]
    },
    {
     "name": "stdout",
     "output_type": "stream",
     "text": [
      "[11, 39, 75, 92]\n",
      "{4: 2, 11: 49, 5: 10, 8: 6, 12: 14, 39: 46, 1: 1, 43: 1, 25: 27, 66: 20, 45: 2, 77: 13, 40: 25, 72: 16, 78: 22, 74: 2, 84: 10, 83: 6, 75: 84, 87: 10, 88: 1, 23: 8, 92: 76, 89: 4, 93: 16, 96: 25, 104: 13, 106: 9, 102: 9}\n",
      "[11, 39, 75, 92]\n",
      "{4: 2, 11: 49, 5: 10, 8: 6, 12: 14, 39: 46, 1: 1, 43: 1, 25: 27, 66: 20, 45: 2, 77: 13, 40: 25, 72: 16, 78: 22, 74: 2, 84: 10, 83: 6, 75: 84, 87: 10, 88: 1, 23: 8, 92: 77, 89: 4, 93: 16, 96: 26, 104: 13, 106: 10, 102: 10}\n"
     ]
    },
    {
     "name": "stderr",
     "output_type": "stream",
     "text": [
      "0: 384x640 1 person, 12 cars, 1 bus, 1 truck, 151.9ms\n",
      "Speed: 0.0ms pre-process, 151.9ms inference, 2.2ms postprocess per image at shape (1, 3, 640, 640)\n",
      "\n",
      "0: 384x640 14 cars, 2 buss, 1 truck, 126.4ms\n",
      "Speed: 0.0ms pre-process, 126.4ms inference, 0.0ms postprocess per image at shape (1, 3, 640, 640)\n",
      "\n"
     ]
    },
    {
     "name": "stdout",
     "output_type": "stream",
     "text": [
      "[11, 39, 75, 92]\n",
      "{4: 2, 11: 49, 5: 10, 8: 6, 12: 14, 39: 46, 1: 1, 43: 1, 25: 27, 66: 20, 45: 2, 77: 13, 40: 25, 72: 16, 78: 22, 74: 2, 84: 10, 83: 6, 75: 84, 87: 10, 88: 1, 23: 8, 92: 78, 89: 4, 93: 16, 96: 27, 104: 13, 106: 11, 102: 11}\n",
      "[11, 39, 75, 92]\n",
      "{4: 2, 11: 49, 5: 10, 8: 6, 12: 14, 39: 46, 1: 1, 43: 1, 25: 27, 66: 20, 45: 2, 77: 13, 40: 25, 72: 16, 78: 22, 74: 2, 84: 10, 83: 6, 75: 84, 87: 10, 88: 1, 23: 8, 92: 79, 89: 4, 93: 16, 96: 28, 104: 13, 106: 12, 102: 12}\n"
     ]
    },
    {
     "name": "stderr",
     "output_type": "stream",
     "text": [
      "0: 384x640 11 cars, 2 buss, 1 truck, 133.4ms\n",
      "Speed: 0.0ms pre-process, 133.4ms inference, 0.0ms postprocess per image at shape (1, 3, 640, 640)\n",
      "\n",
      "0: 384x640 1 person, 13 cars, 1 bus, 1 truck, 128.2ms\n",
      "Speed: 0.0ms pre-process, 128.2ms inference, 4.3ms postprocess per image at shape (1, 3, 640, 640)\n",
      "\n"
     ]
    },
    {
     "name": "stdout",
     "output_type": "stream",
     "text": [
      "[11, 39, 75, 92]\n",
      "{4: 2, 11: 49, 5: 10, 8: 6, 12: 14, 39: 46, 1: 1, 43: 1, 25: 27, 66: 20, 45: 2, 77: 13, 40: 25, 72: 16, 78: 22, 74: 2, 84: 10, 83: 6, 75: 84, 87: 10, 88: 1, 23: 8, 92: 80, 89: 4, 93: 16, 96: 29, 104: 13, 106: 13, 102: 13}\n",
      "[11, 39, 75, 92]\n",
      "{4: 2, 11: 49, 5: 10, 8: 6, 12: 14, 39: 46, 1: 1, 43: 1, 25: 27, 66: 20, 45: 2, 77: 13, 40: 25, 72: 16, 78: 22, 74: 2, 84: 10, 83: 6, 75: 84, 87: 10, 88: 1, 23: 8, 92: 81, 89: 4, 93: 16, 96: 30, 104: 13, 106: 14, 102: 14}\n"
     ]
    },
    {
     "name": "stderr",
     "output_type": "stream",
     "text": [
      "0: 384x640 13 cars, 1 bus, 1 truck, 137.0ms\n",
      "Speed: 0.0ms pre-process, 137.0ms inference, 0.0ms postprocess per image at shape (1, 3, 640, 640)\n",
      "\n",
      "0: 384x640 12 cars, 1 bus, 1 truck, 135.5ms\n",
      "Speed: 0.0ms pre-process, 135.5ms inference, 0.0ms postprocess per image at shape (1, 3, 640, 640)\n",
      "\n"
     ]
    },
    {
     "name": "stdout",
     "output_type": "stream",
     "text": [
      "[11, 39, 75, 92, 96]\n",
      "{4: 2, 11: 49, 5: 10, 8: 6, 12: 14, 39: 46, 1: 1, 43: 1, 25: 27, 66: 20, 45: 2, 77: 13, 40: 25, 72: 16, 78: 22, 74: 2, 84: 10, 83: 6, 75: 84, 87: 10, 88: 1, 23: 8, 92: 82, 89: 4, 93: 17, 96: 31, 104: 13, 106: 15, 102: 15}\n",
      "[11, 39, 75, 92, 96]\n",
      "{4: 2, 11: 49, 5: 10, 8: 6, 12: 14, 39: 46, 1: 1, 43: 1, 25: 27, 66: 20, 45: 2, 77: 13, 40: 25, 72: 16, 78: 22, 74: 2, 84: 10, 83: 6, 75: 84, 87: 10, 88: 1, 23: 8, 92: 83, 89: 4, 93: 18, 96: 32, 104: 13, 106: 16, 102: 16}\n"
     ]
    },
    {
     "name": "stderr",
     "output_type": "stream",
     "text": [
      "0: 384x640 13 cars, 3 trucks, 140.5ms\n",
      "Speed: 2.0ms pre-process, 140.5ms inference, 0.0ms postprocess per image at shape (1, 3, 640, 640)\n",
      "\n",
      "0: 384x640 12 cars, 4 trucks, 126.6ms\n",
      "Speed: 0.0ms pre-process, 126.6ms inference, 0.0ms postprocess per image at shape (1, 3, 640, 640)\n",
      "\n"
     ]
    },
    {
     "name": "stdout",
     "output_type": "stream",
     "text": [
      "[11, 39, 75, 92, 96]\n",
      "{4: 2, 11: 49, 5: 10, 8: 6, 12: 14, 39: 46, 1: 1, 43: 1, 25: 27, 66: 20, 45: 2, 77: 13, 40: 25, 72: 16, 78: 22, 74: 2, 84: 10, 83: 6, 75: 85, 87: 10, 88: 1, 23: 8, 92: 84, 89: 4, 93: 19, 96: 33, 104: 13, 106: 17, 102: 17}\n",
      "[11, 39, 75, 92, 96]\n",
      "{4: 2, 11: 49, 5: 10, 8: 6, 12: 14, 39: 46, 1: 1, 43: 1, 25: 27, 66: 20, 45: 2, 77: 13, 40: 25, 72: 16, 78: 22, 74: 2, 84: 10, 83: 6, 75: 86, 87: 10, 88: 1, 23: 8, 92: 85, 89: 4, 93: 20, 96: 34, 104: 13, 106: 18, 102: 18}\n"
     ]
    },
    {
     "name": "stderr",
     "output_type": "stream",
     "text": [
      "0: 384x640 1 person, 12 cars, 3 trucks, 151.5ms\n",
      "Speed: 0.0ms pre-process, 151.5ms inference, 0.0ms postprocess per image at shape (1, 3, 640, 640)\n",
      "\n",
      "0: 384x640 13 cars, 139.0ms\n",
      "Speed: 0.0ms pre-process, 139.0ms inference, 0.0ms postprocess per image at shape (1, 3, 640, 640)\n",
      "\n"
     ]
    },
    {
     "name": "stdout",
     "output_type": "stream",
     "text": [
      "[11, 39, 75, 92, 96]\n",
      "{4: 2, 11: 49, 5: 10, 8: 6, 12: 14, 39: 46, 1: 1, 43: 1, 25: 27, 66: 20, 45: 2, 77: 13, 40: 25, 72: 16, 78: 22, 74: 2, 84: 10, 83: 6, 75: 86, 87: 10, 88: 1, 23: 8, 92: 86, 89: 4, 93: 21, 96: 35, 104: 14, 106: 19, 102: 19}\n",
      "[11, 39, 75, 92, 96]\n",
      "{4: 2, 11: 49, 5: 10, 8: 6, 12: 14, 39: 46, 1: 1, 43: 1, 25: 27, 66: 20, 45: 2, 77: 13, 40: 25, 72: 16, 78: 22, 74: 2, 84: 10, 83: 6, 75: 86, 87: 10, 88: 1, 23: 8, 92: 87, 89: 4, 93: 21, 96: 36, 104: 15, 106: 20, 102: 20}\n"
     ]
    },
    {
     "name": "stderr",
     "output_type": "stream",
     "text": [
      "0: 384x640 13 cars, 2 trucks, 142.1ms\n",
      "Speed: 0.0ms pre-process, 142.1ms inference, 8.0ms postprocess per image at shape (1, 3, 640, 640)\n",
      "\n",
      "0: 384x640 1 person, 12 cars, 2 trucks, 132.6ms\n",
      "Speed: 1.3ms pre-process, 132.6ms inference, 0.0ms postprocess per image at shape (1, 3, 640, 640)\n",
      "\n"
     ]
    },
    {
     "name": "stdout",
     "output_type": "stream",
     "text": [
      "[11, 39, 75, 92, 96]\n",
      "{4: 2, 11: 49, 5: 10, 8: 6, 12: 14, 39: 46, 1: 1, 43: 1, 25: 27, 66: 20, 45: 2, 77: 13, 40: 25, 72: 16, 78: 22, 74: 2, 84: 10, 83: 6, 75: 86, 87: 10, 88: 1, 23: 8, 92: 88, 89: 4, 93: 21, 96: 37, 104: 16, 106: 21, 102: 21, 114: 1}\n",
      "[11, 39, 75, 92, 96]\n",
      "{4: 2, 11: 49, 5: 10, 8: 6, 12: 14, 39: 46, 1: 1, 43: 1, 25: 27, 66: 20, 45: 2, 77: 13, 40: 25, 72: 16, 78: 22, 74: 2, 84: 10, 83: 6, 75: 86, 87: 10, 88: 1, 23: 8, 92: 89, 89: 4, 93: 21, 96: 38, 104: 17, 106: 21, 102: 22, 114: 2, 107: 1}\n"
     ]
    },
    {
     "name": "stderr",
     "output_type": "stream",
     "text": [
      "0: 384x640 13 cars, 1 truck, 162.9ms\n",
      "Speed: 0.0ms pre-process, 162.9ms inference, 3.4ms postprocess per image at shape (1, 3, 640, 640)\n",
      "\n",
      "0: 384x640 12 cars, 2 trucks, 134.1ms\n",
      "Speed: 0.0ms pre-process, 134.1ms inference, 0.0ms postprocess per image at shape (1, 3, 640, 640)\n",
      "\n"
     ]
    },
    {
     "name": "stdout",
     "output_type": "stream",
     "text": [
      "[11, 39, 75, 92, 96]\n",
      "{4: 2, 11: 49, 5: 10, 8: 6, 12: 14, 39: 46, 1: 1, 43: 1, 25: 27, 66: 20, 45: 2, 77: 13, 40: 25, 72: 16, 78: 22, 74: 2, 84: 10, 83: 6, 75: 86, 87: 10, 88: 1, 23: 8, 92: 90, 89: 4, 93: 21, 96: 39, 104: 18, 106: 21, 102: 22, 114: 3, 107: 2}\n",
      "[11, 39, 75, 92, 96]\n",
      "{4: 2, 11: 49, 5: 10, 8: 6, 12: 14, 39: 46, 1: 1, 43: 1, 25: 27, 66: 20, 45: 2, 77: 13, 40: 25, 72: 16, 78: 22, 74: 2, 84: 10, 83: 6, 75: 86, 87: 10, 88: 1, 23: 8, 92: 91, 89: 4, 93: 21, 96: 40, 104: 18, 106: 21, 102: 22, 114: 4, 107: 3}\n"
     ]
    },
    {
     "name": "stderr",
     "output_type": "stream",
     "text": [
      "0: 384x640 11 cars, 2 trucks, 147.2ms\n",
      "Speed: 0.0ms pre-process, 147.2ms inference, 0.0ms postprocess per image at shape (1, 3, 640, 640)\n"
     ]
    },
    {
     "name": "stdout",
     "output_type": "stream",
     "text": [
      "[11, 39, 75, 92, 96]\n",
      "{4: 2, 11: 49, 5: 10, 8: 6, 12: 14, 39: 46, 1: 1, 43: 1, 25: 27, 66: 20, 45: 2, 77: 13, 40: 25, 72: 16, 78: 22, 74: 2, 84: 10, 83: 6, 75: 86, 87: 10, 88: 1, 23: 8, 92: 92, 89: 4, 93: 21, 96: 41, 104: 18, 106: 21, 102: 22, 114: 5, 107: 4, 115: 1, 112: 1}\n"
     ]
    },
    {
     "ename": "error",
     "evalue": "OpenCV(4.8.1) D:\\a\\opencv-python\\opencv-python\\opencv\\modules\\core\\src\\arithm.cpp:214: error: (-209:Sizes of input arguments do not match) The operation is neither 'array op array' (where arrays have the same size and type), nor 'array op scalar', nor 'scalar op array' in function 'cv::binary_op'\n",
     "output_type": "error",
     "traceback": [
      "\u001b[1;31m---------------------------------------------------------------------------\u001b[0m",
      "\u001b[1;31merror\u001b[0m                                     Traceback (most recent call last)",
      "\u001b[1;32mc:\\Users\\User\\car_tracking\\car_tracking.ipynb Cell 3\u001b[0m line \u001b[0;36m7\n\u001b[0;32m     <a href='vscode-notebook-cell:/c%3A/Users/User/car_tracking/car_tracking.ipynb#W2sZmlsZQ%3D%3D?line=69'>70</a>\u001b[0m tracking_objects \u001b[39m=\u001b[39m {}\n\u001b[0;32m     <a href='vscode-notebook-cell:/c%3A/Users/User/car_tracking/car_tracking.ipynb#W2sZmlsZQ%3D%3D?line=70'>71</a>\u001b[0m retval, frame \u001b[39m=\u001b[39m cap\u001b[39m.\u001b[39mread()\n\u001b[1;32m---> <a href='vscode-notebook-cell:/c%3A/Users/User/car_tracking/car_tracking.ipynb#W2sZmlsZQ%3D%3D?line=71'>72</a>\u001b[0m imgRegion \u001b[39m=\u001b[39m cv2\u001b[39m.\u001b[39;49mbitwise_and(frame,mask)\n\u001b[0;32m     <a href='vscode-notebook-cell:/c%3A/Users/User/car_tracking/car_tracking.ipynb#W2sZmlsZQ%3D%3D?line=72'>73</a>\u001b[0m count \u001b[39m+\u001b[39m\u001b[39m=\u001b[39m \u001b[39m1\u001b[39m\n\u001b[0;32m     <a href='vscode-notebook-cell:/c%3A/Users/User/car_tracking/car_tracking.ipynb#W2sZmlsZQ%3D%3D?line=73'>74</a>\u001b[0m \u001b[39mif\u001b[39;00m \u001b[39mnot\u001b[39;00m(retval):\n",
      "\u001b[1;31merror\u001b[0m: OpenCV(4.8.1) D:\\a\\opencv-python\\opencv-python\\opencv\\modules\\core\\src\\arithm.cpp:214: error: (-209:Sizes of input arguments do not match) The operation is neither 'array op array' (where arrays have the same size and type), nor 'array op scalar', nor 'scalar op array' in function 'cv::binary_op'\n"
     ]
    }
   ],
   "source": [
    "# from ultralytics import YOLO\n",
    "# from IPython.display import display, Image\n",
    "# import cv2\n",
    "# import numpy as np\n",
    "# # from object_detection import ObjectDetection\n",
    "# import math\n",
    "# from sort import *\n",
    "\n",
    "classNames = [\"person\", \"bicycle\", \"car\", \"motorbike\", \"aeroplane\", \"bus\", \"train\", \"truck\", \"boat\",\n",
    "              \"traffic light\", \"fire hydrant\", \"stop sign\", \"parking meter\", \"bench\", \"bird\", \"cat\",\n",
    "              \"dog\", \"horse\", \"sheep\", \"cow\", \"elephant\", \"bear\", \"zebra\", \"giraffe\", \"backpack\", \"umbrella\",\n",
    "              \"handbag\", \"tie\", \"suitcase\", \"frisbee\", \"skis\", \"snowboard\", \"sports ball\", \"kite\", \"baseball bat\",\n",
    "              \"baseball glove\", \"skateboard\", \"surfboard\", \"tennis racket\", \"bottle\", \"wine glass\", \"cup\",\n",
    "              \"fork\", \"knife\", \"spoon\", \"bowl\", \"banana\", \"apple\", \"sandwich\", \"orange\", \"broccoli\",\n",
    "              \"carrot\", \"hot dog\", \"pizza\", \"donut\", \"cake\", \"chair\", \"sofa\", \"pottedplant\", \"bed\",\n",
    "              \"diningtable\", \"toilet\", \"tvmonitor\", \"laptop\", \"mouse\", \"remote\", \"keyboard\", \"cell phone\",\n",
    "              \"microwave\", \"oven\", \"toaster\", \"sink\", \"refrigerator\", \"book\", \"clock\", \"vase\", \"scissors\",\n",
    "              \"teddy bear\", \"hair drier\", \"toothbrush\"\n",
    "              ]\n",
    "\n",
    "def dist(P, A, B):\n",
    "    area = abs ( (A[0] - P[0]) * (B[1] - P[1]) - (A[1] - P[1]) * (B[0] - P[0]) )\n",
    "    AB = ( (A[0] - B[0]) ** 2 + (A[1] - B[1]) ** 2 ) ** 0.5\n",
    "    return ( area / AB )\n",
    "\n",
    "f1_A=(418,821)\n",
    "f1_B=(661,404) #distance 40\n",
    "\n",
    "f2_A=(582, 876) #id 194\n",
    "f2_B=(703, 415) #id 91 distance 30\n",
    "\n",
    "f3_A=(782, 865) #id 60\n",
    "f3_B=(743, 417) #id 30  distance 30\n",
    "\n",
    "f4_A=(999, 866) #id 105\n",
    "f4_B=(789, 417)  #id 85  distacne 30\n",
    "\n",
    "f5_A=(1183, 830) #id 4\n",
    "f5_B=(846, 429) #id 29 distance 30\n",
    "\n",
    "# Initialize Object Detection\n",
    "# od = ObjectDetection()\n",
    "model = YOLO('yolov8n.pt')\n",
    "cap = cv2.VideoCapture(\"los_angeles.mp4\")\n",
    "\n",
    "frameWidth = int(cap.get(cv2.CAP_PROP_FRAME_WIDTH))\t# 영상의 넓이(가로) 프레임\n",
    "frameHeight = int(cap.get(cv2.CAP_PROP_FRAME_HEIGHT))\t# 영상의 높이(세로) 프레임\n",
    "frame_size = (frameWidth, frameHeight)\n",
    "\n",
    "print(frame_size)\n",
    "# Initialize count\n",
    "count = 0\n",
    "center_points_prev_frame = []\n",
    "\n",
    "danger_car_pt={}\n",
    "danger_car_id=[]\n",
    "tracking_objects = {}\n",
    "track_id = 0\n",
    "tracker = Sort(max_age=10, min_hits=3, iou_threshold=0.3)\n",
    "mask = cv2.imread(\"mask.png\")\n",
    "\n",
    "\n",
    "class Msg:\n",
    "    msg_to=None\n",
    "    x:int=None\n",
    "    y:int=None\n",
    "    car_id=None\n",
    "\n",
    "while True:\n",
    "    tracking_objects = {}\n",
    "    retval, frame = cap.read()\n",
    "    imgRegion = cv2.bitwise_and(frame,mask)\n",
    "    count += 1\n",
    "    if not(retval):\n",
    "        break\n",
    "\n",
    "    # Point current frame\n",
    "    center_points_cur_frame = []\n",
    "\n",
    "    # Detect objects on frame\n",
    "    results = model(imgRegion,stream=True)\n",
    "    detections = np.empty((0,5))\n",
    "    \n",
    "    for r in results:\n",
    "        boxes = r.boxes\n",
    "        for box in boxes:\n",
    "            x1, y1, x2, y2 = box.xyxy[0]\n",
    "            x1, y1, x2, y2 = int(x1), int(y1), int(x2), int(y2)\n",
    "            cx = int((x1+x2) / 2)\n",
    "            cy = int((y1+y2) / 2)\n",
    "            conf = math.ceil((box.conf[0]*100)) / 100\n",
    "            cls = int(box.cls[0])\n",
    "            currentClass = classNames[cls]\n",
    "            #print(\"FRAME N°\", count, \" \", x, y, w, h)\n",
    "            # cv2.circle(frame, (cx, cy), 5, (0, 0, 255), -1)\n",
    "            if currentClass == \"car\" or currentClass == \"truck\" or currentClass == \"bus\" \\\n",
    "                    or currentClass == \"motorbike\" and conf > 0.3:\n",
    "                cv2.rectangle(frame, (x1, y1), (x2,y2), (0, 255, 0), 2) \n",
    "                currentArray = np.array([x1,y1,x2,y2,conf])\n",
    "                detections = np.vstack((detections,currentArray))\n",
    "    # cv2.circle(frame, (1183, 830), 5, (0, 0, 255), -1)\n",
    "    # cv2.circle(frame, (846, 429), 5, (0, 0, 255), -1)\n",
    "# f5_A=(1183, 850) #id 4\n",
    "# f5_B=(846, 429) #id         \n",
    "\n",
    "    # Only at the beginning we compare previous and current frame\n",
    "    \n",
    "    \n",
    "    resultsTracker=tracker.update(detections)\n",
    "    \n",
    "    for result in resultsTracker:\n",
    "        x1,y1,x2,y2,Id = result\n",
    "        cx = int((x1+x2) / 2)\n",
    "        cy = int((y1+y2) / 2)\n",
    "        Id = int(Id)\n",
    "        center_points_cur_frame.append((cx,cy,Id))\n",
    "        center_points_cur_frame_copy = center_points_cur_frame.copy()\n",
    "        for pt in center_points_cur_frame_copy:\n",
    "            for pt2 in center_points_prev_frame:\n",
    "                if pt == pt2:\n",
    "                    center_points_cur_frame.remove(pt)\n",
    "\n",
    "        \n",
    "        # print(cx,cy,Id)\n",
    "                \n",
    "    for pt in center_points_cur_frame:\n",
    "        cx=pt[0]; cy=pt[1]; Id=pt[2];\n",
    "        # print(cx,cy,Id)\n",
    "        if dist((cx,cy), f1_A, f1_B) < 30:\n",
    "            tracking_objects[Id]=(cx,cy,'f1')\n",
    "        \n",
    "        elif dist((cx,cy), f2_A, f2_B) < 30:\n",
    "            tracking_objects[Id]=(cx,cy,'f2')\n",
    "            \n",
    "        elif dist((cx,cy), f3_A, f3_B) < 30:\n",
    "            tracking_objects[Id]=(cx,cy,'f3')\n",
    "        \n",
    "        elif dist((cx,cy), f4_A, f4_B) < 30:\n",
    "            tracking_objects[Id]=(cx,cy,'f4')\n",
    "        \n",
    "        elif dist((cx,cy), f5_A, f5_B) < 30:\n",
    "            tracking_objects[Id]=(cx,cy,'f5')\n",
    "        \n",
    "        else:\n",
    "            tracking_objects[Id]=(cx,cy,'Danger!')\n",
    "            if Id in danger_car_pt:\n",
    "                danger_car_pt[Id] +=1\n",
    "                if danger_car_pt[Id] > 30 and Id not in danger_car_id:\n",
    "                    danger_car_id.append(Id)\n",
    "                    Msg.msg_to='Traffic_management'\n",
    "                    Msg.car_id=Id\n",
    "                    \n",
    "                    \n",
    "            else:\n",
    "                danger_car_pt[Id] = 1\n",
    "                \n",
    "            \n",
    "        \n",
    "            \n",
    "            \n",
    "    for object_id, pt in tracking_objects.items():\n",
    "        # print(pt[0],pt[1],pt[2],object_id)\n",
    "        tmp= pt[2]+'['+str(object_id)+']'\n",
    "        cv2.circle(frame, (pt[0],pt[1]), 5, (0, 0, 255), -1)\n",
    "        cv2.putText(frame, tmp, (pt[0], pt[1] - 7), 0, 0.8, (0, 0, 255), 2)\n",
    "        \n",
    "        \n",
    "\n",
    "    \n",
    "                \n",
    "    \n",
    "    \n",
    "\n",
    "    # print(\"Tracking objects\")\n",
    "    # # print(tracking_objects)\n",
    "\n",
    "\n",
    "    # print(\"CUR FRAME LEFT PTS\")\n",
    "    # print(center_points_cur_frame)\n",
    "    \n",
    "#     cv2.circle(frame, (1,1), 5, (0, 0, 255), -1)\n",
    "    cv2.imshow(\"Frame\", frame)\n",
    "    # cv2.imshow(\"ImageFrame\",imgRegion)\n",
    "    # Make a copy of the points\n",
    "    center_points_prev_frame = center_points_cur_frame.copy()\n",
    "    print(danger_car_id)\n",
    "    print(danger_car_pt)\n",
    "    key = cv2.waitKey(1)\n",
    "    if key == 27:\n",
    "        break\n",
    "\n",
    "\n",
    "\n",
    "cap.release()\n",
    "cv2.destroyAllWindows()\n"
   ]
  },
  {
   "cell_type": "code",
   "execution_count": 2,
   "metadata": {},
   "outputs": [],
   "source": [
    "from ultralytics import YOLO\n",
    "from IPython.display import display, Image\n",
    "import cv2\n",
    "import numpy as np\n",
    "# from object_detection import ObjectDetection\n",
    "import math\n",
    "# from sort import *"
   ]
  },
  {
   "cell_type": "code",
   "execution_count": 1,
   "metadata": {},
   "outputs": [],
   "source": [
    "from sort import *\n",
    " "
   ]
  },
  {
   "cell_type": "code",
   "execution_count": 19,
   "metadata": {},
   "outputs": [
    {
     "name": "stderr",
     "output_type": "stream",
     "text": [
      "Ultralytics YOLOv8.0.26  Python-3.10.9 torch-1.11.0+cpu CPU\n"
     ]
    },
    {
     "name": "stdout",
     "output_type": "stream",
     "text": [
      "(920, 488)\n"
     ]
    },
    {
     "name": "stderr",
     "output_type": "stream",
     "text": [
      "YOLOv8n summary (fused): 168 layers, 3151904 parameters, 0 gradients, 8.7 GFLOPs\n",
      "\n",
      "0: 352x640 2 persons, 9 cars, 4 buss, 169.4ms\n",
      "Speed: 1.6ms pre-process, 169.4ms inference, 2.7ms postprocess per image at shape (1, 3, 640, 640)\n",
      "\n",
      "0: 352x640 10 cars, 4 buss, 180.7ms\n",
      "Speed: 0.0ms pre-process, 180.7ms inference, 3.0ms postprocess per image at shape (1, 3, 640, 640)\n",
      "\n",
      "0: 352x640 9 cars, 5 buss, 172.7ms\n",
      "Speed: 1.0ms pre-process, 172.7ms inference, 2.6ms postprocess per image at shape (1, 3, 640, 640)\n",
      "\n",
      "0: 352x640 9 cars, 7 buss, 163.7ms\n",
      "Speed: 1.0ms pre-process, 163.7ms inference, 2.0ms postprocess per image at shape (1, 3, 640, 640)\n",
      "\n",
      "0: 352x640 9 cars, 7 buss, 159.7ms\n",
      "Speed: 1.0ms pre-process, 159.7ms inference, 1.9ms postprocess per image at shape (1, 3, 640, 640)\n",
      "\n",
      "0: 352x640 1 person, 10 cars, 7 buss, 1 truck, 161.7ms\n",
      "Speed: 1.0ms pre-process, 161.7ms inference, 0.9ms postprocess per image at shape (1, 3, 640, 640)\n",
      "\n",
      "0: 352x640 1 person, 10 cars, 6 buss, 156.5ms\n",
      "Speed: 0.9ms pre-process, 156.5ms inference, 2.1ms postprocess per image at shape (1, 3, 640, 640)\n",
      "\n",
      "0: 352x640 1 person, 10 cars, 6 buss, 141.7ms\n",
      "Speed: 0.9ms pre-process, 141.7ms inference, 2.0ms postprocess per image at shape (1, 3, 640, 640)\n",
      "\n",
      "0: 352x640 1 person, 10 cars, 6 buss, 156.5ms\n",
      "Speed: 1.0ms pre-process, 156.5ms inference, 2.0ms postprocess per image at shape (1, 3, 640, 640)\n",
      "\n",
      "0: 352x640 1 person, 8 cars, 5 buss, 140.8ms\n",
      "Speed: 1.0ms pre-process, 140.8ms inference, 2.1ms postprocess per image at shape (1, 3, 640, 640)\n",
      "\n",
      "0: 352x640 9 cars, 6 buss, 159.1ms\n",
      "Speed: 1.0ms pre-process, 159.1ms inference, 2.0ms postprocess per image at shape (1, 3, 640, 640)\n",
      "\n",
      "0: 352x640 8 cars, 5 buss, 148.7ms\n",
      "Speed: 0.9ms pre-process, 148.7ms inference, 2.1ms postprocess per image at shape (1, 3, 640, 640)\n",
      "\n",
      "0: 352x640 5 cars, 6 buss, 150.9ms\n",
      "Speed: 0.0ms pre-process, 150.9ms inference, 2.0ms postprocess per image at shape (1, 3, 640, 640)\n",
      "\n",
      "0: 352x640 6 cars, 5 buss, 145.7ms\n",
      "Speed: 0.9ms pre-process, 145.7ms inference, 1.0ms postprocess per image at shape (1, 3, 640, 640)\n",
      "\n",
      "0: 352x640 6 cars, 4 buss, 165.4ms\n",
      "Speed: 0.9ms pre-process, 165.4ms inference, 2.1ms postprocess per image at shape (1, 3, 640, 640)\n",
      "\n",
      "0: 352x640 6 cars, 4 buss, 156.8ms\n",
      "Speed: 1.1ms pre-process, 156.8ms inference, 3.1ms postprocess per image at shape (1, 3, 640, 640)\n",
      "\n",
      "0: 352x640 6 cars, 4 buss, 139.7ms\n",
      "Speed: 0.9ms pre-process, 139.7ms inference, 3.0ms postprocess per image at shape (1, 3, 640, 640)\n",
      "\n",
      "0: 352x640 6 cars, 4 buss, 146.1ms\n",
      "Speed: 0.9ms pre-process, 146.1ms inference, 1.0ms postprocess per image at shape (1, 3, 640, 640)\n",
      "\n",
      "0: 352x640 8 cars, 5 buss, 175.9ms\n",
      "Speed: 1.0ms pre-process, 175.9ms inference, 2.0ms postprocess per image at shape (1, 3, 640, 640)\n",
      "\n",
      "0: 352x640 7 cars, 6 buss, 166.2ms\n",
      "Speed: 2.0ms pre-process, 166.2ms inference, 2.0ms postprocess per image at shape (1, 3, 640, 640)\n",
      "\n",
      "0: 352x640 1 person, 8 cars, 5 buss, 169.9ms\n",
      "Speed: 0.9ms pre-process, 169.9ms inference, 3.0ms postprocess per image at shape (1, 3, 640, 640)\n",
      "\n",
      "0: 352x640 8 cars, 5 buss, 170.6ms\n",
      "Speed: 0.0ms pre-process, 170.6ms inference, 2.0ms postprocess per image at shape (1, 3, 640, 640)\n",
      "\n",
      "0: 352x640 1 person, 10 cars, 7 buss, 150.9ms\n",
      "Speed: 1.0ms pre-process, 150.9ms inference, 2.2ms postprocess per image at shape (1, 3, 640, 640)\n",
      "\n",
      "0: 352x640 1 person, 11 cars, 7 buss, 151.0ms\n",
      "Speed: 1.0ms pre-process, 151.0ms inference, 2.1ms postprocess per image at shape (1, 3, 640, 640)\n",
      "\n",
      "0: 352x640 1 person, 9 cars, 6 buss, 153.7ms\n",
      "Speed: 1.0ms pre-process, 153.7ms inference, 2.0ms postprocess per image at shape (1, 3, 640, 640)\n",
      "\n",
      "0: 352x640 1 person, 9 cars, 6 buss, 1 truck, 1 traffic light, 169.5ms\n",
      "Speed: 1.0ms pre-process, 169.5ms inference, 2.0ms postprocess per image at shape (1, 3, 640, 640)\n",
      "\n",
      "0: 352x640 9 cars, 6 buss, 1 truck, 1 traffic light, 208.5ms\n",
      "Speed: 1.0ms pre-process, 208.5ms inference, 2.0ms postprocess per image at shape (1, 3, 640, 640)\n",
      "\n",
      "0: 352x640 11 cars, 6 buss, 1 truck, 1 traffic light, 167.8ms\n",
      "Speed: 1.0ms pre-process, 167.8ms inference, 2.9ms postprocess per image at shape (1, 3, 640, 640)\n",
      "\n",
      "0: 352x640 14 cars, 2 buss, 1 truck, 1 traffic light, 168.1ms\n",
      "Speed: 1.1ms pre-process, 168.1ms inference, 2.5ms postprocess per image at shape (1, 3, 640, 640)\n",
      "\n",
      "0: 352x640 13 cars, 4 buss, 1 truck, 1 traffic light, 206.1ms\n",
      "Speed: 1.0ms pre-process, 206.1ms inference, 3.0ms postprocess per image at shape (1, 3, 640, 640)\n",
      "\n",
      "0: 352x640 15 cars, 4 buss, 1 traffic light, 181.3ms\n",
      "Speed: 1.1ms pre-process, 181.3ms inference, 4.0ms postprocess per image at shape (1, 3, 640, 640)\n",
      "\n",
      "0: 352x640 13 cars, 4 buss, 1 truck, 1 traffic light, 198.2ms\n",
      "Speed: 1.0ms pre-process, 198.2ms inference, 2.0ms postprocess per image at shape (1, 3, 640, 640)\n",
      "\n",
      "0: 352x640 13 cars, 2 buss, 1 truck, 1 traffic light, 195.2ms\n",
      "Speed: 2.0ms pre-process, 195.2ms inference, 3.0ms postprocess per image at shape (1, 3, 640, 640)\n",
      "\n",
      "0: 352x640 14 cars, 2 buss, 1 truck, 1 traffic light, 160.2ms\n",
      "Speed: 1.0ms pre-process, 160.2ms inference, 2.0ms postprocess per image at shape (1, 3, 640, 640)\n",
      "\n",
      "0: 352x640 13 cars, 3 buss, 1 truck, 1 traffic light, 151.3ms\n",
      "Speed: 1.0ms pre-process, 151.3ms inference, 2.0ms postprocess per image at shape (1, 3, 640, 640)\n",
      "\n",
      "0: 352x640 10 cars, 4 buss, 1 truck, 1 traffic light, 173.1ms\n",
      "Speed: 1.9ms pre-process, 173.1ms inference, 3.1ms postprocess per image at shape (1, 3, 640, 640)\n",
      "\n",
      "0: 352x640 11 cars, 5 buss, 1 truck, 183.0ms\n",
      "Speed: 1.0ms pre-process, 183.0ms inference, 0.9ms postprocess per image at shape (1, 3, 640, 640)\n",
      "\n",
      "0: 352x640 13 cars, 4 buss, 1 truck, 205.3ms\n",
      "Speed: 1.0ms pre-process, 205.3ms inference, 3.0ms postprocess per image at shape (1, 3, 640, 640)\n",
      "\n",
      "0: 352x640 14 cars, 4 buss, 1 truck, 198.5ms\n",
      "Speed: 1.0ms pre-process, 198.5ms inference, 2.0ms postprocess per image at shape (1, 3, 640, 640)\n",
      "\n",
      "0: 352x640 14 cars, 3 buss, 204.9ms\n",
      "Speed: 1.9ms pre-process, 204.9ms inference, 3.0ms postprocess per image at shape (1, 3, 640, 640)\n",
      "\n",
      "0: 352x640 1 person, 10 cars, 5 buss, 202.3ms\n",
      "Speed: 2.0ms pre-process, 202.3ms inference, 2.9ms postprocess per image at shape (1, 3, 640, 640)\n",
      "\n",
      "0: 352x640 12 cars, 6 buss, 2 trucks, 209.0ms\n",
      "Speed: 1.0ms pre-process, 209.0ms inference, 2.0ms postprocess per image at shape (1, 3, 640, 640)\n",
      "\n",
      "0: 352x640 13 cars, 5 buss, 1 truck, 195.7ms\n",
      "Speed: 1.0ms pre-process, 195.7ms inference, 2.9ms postprocess per image at shape (1, 3, 640, 640)\n",
      "\n",
      "0: 352x640 2 persons, 9 cars, 4 buss, 2 trucks, 190.9ms\n",
      "Speed: 1.9ms pre-process, 190.9ms inference, 2.2ms postprocess per image at shape (1, 3, 640, 640)\n",
      "\n",
      "0: 352x640 11 cars, 3 buss, 1 truck, 199.1ms\n",
      "Speed: 1.0ms pre-process, 199.1ms inference, 3.0ms postprocess per image at shape (1, 3, 640, 640)\n",
      "\n",
      "0: 352x640 12 cars, 3 buss, 2 trucks, 184.9ms\n",
      "Speed: 1.0ms pre-process, 184.9ms inference, 2.0ms postprocess per image at shape (1, 3, 640, 640)\n",
      "\n",
      "0: 352x640 1 person, 11 cars, 5 buss, 1 truck, 191.2ms\n",
      "Speed: 1.0ms pre-process, 191.2ms inference, 3.1ms postprocess per image at shape (1, 3, 640, 640)\n",
      "\n",
      "0: 352x640 8 cars, 5 buss, 2 trucks, 159.7ms\n",
      "Speed: 2.0ms pre-process, 159.7ms inference, 1.0ms postprocess per image at shape (1, 3, 640, 640)\n",
      "\n",
      "0: 352x640 11 cars, 6 buss, 1 truck, 161.6ms\n",
      "Speed: 1.0ms pre-process, 161.6ms inference, 2.4ms postprocess per image at shape (1, 3, 640, 640)\n",
      "\n",
      "0: 352x640 12 cars, 6 buss, 1 truck, 157.6ms\n",
      "Speed: 1.0ms pre-process, 157.6ms inference, 3.1ms postprocess per image at shape (1, 3, 640, 640)\n",
      "\n",
      "0: 352x640 12 cars, 5 buss, 1 truck, 201.4ms\n",
      "Speed: 1.0ms pre-process, 201.4ms inference, 3.3ms postprocess per image at shape (1, 3, 640, 640)\n",
      "\n",
      "0: 352x640 14 cars, 5 buss, 1 truck, 193.3ms\n",
      "Speed: 1.0ms pre-process, 193.3ms inference, 3.0ms postprocess per image at shape (1, 3, 640, 640)\n",
      "\n",
      "0: 352x640 1 person, 12 cars, 4 buss, 1 truck, 154.0ms\n",
      "Speed: 1.0ms pre-process, 154.0ms inference, 2.2ms postprocess per image at shape (1, 3, 640, 640)\n",
      "\n",
      "0: 352x640 1 person, 14 cars, 3 buss, 1 truck, 157.3ms\n",
      "Speed: 1.0ms pre-process, 157.3ms inference, 3.6ms postprocess per image at shape (1, 3, 640, 640)\n",
      "\n",
      "0: 352x640 1 person, 16 cars, 3 buss, 2 trucks, 172.4ms\n",
      "Speed: 2.1ms pre-process, 172.4ms inference, 2.1ms postprocess per image at shape (1, 3, 640, 640)\n",
      "\n",
      "0: 352x640 13 cars, 4 buss, 2 trucks, 206.1ms\n",
      "Speed: 2.0ms pre-process, 206.1ms inference, 4.0ms postprocess per image at shape (1, 3, 640, 640)\n",
      "\n",
      "0: 352x640 1 person, 14 cars, 3 buss, 1 truck, 198.3ms\n",
      "Speed: 2.0ms pre-process, 198.3ms inference, 2.4ms postprocess per image at shape (1, 3, 640, 640)\n",
      "\n",
      "0: 352x640 1 person, 11 cars, 3 buss, 1 truck, 173.5ms\n",
      "Speed: 1.0ms pre-process, 173.5ms inference, 1.7ms postprocess per image at shape (1, 3, 640, 640)\n",
      "\n",
      "0: 352x640 1 person, 11 cars, 5 buss, 1 truck, 157.7ms\n",
      "Speed: 1.0ms pre-process, 157.7ms inference, 1.1ms postprocess per image at shape (1, 3, 640, 640)\n",
      "\n",
      "0: 352x640 2 persons, 14 cars, 4 buss, 1 truck, 200.2ms\n",
      "Speed: 0.0ms pre-process, 200.2ms inference, 2.0ms postprocess per image at shape (1, 3, 640, 640)\n",
      "\n",
      "0: 352x640 2 persons, 12 cars, 5 buss, 161.8ms\n",
      "Speed: 1.0ms pre-process, 161.8ms inference, 2.1ms postprocess per image at shape (1, 3, 640, 640)\n",
      "\n",
      "0: 352x640 2 persons, 12 cars, 4 buss, 180.0ms\n",
      "Speed: 0.9ms pre-process, 180.0ms inference, 2.0ms postprocess per image at shape (1, 3, 640, 640)\n",
      "\n",
      "0: 352x640 2 persons, 15 cars, 4 buss, 145.1ms\n",
      "Speed: 1.0ms pre-process, 145.1ms inference, 2.0ms postprocess per image at shape (1, 3, 640, 640)\n",
      "\n",
      "0: 352x640 2 persons, 13 cars, 4 buss, 131.9ms\n",
      "Speed: 1.0ms pre-process, 131.9ms inference, 1.0ms postprocess per image at shape (1, 3, 640, 640)\n",
      "\n",
      "0: 352x640 2 persons, 12 cars, 3 buss, 1 truck, 151.0ms\n",
      "Speed: 1.0ms pre-process, 151.0ms inference, 1.0ms postprocess per image at shape (1, 3, 640, 640)\n",
      "\n",
      "0: 352x640 2 persons, 11 cars, 3 buss, 1 truck, 153.4ms\n",
      "Speed: 1.0ms pre-process, 153.4ms inference, 1.0ms postprocess per image at shape (1, 3, 640, 640)\n",
      "\n",
      "0: 352x640 2 persons, 12 cars, 3 buss, 1 truck, 138.4ms\n",
      "Speed: 1.1ms pre-process, 138.4ms inference, 3.0ms postprocess per image at shape (1, 3, 640, 640)\n",
      "\n",
      "0: 352x640 2 persons, 13 cars, 3 buss, 144.8ms\n",
      "Speed: 0.9ms pre-process, 144.8ms inference, 2.2ms postprocess per image at shape (1, 3, 640, 640)\n",
      "\n",
      "0: 352x640 1 person, 13 cars, 3 buss, 1 truck, 151.3ms\n",
      "Speed: 0.0ms pre-process, 151.3ms inference, 0.0ms postprocess per image at shape (1, 3, 640, 640)\n",
      "\n",
      "0: 352x640 2 persons, 12 cars, 2 buss, 1 truck, 159.6ms\n",
      "Speed: 1.0ms pre-process, 159.6ms inference, 2.0ms postprocess per image at shape (1, 3, 640, 640)\n",
      "\n",
      "0: 352x640 2 persons, 12 cars, 2 buss, 1 truck, 133.3ms\n",
      "Speed: 1.0ms pre-process, 133.3ms inference, 2.1ms postprocess per image at shape (1, 3, 640, 640)\n"
     ]
    }
   ],
   "source": [
    "# from ultralytics import YOLO\n",
    "# from IPython.display import display, Image\n",
    "# import cv2\n",
    "# import numpy as np\n",
    "# # from object_detection import ObjectDetection\n",
    "# import math\n",
    "# from sort import *\n",
    "\n",
    "classNames = [\"person\", \"bicycle\", \"car\", \"motorbike\", \"aeroplane\", \"bus\", \"train\", \"truck\", \"boat\",\n",
    "              \"traffic light\", \"fire hydrant\", \"stop sign\", \"parking meter\", \"bench\", \"bird\", \"cat\",\n",
    "              \"dog\", \"horse\", \"sheep\", \"cow\", \"elephant\", \"bear\", \"zebra\", \"giraffe\", \"backpack\", \"umbrella\",\n",
    "              \"handbag\", \"tie\", \"suitcase\", \"frisbee\", \"skis\", \"snowboard\", \"sports ball\", \"kite\", \"baseball bat\",\n",
    "              \"baseball glove\", \"skateboard\", \"surfboard\", \"tennis racket\", \"bottle\", \"wine glass\", \"cup\",\n",
    "              \"fork\", \"knife\", \"spoon\", \"bowl\", \"banana\", \"apple\", \"sandwich\", \"orange\", \"broccoli\",\n",
    "              \"carrot\", \"hot dog\", \"pizza\", \"donut\", \"cake\", \"chair\", \"sofa\", \"pottedplant\", \"bed\",\n",
    "              \"diningtable\", \"toilet\", \"tvmonitor\", \"laptop\", \"mouse\", \"remote\", \"keyboard\", \"cell phone\",\n",
    "              \"microwave\", \"oven\", \"toaster\", \"sink\", \"refrigerator\", \"book\", \"clock\", \"vase\", \"scissors\",\n",
    "              \"teddy bear\", \"hair drier\", \"toothbrush\"\n",
    "              ]\n",
    "\n",
    "def dist(P, A, B):\n",
    "    area = abs ( (A[0] - P[0]) * (B[1] - P[1]) - (A[1] - P[1]) * (B[0] - P[0]) )\n",
    "    AB = ( (A[0] - B[0]) ** 2 + (A[1] - B[1]) ** 2 ) ** 0.5\n",
    "    return ( area / AB )\n",
    "\n",
    "f1_A=(388,821)\n",
    "f1_B=(661,404) #distance 40\n",
    "\n",
    "f2_A=(582, 876) #id 194\n",
    "f2_B=(703, 415) #id 91 distance 30\n",
    "\n",
    "f3_A=(782, 865) #id 60\n",
    "f3_B=(743, 417) #id 30  distance 30\n",
    "\n",
    "f4_A=(999, 866) #id 105\n",
    "f4_B=(789, 417)  #id 85  distacne 30\n",
    "\n",
    "f5_A=(1183, 850) #id 4\n",
    "f5_B=(846, 429) #id 29 distance 30\n",
    "\n",
    "# Initialize Object Detection\n",
    "# od = ObjectDetection()\n",
    "model = YOLO('yolov8n.pt')\n",
    "cap = cv2.VideoCapture(\"2.mp4\")\n",
    "\n",
    "frameWidth = int(cap.get(cv2.CAP_PROP_FRAME_WIDTH))\t# 영상의 넓이(가로) 프레임\n",
    "frameHeight = int(cap.get(cv2.CAP_PROP_FRAME_HEIGHT))\t# 영상의 높이(세로) 프레임\n",
    "frame_size = (frameWidth, frameHeight)\n",
    "\n",
    "print(frame_size)\n",
    "# Initialize count\n",
    "count = 0\n",
    "center_points_prev_frame = []\n",
    "\n",
    "danger_car_id=[]\n",
    "\n",
    "tracking_objects = {}\n",
    "track_id = 0\n",
    "\n",
    "tracker = Sort(max_age=10, min_hits=3, iou_threshold=0.3)\n",
    "mask = cv2.imread(\"mask.png\")\n",
    "\n",
    "while True:\n",
    "    retval, frame = cap.read()\n",
    "    # imgRegion = cv2.bitwise_and(frame,mask)\n",
    "    count += 1\n",
    "    if not(retval):\n",
    "        break\n",
    "\n",
    "    # Point current frame\n",
    "    center_points_cur_frame = []\n",
    "\n",
    "    # Detect objects on frame\n",
    "    results = model(frame,stream=True)\n",
    "    detections = np.empty((0,5))\n",
    "    \n",
    "    for r in results:\n",
    "        boxes = r.boxes\n",
    "        for box in boxes:\n",
    "            x1, y1, x2, y2 = box.xyxy[0]\n",
    "            x1, y1, x2, y2 = int(x1), int(y1), int(x2), int(y2)\n",
    "            cx = int((x1+x2) / 2)\n",
    "            cy = int((y1+y2) / 2)\n",
    "            center_points_cur_frame.append((cx, cy, 'Danger!'))\n",
    "            conf = math.ceil((box.conf[0]*100)) / 100\n",
    "            cls = int(box.cls[0])\n",
    "            currentClass = classNames[cls]\n",
    "            #print(\"FRAME N°\", count, \" \", x, y, w, h)\n",
    "            # cv2.circle(frame, (cx, cy), 5, (0, 0, 255), -1)\n",
    "            if currentClass == \"car\" or currentClass == \"truck\" or currentClass == \"bus\" \\\n",
    "                    or currentClass == \"motorbike\" or currentClass == \"person\" and conf > 0.3:\n",
    "                cv2.rectangle(frame, (x1, y1), (x2,y2), (0, 255, 0), 2) \n",
    "                currentArray = np.array([x1,y1,x2,y2,conf])\n",
    "                detections = np.vstack((detections,currentArray))\n",
    "\n",
    "    # Only at the beginning we compare previous and current frame\n",
    "    \n",
    "\n",
    "    resultsTracker=tracker.update(detections)\n",
    "    \n",
    "    for result in resultsTracker:\n",
    "        x1,y1,x2,y2,Id = result\n",
    "        cx = int((x1+x2) / 2)\n",
    "        cy = int((y1+y2) / 2)\n",
    "        Id = int(Id)\n",
    "        # print(cx,cy,Id)\n",
    "                \n",
    "    # for object_id, pt in tracking_objects.items():\n",
    "        # if dist((cx,cy), f1_A, f1_B) < 30:\n",
    "        #     tracking_objects[Id]=(cx,cy,'f1')\n",
    "        \n",
    "        # elif dist((cx,cy), f2_A, f2_B) < 30:\n",
    "        #     tracking_objects[Id]=(cx,cy,'f2')\n",
    "            \n",
    "        # elif dist((cx,cy), f3_A, f3_B) < 30:\n",
    "        #     tracking_objects[Id]=(cx,cy,'f3')\n",
    "        \n",
    "        # elif dist((cx,cy), f4_A, f4_B) < 30:\n",
    "        #     tracking_objects[Id]=(cx,cy,'f4')\n",
    "        \n",
    "        # elif dist((cx,cy), f5_A, f5_B) < 30:\n",
    "        #     tracking_objects[Id]=(cx,cy,'f5')\n",
    "        \n",
    "        # else:\n",
    "        #     tracking_objects[Id]=(cx,cy,'Danger!')\n",
    "        \n",
    "            \n",
    "            \n",
    "    # for object_id, pt in tracking_objects.items():\n",
    "    #     tmp= pt[2]+'['+str(object_id)+']'\n",
    "    #     cv2.circle(frame, (pt[0],pt[1]), 5, (0, 0, 255), -1)\n",
    "    #     cv2.putText(frame, tmp, (pt[0], pt[1] - 7), 0, 0.8, (0, 0, 255), 2)\n",
    "        \n",
    "    #     if (pt[2]=='Danger!'):\n",
    "    #         danger_car_id.append(object_id)\n",
    "            \n",
    "                \n",
    "    \n",
    "    \n",
    "\n",
    "    # print(\"Tracking objects\")\n",
    "    # # print(tracking_objects)\n",
    "\n",
    "\n",
    "    # print(\"CUR FRAME LEFT PTS\")\n",
    "    # print(center_points_cur_frame)\n",
    "    \n",
    "#     cv2.circle(frame, (1,1), 5, (0, 0, 255), -1)\n",
    "    cv2.imshow(\"Frame\", frame)\n",
    "    # cv2.imshow(\"ImageFrame\",imgRegion)\n",
    "    # Make a copy of the points\n",
    "    center_points_prev_frame = center_points_cur_frame.copy()\n",
    "\n",
    "    key = cv2.waitKey(0)\n",
    "    if key == 27:\n",
    "        break\n",
    "\n",
    "\n",
    "\n",
    "cap.release()\n",
    "cv2.destroyAllWindows()\n"
   ]
  }
 ],
 "metadata": {
  "kernelspec": {
   "display_name": "base",
   "language": "python",
   "name": "python3"
  },
  "language_info": {
   "codemirror_mode": {
    "name": "ipython",
    "version": 3
   },
   "file_extension": ".py",
   "mimetype": "text/x-python",
   "name": "python",
   "nbconvert_exporter": "python",
   "pygments_lexer": "ipython3",
   "version": "3.10.9"
  }
 },
 "nbformat": 4,
 "nbformat_minor": 2
}
